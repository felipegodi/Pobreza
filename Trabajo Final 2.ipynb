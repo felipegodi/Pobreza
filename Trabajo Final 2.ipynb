{
 "cells": [
  {
   "cell_type": "code",
   "execution_count": 1,
   "id": "906d3a9f",
   "metadata": {},
   "outputs": [],
   "source": [
    "import os\n",
    "import re\n",
    "import string\n",
    "import pandas as pd\n",
    "import matplotlib.pyplot as plt\n",
    "from datetime import datetime\n",
    "import seaborn as sns\n",
    "import numpy as np\n",
    "from sklearn import datasets\n",
    "from sklearn import preprocessing\n",
    "from sklearn.linear_model import LogisticRegression\n",
    "from sklearn.linear_model import LinearRegression\n",
    "from sklearn.linear_model import Ridge\n",
    "from sklearn.linear_model import Lasso\n",
    "from sklearn.linear_model import ElasticNet\n",
    "from sklearn.linear_model import RidgeCV\n",
    "from sklearn.linear_model import LassoCV\n",
    "from sklearn.linear_model import ElasticNetCV\n",
    "from sklearn.tree import DecisionTreeClassifier\n",
    "from sklearn.model_selection import train_test_split\n",
    "from sklearn.metrics import confusion_matrix\n",
    "from sklearn.metrics import accuracy_score \n",
    "from sklearn.metrics import roc_curve\n",
    "from sklearn.metrics import roc_auc_score\n",
    "from sklearn.metrics import RocCurveDisplay\n",
    "from sklearn.metrics import plot_roc_curve\n",
    "from sklearn.metrics import mean_squared_error\n",
    "from sklearn.tree import DecisionTreeClassifier\n",
    "from sklearn import metrics\n",
    "from sklearn.svm import SVC\n",
    "from sklearn.pipeline import make_pipeline\n",
    "from sklearn.preprocessing import StandardScaler\n",
    "from sklearn.ensemble import BaggingClassifier\n",
    "from sklearn.datasets import make_classification\n",
    "from sklearn.ensemble import RandomForestClassifier\n",
    "from sklearn.ensemble import GradientBoostingClassifier\n",
    "from sklearn.model_selection import KFold\n",
    "from sklearn.discriminant_analysis import LinearDiscriminantAnalysis\n",
    "from sklearn.discriminant_analysis import LinearDiscriminantAnalysis\n",
    "from sklearn.discriminant_analysis import QuadraticDiscriminantAnalysis\n",
    "from sklearn.neighbors import KNeighborsClassifier\n",
    "from scipy.special import expit"
   ]
  },
  {
   "cell_type": "code",
   "execution_count": 2,
   "id": "d718a0b6",
   "metadata": {
    "scrolled": true
   },
   "outputs": [
    {
     "name": "stderr",
     "output_type": "stream",
     "text": [
      "C:\\Users\\felip\\anaconda3\\lib\\site-packages\\IPython\\core\\interactiveshell.py:3165: DtypeWarning: Columns (102,179,182,187,207,209) have mixed types.Specify dtype option on import or set low_memory=False.\n",
      "  has_raised = await self.run_ast_nodes(code_ast.body, cell_name,\n"
     ]
    }
   ],
   "source": [
    "# Cargo el excel de la EPH\n",
    "eph_todo = pd.read_csv(\"eph_panel.csv\")"
   ]
  },
  {
   "cell_type": "code",
   "execution_count": 3,
   "id": "45106da9",
   "metadata": {},
   "outputs": [],
   "source": [
    "eph_todo = eph_todo.drop_duplicates(subset=[\"CODUSU\",\"COMPONENTE\",\"ANO4\",\"TRIMESTRE\"])"
   ]
  },
  {
   "cell_type": "code",
   "execution_count": 4,
   "id": "9b55ca9b",
   "metadata": {},
   "outputs": [],
   "source": [
    "def limpiar_eph(eph):\n",
    "\n",
    "    '''\n",
    "        función para limpiar la eph\n",
    "        input:\n",
    "            eph: Variable que tenga almacenada la eph sin limpiar\n",
    "\n",
    "        output:\n",
    "            eph: Variable que tiene almacenada la eph limpia\n",
    "    '''\n",
    "    \n",
    "    eph.dropna(thresh = 1, inplace = True) # Si tiene todos NA, la fila se va\n",
    "    \n",
    "    eph.dropna(thresh = 1, axis = \"columns\", inplace = True) # Si la columna tiene todos NA, la columna se va\n",
    "    \n",
    "    try:\n",
    "        # Si no lo defino como uno me dropea un montón de filas que tienen NaN\n",
    "        eph.PP08D1 = eph.PP08D1.fillna(0)\n",
    "        # dropeo observaciones con valores que no tienen sentido. CH06 = edad, PP08D1, P21, P47T, ITF y IPCF son todas variables\n",
    "        # de ingresos, no pueden ser menores a 0\n",
    "        eph.fillna(0, inplace = True) # Relleno todos con 0 los missing de las columnas que representan subcategorías en\n",
    "        #las que solo respondieron algunos. \n",
    "        eph.reset_index(inplace = True, drop = True)  \n",
    "    except:\n",
    "        print(\"No se encontró alguna columna, revisar\")   "
   ]
  },
  {
   "cell_type": "code",
   "execution_count": 5,
   "id": "750409c0",
   "metadata": {},
   "outputs": [],
   "source": [
    "columnas_ing = [\"CODUSU\",\"ANO4\",\"TRIMESTRE\",\"COMPONENTE\",\"AGLOMERADO\",\"MAS_500\",\"CH04\",\"CH06\",\"CH08\",\"PP02E\",\n",
    "\"CH09\",\"CH10\",\"CH11\",\"CH12\",\"CH13\",\"CH15\",\"CH07\",\"CH16\",\"NIVEL_ED\",\"ESTADO\",\"CAT_OCUP\",\"CAT_INAC\",\"PP04B3_ANO\",\n",
    "\"PP03G\",\"PP03I\",\"INTENSI\",\"PP11T\",\"PP11S\",\"PP11O\",\"PP11N\",\"PP11L1\",\"PP10D\",\"PP10A\",\"PP10C\",\"PP07H\",\"PP07G4\",\"PP11A\",\n",
    "\"PP10E\",\"PP09C\",\"PP07K\",\"PP07G_59\",\"PP07G2\",\"PP07G1\",\"PP07C\",\"PP07A\",\"PP05H\",\"PP04G\",\"IV2\",\"IV11\",\"IV12_3\",\"IV1\", \n",
    "\"PONDERA\",\"II7\",\"II8\",\"II9\",\"V5\",\"V17\",\"IV3\",\"V4\",\"IV6\",\"IV7\",\"IV8\",\"IV9\",\"V3\",\"V6\",\"V8\",\"PP02I\",\"PP3E_TOT\",\"PP3F_TOT\",\n",
    "\"IV10\",\"IV11\",\"II4_1\",\"II4_2\",\"II4_3\",\"V1\",\"V2\",\"V9\",\"V10\",\"V13\",\"V14\",\"V15\",\"V18\",\"IX_TOT\",\"IX_MEN10\",\"ITF\",\"DECIFR\",\n",
    "\"ADECIFR\",\"IPCF\",\"DECCFR\",\"ADECCFR\",\"PONDIH\",\"PP08D1\",\"P21\",\"DECOCUR\",\"TOT_P12\",\"P47T\"]\n",
    "\n",
    "columnas = [\"CODUSU\",\"ANO4\",\"TRIMESTRE\",\"COMPONENTE\",\"AGLOMERADO\",\"MAS_500\",\"CH04\",\"CH06\",\"CH08\",\"PP02E\",\"PP02I\",\n",
    "\"CH09\",\"CH10\",\"CH11\",\"CH12\",\"CH13\",\"CH15\",\"CH07\",\"CH16\",\"NIVEL_ED\",\"ESTADO\",\"CAT_OCUP\",\"CAT_INAC\",\"PP04B3_ANO\",\n",
    "\"PP03G\",\"PP03I\",\"INTENSI\",\"PP11T\",\"PP11S\",\"PP11O\",\"PP11N\",\"PP11L1\",\"PP10D\",\"PP10A\",\"PP10C\",\"PP07H\",\"PP07G4\",\"PP11A\",\n",
    "\"PP10E\",\"PP09C\",\"PP07K\",\"PP07G_59\",\"PP07G2\",\"PP07G1\",\"PP07C\",\"PP07A\",\"PP05H\",\"PP04G\",\"IV2\",\"IV11\",\"IV12_3\",\"IV1\", \n",
    "\"PONDERA\",\"II7\",\"II8\",\"II9\",\"V5\",\"V17\",\"IV3\",\"V4\",\"IV6\",\"IV7\",\"IV8\",\"IV9\",\"V3\",\"V6\",\"V8\",\"PP3E_TOT\",\"PP3F_TOT\",\n",
    "\"IV10\",\"IV11\",\"II4_1\",\"II4_2\",\"II4_3\",\"V1\",\"V2\",\"V9\",\"V10\",\"V13\",\"V14\",\"V15\",\"V18\",\"IX_TOT\",\"IX_MEN10\"]"
   ]
  },
  {
   "cell_type": "code",
   "execution_count": 6,
   "id": "b2a63561",
   "metadata": {},
   "outputs": [],
   "source": [
    "eph = eph_todo[columnas_ing]"
   ]
  },
  {
   "cell_type": "code",
   "execution_count": 7,
   "id": "c8ea6d9f",
   "metadata": {
    "scrolled": true
   },
   "outputs": [
    {
     "name": "stderr",
     "output_type": "stream",
     "text": [
      "<ipython-input-4-7d9f8ee8e7f0>:12: SettingWithCopyWarning: \n",
      "A value is trying to be set on a copy of a slice from a DataFrame\n",
      "\n",
      "See the caveats in the documentation: https://pandas.pydata.org/pandas-docs/stable/user_guide/indexing.html#returning-a-view-versus-a-copy\n",
      "  eph.dropna(thresh = 1, inplace = True) # Si tiene todos NA, la fila se va\n",
      "<ipython-input-4-7d9f8ee8e7f0>:14: SettingWithCopyWarning: \n",
      "A value is trying to be set on a copy of a slice from a DataFrame\n",
      "\n",
      "See the caveats in the documentation: https://pandas.pydata.org/pandas-docs/stable/user_guide/indexing.html#returning-a-view-versus-a-copy\n",
      "  eph.dropna(thresh = 1, axis = \"columns\", inplace = True) # Si la columna tiene todos NA, la columna se va\n",
      "C:\\Users\\felip\\anaconda3\\lib\\site-packages\\pandas\\core\\generic.py:5494: SettingWithCopyWarning: \n",
      "A value is trying to be set on a copy of a slice from a DataFrame.\n",
      "Try using .loc[row_indexer,col_indexer] = value instead\n",
      "\n",
      "See the caveats in the documentation: https://pandas.pydata.org/pandas-docs/stable/user_guide/indexing.html#returning-a-view-versus-a-copy\n",
      "  self[name] = value\n",
      "C:\\Users\\felip\\anaconda3\\lib\\site-packages\\pandas\\core\\frame.py:4462: SettingWithCopyWarning: \n",
      "A value is trying to be set on a copy of a slice from a DataFrame\n",
      "\n",
      "See the caveats in the documentation: https://pandas.pydata.org/pandas-docs/stable/user_guide/indexing.html#returning-a-view-versus-a-copy\n",
      "  return super().fillna(\n"
     ]
    }
   ],
   "source": [
    "limpiar_eph(eph)"
   ]
  },
  {
   "cell_type": "code",
   "execution_count": 8,
   "id": "52b33667",
   "metadata": {
    "scrolled": true
   },
   "outputs": [
    {
     "name": "stderr",
     "output_type": "stream",
     "text": [
      "<ipython-input-8-4366311f0076>:1: SettingWithCopyWarning: \n",
      "A value is trying to be set on a copy of a slice from a DataFrame.\n",
      "Try using .loc[row_indexer,col_indexer] = value instead\n",
      "\n",
      "See the caveats in the documentation: https://pandas.pydata.org/pandas-docs/stable/user_guide/indexing.html#returning-a-view-versus-a-copy\n",
      "  eph[\"CH06\"] = eph[\"CH06\"].replace(-1, 35)\n"
     ]
    }
   ],
   "source": [
    "eph[\"CH06\"] = eph[\"CH06\"].replace(-1, 35)"
   ]
  },
  {
   "cell_type": "code",
   "execution_count": 9,
   "id": "ebb57a77",
   "metadata": {
    "scrolled": true
   },
   "outputs": [
    {
     "name": "stderr",
     "output_type": "stream",
     "text": [
      "<ipython-input-9-7bbed948d211>:8: SettingWithCopyWarning: \n",
      "A value is trying to be set on a copy of a slice from a DataFrame.\n",
      "Try using .loc[row_indexer,col_indexer] = value instead\n",
      "\n",
      "See the caveats in the documentation: https://pandas.pydata.org/pandas-docs/stable/user_guide/indexing.html#returning-a-view-versus-a-copy\n",
      "  eph[\"adulto_equiv\"] = 0\n",
      "<ipython-input-9-7bbed948d211>:10: SettingWithCopyWarning: \n",
      "A value is trying to be set on a copy of a slice from a DataFrame.\n",
      "Try using .loc[row_indexer,col_indexer] = value instead\n",
      "\n",
      "See the caveats in the documentation: https://pandas.pydata.org/pandas-docs/stable/user_guide/indexing.html#returning-a-view-versus-a-copy\n",
      "  eph[\"lista\"] = 0\n",
      "C:\\Users\\felip\\anaconda3\\lib\\site-packages\\pandas\\core\\indexing.py:1720: SettingWithCopyWarning: \n",
      "A value is trying to be set on a copy of a slice from a DataFrame.\n",
      "Try using .loc[row_indexer,col_indexer] = value instead\n",
      "\n",
      "See the caveats in the documentation: https://pandas.pydata.org/pandas-docs/stable/user_guide/indexing.html#returning-a-view-versus-a-copy\n",
      "  self._setitem_single_column(loc, value, pi)\n",
      "C:\\Users\\felip\\anaconda3\\lib\\site-packages\\pandas\\core\\frame.py:4308: SettingWithCopyWarning: \n",
      "A value is trying to be set on a copy of a slice from a DataFrame\n",
      "\n",
      "See the caveats in the documentation: https://pandas.pydata.org/pandas-docs/stable/user_guide/indexing.html#returning-a-view-versus-a-copy\n",
      "  return super().drop(\n"
     ]
    }
   ],
   "source": [
    "#Importamos la tabla de excel\n",
    "tabla_adulto = pd.read_excel(\"tabla_adulto_equiv.xlsx\", header = 3)\n",
    "#Ajustamos el formato de la tabla \n",
    "tabla_adulto.dropna(axis = 1, inplace = True, thresh = 10)\n",
    "tabla_adulto.dropna(inplace = True, thresh = 3)\n",
    "tabla_adulto.reset_index(inplace = True, drop = True)\n",
    "#Creamos la columna \"adulto_equiv\" como una columna de ceros\n",
    "eph[\"adulto_equiv\"] = 0\n",
    "#Generamos una nueva columna llamada lista como una columna de ceros \n",
    "eph[\"lista\"] = 0\n",
    "#Iteramos por filas\n",
    "#Para cada fila del data frame de acuerdo a la edad le indicamos que \n",
    "#la celda de la columna \"lista\" la complete con el número correspondiente \n",
    "#al índice de la tabla_adulto. \n",
    "#Por ejemplo, si la edad es menor a 30 entonces se asigna el numero 18 que es\n",
    "#el índice de la fila de 18 a 29 años. \n",
    "for i in eph.index:\n",
    "    if eph.loc[i, \"CH06\"] < 19:\n",
    "        eph.loc[i, \"lista\"] = eph.loc[i, \"CH06\"]\n",
    "    elif eph.loc[i, \"CH06\"] < 30:\n",
    "        eph.loc[i, \"lista\"] = 18\n",
    "    elif eph.loc[i, \"CH06\"] < 46:\n",
    "        eph.loc[i, \"lista\"] = 19\n",
    "    elif eph.loc[i, \"CH06\"] < 61:\n",
    "        eph.loc[i, \"lista\"] = 20\n",
    "    elif eph.loc[i, \"CH06\"] < 76:\n",
    "        eph.loc[i, \"lista\"] = 21\n",
    "    else:\n",
    "        eph.loc[i, \"lista\"] = 22\n",
    "#CH06 = edad, CH04 = Sexo (1 = varon y 2 = mujer)\n",
    "#Para cada fila del dataframe si el individuo es varón entonces le indicamos que bajo \n",
    "#la columna \"adulto_equiv\" coloque la siguiente celda de tabla_adulto: \n",
    "# Fila: el índice que esta guardado en la columna \"lista\" en el df eph. \n",
    "# Columna: Varones \n",
    "#idem para las mujeres\n",
    "#De este modo se obtienen los valores de adulto equivalente de cada persona según \n",
    "#su sexo y edad\n",
    "for i in eph.index:\n",
    "    if eph.loc[i, \"CH04\"] == 1:\n",
    "        eph.loc[i, \"adulto_equiv\"] = tabla_adulto.loc[eph.loc[i, \"lista\"], \"Varones\"]\n",
    "    elif eph.loc[i, \"CH04\"] == 2:\n",
    "        eph.loc[i, \"adulto_equiv\"] = tabla_adulto.loc[eph.loc[i, \"lista\"], \"Mujeres\"]\n",
    "#Eliminamos la columna \"lista\"\n",
    "eph.drop(\"lista\", axis = 1, inplace = True)\n",
    "#Realizamos un groupby: para cada hogar sumamos \"adulto_equiv\"\n",
    "ad_equiv_hogar = eph[[\"CODUSU\",\"ANO4\",\"TRIMESTRE\",\"adulto_equiv\"]].groupby([\"CODUSU\",\"ANO4\",\"TRIMESTRE\"]).sum()\n",
    "ad_equiv_hogar.reset_index(inplace = True)\n",
    "#cambiamos los nombres de las columnas\n",
    "ad_equiv_hogar.columns = [\"CODUSU\",\"ANO4\",\"TRIMESTRE\",\"ad_equiv_hogar\"]\n",
    "#agregamos la columnna \"ad_equiv_hogar\" al df eph\n",
    "eph = eph.merge(ad_equiv_hogar, on = [\"CODUSU\",\"ANO4\",\"TRIMESTRE\"], how = \"left\")"
   ]
  },
  {
   "cell_type": "code",
   "execution_count": 10,
   "id": "0b355874",
   "metadata": {},
   "outputs": [],
   "source": [
    "# Dividimos la muestra de la EPH en gente que no respondió ingresos totales familiares (ITF) y los que sí.\n",
    "norespondieron = eph[eph[\"ITF\"] <= 0]\n",
    "norespondieron.reset_index(inplace = True, drop = True)\n",
    "respondieron = eph[eph[\"ITF\"] > 0]\n",
    "respondieron.reset_index(inplace = True, drop = True)"
   ]
  },
  {
   "cell_type": "code",
   "execution_count": 11,
   "id": "e84dbf41",
   "metadata": {
    "scrolled": true
   },
   "outputs": [],
   "source": [
    "test = respondieron.groupby([\"CODUSU\",\"COMPONENTE\"]).agg({\"ANO4\":\"count\"})\n",
    "test.reset_index(inplace = True)\n",
    "test.rename(columns={'ANO4': 'aparece'}, inplace=True)\n",
    "respondieron = respondieron.merge(test, on = [\"CODUSU\",\"COMPONENTE\"], how = \"left\")\n",
    "respondieron = respondieron[respondieron[\"aparece\"]==4]\n",
    "respondieron.drop(\"aparece\",axis=1,inplace=True)"
   ]
  },
  {
   "cell_type": "code",
   "execution_count": 12,
   "id": "d743da66",
   "metadata": {
    "scrolled": true
   },
   "outputs": [],
   "source": [
    "# Ingresos mínimos por trimestre, hice un promedio del CBT por trimestre.\n",
    "im_2t_2016 = 3812\n",
    "im_3t_2016 = 4055\n",
    "im_4t_2016 = 4232\n",
    "im_1t_2017 = 4432\n",
    "im_2t_2017 = 4744\n",
    "im_3t_2017 = 4932\n",
    "im_4t_2017 = 5219\n",
    "\n",
    "# Creamos una columna de ingreso necesario para no ser pobre y la rellenamos con el for loop teniendo en cuenta el año\n",
    "# y trimestre. Toma valores dependiendo de la columna ad_equiv_hogar * ingreso minimo per cápita.\n",
    "respondieron[\"ingreso_necesario\"] = 0\n",
    "for i in respondieron.index:\n",
    "    if (respondieron.loc[i, \"ANO4\"] == 2016) & (respondieron.loc[i, \"TRIMESTRE\"] == 2):\n",
    "        respondieron.loc[i, \"ingreso_necesario\"] = im_2t_2016 * respondieron.loc[i,\"ad_equiv_hogar\"]\n",
    "    elif (respondieron.loc[i, \"ANO4\"] == 2016) & (respondieron.loc[i, \"TRIMESTRE\"] == 3):\n",
    "        respondieron.loc[i, \"ingreso_necesario\"] = im_3t_2016 * respondieron.loc[i,\"ad_equiv_hogar\"]\n",
    "    elif (respondieron.loc[i, \"ANO4\"] == 2016) & (respondieron.loc[i, \"TRIMESTRE\"] == 4):\n",
    "        respondieron.loc[i, \"ingreso_necesario\"] = im_4t_2016 * respondieron.loc[i,\"ad_equiv_hogar\"]\n",
    "    elif (respondieron.loc[i, \"ANO4\"] == 2017) & (respondieron.loc[i, \"TRIMESTRE\"] == 1):\n",
    "        respondieron.loc[i, \"ingreso_necesario\"] = im_1t_2017 * respondieron.loc[i,\"ad_equiv_hogar\"]\n",
    "    elif (respondieron.loc[i, \"ANO4\"] == 2017) & (respondieron.loc[i, \"TRIMESTRE\"] == 2):\n",
    "        respondieron.loc[i, \"ingreso_necesario\"] = im_2t_2017 * respondieron.loc[i,\"ad_equiv_hogar\"]\n",
    "    elif (respondieron.loc[i, \"ANO4\"] == 2017) & (respondieron.loc[i, \"TRIMESTRE\"] == 3):\n",
    "        respondieron.loc[i, \"ingreso_necesario\"] = im_3t_2017 * respondieron.loc[i,\"ad_equiv_hogar\"]\n",
    "    elif (respondieron.loc[i, \"ANO4\"] == 2017) & (respondieron.loc[i, \"TRIMESTRE\"] == 4):\n",
    "        respondieron.loc[i, \"ingreso_necesario\"] = im_4t_2017 * respondieron.loc[i,\"ad_equiv_hogar\"]\n",
    "        \n",
    "# Creamos una columna dummy, que dice si el individuo es pobre o no. Depende de si sus ingresos\n",
    "# son mayores a ingreso_necesario\n",
    "respondieron[\"pobre\"] = (respondieron[\"ITF\"] < respondieron[\"ingreso_necesario\"]).astype(int)"
   ]
  },
  {
   "cell_type": "markdown",
   "id": "86c363ff",
   "metadata": {},
   "source": [
    "# Estadística descriptiva"
   ]
  },
  {
   "cell_type": "code",
   "execution_count": 13,
   "id": "977cc8fd",
   "metadata": {},
   "outputs": [],
   "source": [
    "eph_pob = respondieron.groupby([\"CODUSU\",\"ANO4\",\"TRIMESTRE\"]).agg({\"PONDIH\":\"mean\",\"pobre\":\"mean\"})\n",
    "eph_pob.reset_index(inplace=True)\n",
    "pon_pob_t2_16 = eph_pob[(eph_pob[\"pobre\"] == 1) & (eph_pob[\"TRIMESTRE\"] == 2) & \n",
    "                        (eph_pob[\"ANO4\"] == 2016)].apply({\"PONDIH\":\"sum\"})\n",
    "pon_pob_t3_16 = eph_pob[(eph_pob[\"pobre\"] == 1) & (eph_pob[\"TRIMESTRE\"] == 3) & \n",
    "                        (eph_pob[\"ANO4\"] == 2016)].apply({\"PONDIH\":\"sum\"})\n",
    "pon_pob_t4_16 = eph_pob[(eph_pob[\"pobre\"] == 1) & (eph_pob[\"TRIMESTRE\"] == 4) & \n",
    "                        (eph_pob[\"ANO4\"] == 2016)].apply({\"PONDIH\":\"sum\"})\n",
    "pon_pob_t2_17 = eph_pob[(eph_pob[\"pobre\"] == 1) & (eph_pob[\"TRIMESTRE\"] == 2) & \n",
    "                        (eph_pob[\"ANO4\"] == 2017)].apply({\"PONDIH\":\"sum\"})\n",
    "pon_pob_t3_17 = eph_pob[(eph_pob[\"pobre\"] == 1) & (eph_pob[\"TRIMESTRE\"] == 3) & \n",
    "                        (eph_pob[\"ANO4\"] == 2017)].apply({\"PONDIH\":\"sum\"})\n",
    "pon_pob_t4_17 = eph_pob[(eph_pob[\"pobre\"] == 1) & (eph_pob[\"TRIMESTRE\"] == 4) & \n",
    "                        (eph_pob[\"ANO4\"] == 2017)].apply({\"PONDIH\":\"sum\"})\n",
    "pon_tot_t2_16 = eph_pob[(eph_pob[\"TRIMESTRE\"] == 2) & (eph_pob[\"ANO4\"] == 2016)].apply({\"PONDIH\":\"sum\"})\n",
    "pon_tot_t3_16 = eph_pob[(eph_pob[\"TRIMESTRE\"] == 3) & (eph_pob[\"ANO4\"] == 2016)].apply({\"PONDIH\":\"sum\"})\n",
    "pon_tot_t4_16 = eph_pob[(eph_pob[\"TRIMESTRE\"] == 4) & (eph_pob[\"ANO4\"] == 2016)].apply({\"PONDIH\":\"sum\"})\n",
    "pon_tot_t2_17 = eph_pob[(eph_pob[\"TRIMESTRE\"] == 2) & (eph_pob[\"ANO4\"] == 2017)].apply({\"PONDIH\":\"sum\"})\n",
    "pon_tot_t3_17 = eph_pob[(eph_pob[\"TRIMESTRE\"] == 3) & (eph_pob[\"ANO4\"] == 2017)].apply({\"PONDIH\":\"sum\"})\n",
    "pon_tot_t4_17 = eph_pob[(eph_pob[\"TRIMESTRE\"] == 4) & (eph_pob[\"ANO4\"] == 2017)].apply({\"PONDIH\":\"sum\"})\n",
    "ratio = {\"2016_t2\":pon_pob_t2_16.item()/pon_tot_t2_16.item(),\"2016_t3\":pon_pob_t3_16.item()/pon_tot_t3_16.item(),\n",
    "         \"2016_t4\":pon_pob_t4_16.item()/pon_tot_t4_16.item(),\"2017_t2\":pon_pob_t2_17.item()/pon_tot_t2_17.item(),\n",
    "         \"2017_t3\":pon_pob_t3_17.item()/pon_tot_t3_17.item(),\"2017_t4\":pon_pob_t4_17.item()/pon_tot_t4_17.item()}"
   ]
  },
  {
   "cell_type": "code",
   "execution_count": 14,
   "id": "eb1ee6cb",
   "metadata": {
    "scrolled": true
   },
   "outputs": [
    {
     "data": {
      "text/plain": [
       "15210"
      ]
     },
     "execution_count": 14,
     "metadata": {},
     "output_type": "execute_result"
    }
   ],
   "source": [
    "#Calculamos en cuantos trimestres en total individuos se encontraron en situación de Pobreza \n",
    "respondieron.pobre.sum()"
   ]
  },
  {
   "cell_type": "code",
   "execution_count": 15,
   "id": "1f5b5b9f",
   "metadata": {},
   "outputs": [],
   "source": [
    "gente_pobre = respondieron.groupby([\"CODUSU\",\"COMPONENTE\"]).agg({\"pobre\":\"max\"})"
   ]
  },
  {
   "cell_type": "code",
   "execution_count": 16,
   "id": "b491876d",
   "metadata": {},
   "outputs": [
    {
     "data": {
      "text/html": [
       "<div>\n",
       "<style scoped>\n",
       "    .dataframe tbody tr th:only-of-type {\n",
       "        vertical-align: middle;\n",
       "    }\n",
       "\n",
       "    .dataframe tbody tr th {\n",
       "        vertical-align: top;\n",
       "    }\n",
       "\n",
       "    .dataframe thead th {\n",
       "        text-align: right;\n",
       "    }\n",
       "</style>\n",
       "<table border=\"1\" class=\"dataframe\">\n",
       "  <thead>\n",
       "    <tr style=\"text-align: right;\">\n",
       "      <th></th>\n",
       "      <th></th>\n",
       "      <th>pobre</th>\n",
       "    </tr>\n",
       "    <tr>\n",
       "      <th>CODUSU</th>\n",
       "      <th>COMPONENTE</th>\n",
       "      <th></th>\n",
       "    </tr>\n",
       "  </thead>\n",
       "  <tbody>\n",
       "    <tr>\n",
       "      <th rowspan=\"2\" valign=\"top\">TQRMNOPPQHJKKTCDEHMHF00479193</th>\n",
       "      <th>1</th>\n",
       "      <td>0</td>\n",
       "    </tr>\n",
       "    <tr>\n",
       "      <th>2</th>\n",
       "      <td>0</td>\n",
       "    </tr>\n",
       "    <tr>\n",
       "      <th rowspan=\"3\" valign=\"top\">TQRMNOPPQHJMKRCDEFOCD00472238</th>\n",
       "      <th>1</th>\n",
       "      <td>1</td>\n",
       "    </tr>\n",
       "    <tr>\n",
       "      <th>2</th>\n",
       "      <td>1</td>\n",
       "    </tr>\n",
       "    <tr>\n",
       "      <th>3</th>\n",
       "      <td>1</td>\n",
       "    </tr>\n",
       "    <tr>\n",
       "      <th>...</th>\n",
       "      <th>...</th>\n",
       "      <td>...</td>\n",
       "    </tr>\n",
       "    <tr>\n",
       "      <th>TQUMNOPQUHJMLOCDEFMDB00471489</th>\n",
       "      <th>3</th>\n",
       "      <td>1</td>\n",
       "    </tr>\n",
       "    <tr>\n",
       "      <th rowspan=\"2\" valign=\"top\">TQUMNOPXSHKNKPCDEIHJF00494381</th>\n",
       "      <th>1</th>\n",
       "      <td>0</td>\n",
       "    </tr>\n",
       "    <tr>\n",
       "      <th>2</th>\n",
       "      <td>0</td>\n",
       "    </tr>\n",
       "    <tr>\n",
       "      <th rowspan=\"2\" valign=\"top\">TQVMNOPXSHKNKPCDEIHJF00494445</th>\n",
       "      <th>1</th>\n",
       "      <td>0</td>\n",
       "    </tr>\n",
       "    <tr>\n",
       "      <th>2</th>\n",
       "      <td>0</td>\n",
       "    </tr>\n",
       "  </tbody>\n",
       "</table>\n",
       "<p>11008 rows × 1 columns</p>\n",
       "</div>"
      ],
      "text/plain": [
       "                                          pobre\n",
       "CODUSU                        COMPONENTE       \n",
       "TQRMNOPPQHJKKTCDEHMHF00479193 1               0\n",
       "                              2               0\n",
       "TQRMNOPPQHJMKRCDEFOCD00472238 1               1\n",
       "                              2               1\n",
       "                              3               1\n",
       "...                                         ...\n",
       "TQUMNOPQUHJMLOCDEFMDB00471489 3               1\n",
       "TQUMNOPXSHKNKPCDEIHJF00494381 1               0\n",
       "                              2               0\n",
       "TQVMNOPXSHKNKPCDEIHJF00494445 1               0\n",
       "                              2               0\n",
       "\n",
       "[11008 rows x 1 columns]"
      ]
     },
     "execution_count": 16,
     "metadata": {},
     "output_type": "execute_result"
    }
   ],
   "source": [
    "gente_pobre"
   ]
  },
  {
   "cell_type": "code",
   "execution_count": 17,
   "id": "a160423e",
   "metadata": {},
   "outputs": [
    {
     "data": {
      "text/plain": [
       "5570"
      ]
     },
     "execution_count": 17,
     "metadata": {},
     "output_type": "execute_result"
    }
   ],
   "source": [
    "#Calculamos cuanta gente fue pobre en al menos uno de los 4 perídos\n",
    "gente_pobre.pobre.sum()"
   ]
  },
  {
   "cell_type": "code",
   "execution_count": 18,
   "id": "e99795fa",
   "metadata": {
    "scrolled": true
   },
   "outputs": [
    {
     "data": {
      "text/plain": [
       "11008"
      ]
     },
     "execution_count": 18,
     "metadata": {},
     "output_type": "execute_result"
    }
   ],
   "source": [
    "#Cuanta gente hay en la muestra\n",
    "gente_pobre.pobre.count()"
   ]
  },
  {
   "cell_type": "code",
   "execution_count": 19,
   "id": "46e775db",
   "metadata": {},
   "outputs": [
    {
     "data": {
      "text/plain": [
       "0.5059956395348837"
      ]
     },
     "execution_count": 19,
     "metadata": {},
     "output_type": "execute_result"
    }
   ],
   "source": [
    "5570/11008"
   ]
  },
  {
   "cell_type": "markdown",
   "id": "5361f152",
   "metadata": {},
   "source": [
    "El 50% de las personas fue pobre en al menos 1 de los 4 períodos. "
   ]
  },
  {
   "cell_type": "code",
   "execution_count": 20,
   "id": "a4dbd694",
   "metadata": {},
   "outputs": [
    {
     "data": {
      "text/plain": [
       "{'2016_t2': 0.22387206681571326,\n",
       " '2016_t3': 0.2000394477160845,\n",
       " '2016_t4': 0.20205662475378344,\n",
       " '2017_t2': 0.20168084201320816,\n",
       " '2017_t3': 0.17904432513710022,\n",
       " '2017_t4': 0.16948532346355336}"
      ]
     },
     "execution_count": 20,
     "metadata": {},
     "output_type": "execute_result"
    }
   ],
   "source": [
    "ratio"
   ]
  },
  {
   "cell_type": "code",
   "execution_count": 21,
   "id": "d71fbb02",
   "metadata": {},
   "outputs": [
    {
     "data": {
      "image/png": "[encoded data removed]",
      "text/plain": [
       "<Figure size 432x288 with 1 Axes>"
      ]
     },
     "metadata": {
      "needs_background": "light"
     },
     "output_type": "display_data"
    }
   ],
   "source": [
    "#Graficamos la evolución de la Tasa de Pobreza\n",
    "eje_x = list(ratio.keys())\n",
    "eje_y = list(ratio.values())\n",
    "plt.bar(eje_x, eje_y)\n",
    "plt.ylabel('Tasa de Pobreza')\n",
    "plt.xlabel(\"Trimestre\")\n",
    "plt.title('Evolución tasa de pobreza hogares')\n",
    "plt.show()"
   ]
  },
  {
   "cell_type": "code",
   "execution_count": 22,
   "id": "163cb9a3",
   "metadata": {},
   "outputs": [],
   "source": [
    "#Agregamos a cada observación una columna que indica si fue pobre o no en el periodo siguiente. \n",
    "#NOTAR: Las ultimas observaciones de cada individuo no tienen sentido\n",
    "respondieron['pobre_prox'] = respondieron['pobre'].shift(-1)"
   ]
  },
  {
   "cell_type": "markdown",
   "id": "ac57254a",
   "metadata": {},
   "source": [
    "### Calculamos cantidad de personas que entran a la pobreza y cantidad que salen entre periodos"
   ]
  },
  {
   "cell_type": "code",
   "execution_count": 23,
   "id": "f19f3a7a",
   "metadata": {},
   "outputs": [],
   "source": [
    "respondieron.reset_index(inplace=True,drop=True)"
   ]
  },
  {
   "cell_type": "code",
   "execution_count": 24,
   "id": "4a404e43",
   "metadata": {},
   "outputs": [],
   "source": [
    "respondieron[\"j\"]=0\n",
    "respondieron[\"i\"]=0\n",
    "respondieron[\"j\"] = [1 if index >= 22268 else 0 for index in respondieron.index]\n",
    "respondieron[\"i\"] = [1 if index < 22268 else 0 for index in respondieron.index]"
   ]
  },
  {
   "cell_type": "code",
   "execution_count": 25,
   "id": "2efe6f7e",
   "metadata": {},
   "outputs": [],
   "source": [
    "muestra_t2_2016 = respondieron[(respondieron[\"TRIMESTRE\"] == 2) & (respondieron[\"ANO4\"] == 2016)].pobre.count()\n",
    "\n",
    "per_t2_2016 = respondieron[(respondieron[\"TRIMESTRE\"] == 2) & (respondieron[\"ANO4\"] == 2016)].pobre.sum()\n",
    "pobres_t2a3 = respondieron[(respondieron[\"TRIMESTRE\"]==2)&\n",
    "                           (respondieron[\"ANO4\"]==2016)&\n",
    "                           (respondieron[\"pobre\"]==1)].pobre_prox.sum()\n",
    "salen_t2a3 = respondieron[(respondieron[\"TRIMESTRE\"]==2)&\n",
    "                          (respondieron[\"ANO4\"]==2016)&(respondieron[\"pobre\"]==1)&\n",
    "                          (respondieron[\"pobre_prox\"]==0)].pobre_prox.count()\n",
    "chetos_t2 = muestra_t2_2016 - per_t2_2016\n",
    "entran_t2a3 = respondieron[(respondieron[\"TRIMESTRE\"]==2)&\n",
    "                           (respondieron[\"ANO4\"]==2016)&\n",
    "                           (respondieron[\"pobre\"]==0)&\n",
    "                           (respondieron[\"pobre_prox\"]==1)].pobre_prox.count()\n",
    "no_vulnerables = respondieron[(respondieron[\"TRIMESTRE\"]==2)&\n",
    "                              (respondieron[\"ANO4\"]==2016)&\n",
    "                              (respondieron[\"pobre\"]==0)&\n",
    "                              (respondieron[\"pobre_prox\"]==0)].pobre_prox.count()\n",
    "\n",
    "\n"
   ]
  },
  {
   "cell_type": "code",
   "execution_count": 26,
   "id": "024672b5",
   "metadata": {},
   "outputs": [
    {
     "data": {
      "text/plain": [
       "{'pobres': 0.7732151189920672,\n",
       " 'salen': 0.22678488100793281,\n",
       " 'entran': 0.10251168224299065,\n",
       " 'no_vulnerables': 0.8974883177570093}"
      ]
     },
     "execution_count": 26,
     "metadata": {},
     "output_type": "execute_result"
    }
   ],
   "source": [
    "#Calculamos porcentaje de cada una de las 4 posibilidades\n",
    "t2_t3 = {\"pobres\": pobres_t2a3/per_t2_2016, \"salen\": salen_t2a3/per_t2_2016,\n",
    "         \"entran\": entran_t2a3/chetos_t2, \"no_vulnerables\": no_vulnerables/chetos_t2}\n",
    "t2_t3"
   ]
  },
  {
   "cell_type": "markdown",
   "id": "5e8c804a",
   "metadata": {},
   "source": [
    "Interpretación:\n",
    "\n",
    "-El 75% de los pobres en t2, es pobre en t3. \n",
    "\n",
    "-El 25% de los pobres en t2, NO es pobre en t3. \n",
    "\n",
    "-El 10% de los no pobres en t2, es pobre en t3. \n",
    "\n",
    "-El 90% de los no pobres en t2, NO es pobre en t3."
   ]
  },
  {
   "cell_type": "markdown",
   "id": "2e429b21",
   "metadata": {},
   "source": [
    "Este mismo ejercicio se puede repetir para los otros periodos. Ver bien el tema de que puede complicar los distintos tipos de datos (población i y población j)"
   ]
  },
  {
   "cell_type": "markdown",
   "id": "00cb719b",
   "metadata": {},
   "source": [
    "### Clasificación de la vulnerabilidad de las personas según cuántos periodos estuvieron bajo la línea de pobreza"
   ]
  },
  {
   "cell_type": "code",
   "execution_count": 27,
   "id": "db9d2c07",
   "metadata": {},
   "outputs": [
    {
     "data": {
      "text/html": [
       "<div>\n",
       "<style scoped>\n",
       "    .dataframe tbody tr th:only-of-type {\n",
       "        vertical-align: middle;\n",
       "    }\n",
       "\n",
       "    .dataframe tbody tr th {\n",
       "        vertical-align: top;\n",
       "    }\n",
       "\n",
       "    .dataframe thead th {\n",
       "        text-align: right;\n",
       "    }\n",
       "</style>\n",
       "<table border=\"1\" class=\"dataframe\">\n",
       "  <thead>\n",
       "    <tr style=\"text-align: right;\">\n",
       "      <th></th>\n",
       "      <th></th>\n",
       "      <th>pobre</th>\n",
       "    </tr>\n",
       "    <tr>\n",
       "      <th>CODUSU</th>\n",
       "      <th>COMPONENTE</th>\n",
       "      <th></th>\n",
       "    </tr>\n",
       "  </thead>\n",
       "  <tbody>\n",
       "    <tr>\n",
       "      <th rowspan=\"2\" valign=\"top\">TQRMNOPPQHJKKTCDEHMHF00479193</th>\n",
       "      <th>1</th>\n",
       "      <td>0</td>\n",
       "    </tr>\n",
       "    <tr>\n",
       "      <th>2</th>\n",
       "      <td>0</td>\n",
       "    </tr>\n",
       "    <tr>\n",
       "      <th rowspan=\"3\" valign=\"top\">TQRMNOPPQHJMKRCDEFOCD00472238</th>\n",
       "      <th>1</th>\n",
       "      <td>3</td>\n",
       "    </tr>\n",
       "    <tr>\n",
       "      <th>2</th>\n",
       "      <td>3</td>\n",
       "    </tr>\n",
       "    <tr>\n",
       "      <th>3</th>\n",
       "      <td>3</td>\n",
       "    </tr>\n",
       "    <tr>\n",
       "      <th>...</th>\n",
       "      <th>...</th>\n",
       "      <td>...</td>\n",
       "    </tr>\n",
       "    <tr>\n",
       "      <th>TQUMNOPQUHJMLOCDEFMDB00471489</th>\n",
       "      <th>3</th>\n",
       "      <td>2</td>\n",
       "    </tr>\n",
       "    <tr>\n",
       "      <th rowspan=\"2\" valign=\"top\">TQUMNOPXSHKNKPCDEIHJF00494381</th>\n",
       "      <th>1</th>\n",
       "      <td>0</td>\n",
       "    </tr>\n",
       "    <tr>\n",
       "      <th>2</th>\n",
       "      <td>0</td>\n",
       "    </tr>\n",
       "    <tr>\n",
       "      <th rowspan=\"2\" valign=\"top\">TQVMNOPXSHKNKPCDEIHJF00494445</th>\n",
       "      <th>1</th>\n",
       "      <td>0</td>\n",
       "    </tr>\n",
       "    <tr>\n",
       "      <th>2</th>\n",
       "      <td>0</td>\n",
       "    </tr>\n",
       "  </tbody>\n",
       "</table>\n",
       "<p>11008 rows × 1 columns</p>\n",
       "</div>"
      ],
      "text/plain": [
       "                                          pobre\n",
       "CODUSU                        COMPONENTE       \n",
       "TQRMNOPPQHJKKTCDEHMHF00479193 1               0\n",
       "                              2               0\n",
       "TQRMNOPPQHJMKRCDEFOCD00472238 1               3\n",
       "                              2               3\n",
       "                              3               3\n",
       "...                                         ...\n",
       "TQUMNOPQUHJMLOCDEFMDB00471489 3               2\n",
       "TQUMNOPXSHKNKPCDEIHJF00494381 1               0\n",
       "                              2               0\n",
       "TQVMNOPXSHKNKPCDEIHJF00494445 1               0\n",
       "                              2               0\n",
       "\n",
       "[11008 rows x 1 columns]"
      ]
     },
     "execution_count": 27,
     "metadata": {},
     "output_type": "execute_result"
    }
   ],
   "source": [
    "vulnerabilidad = respondieron.groupby([\"CODUSU\",\"COMPONENTE\"]).agg({\"pobre\":\"sum\"})\n",
    "vulnerabilidad"
   ]
  },
  {
   "cell_type": "code",
   "execution_count": 28,
   "id": "1dde819f",
   "metadata": {},
   "outputs": [],
   "source": [
    "cronicos = vulnerabilidad[(vulnerabilidad[\"pobre\"]==4)].pobre.count()\n",
    "muy_vulnerables = vulnerabilidad[(vulnerabilidad[\"pobre\"]==3)|(vulnerabilidad[\"pobre\"]==2)].pobre.count()\n",
    "vulnerables = vulnerabilidad[(vulnerabilidad[\"pobre\"]==1)].pobre.count()\n",
    "no_vulnerables = vulnerabilidad[(vulnerabilidad[\"pobre\"]==0)].pobre.count()\n",
    "total = no_vulnerables + vulnerables + muy_vulnerables + cronicos"
   ]
  },
  {
   "cell_type": "code",
   "execution_count": 29,
   "id": "cfb32145",
   "metadata": {},
   "outputs": [
    {
     "data": {
      "text/plain": [
       "{'cronicos': 0.19240552325581395,\n",
       " 'muy_vulnerables': 0.19794694767441862,\n",
       " 'vulnerables': 0.11564316860465117,\n",
       " 'no_vulnerabes': 0.49400436046511625}"
      ]
     },
     "execution_count": 29,
     "metadata": {},
     "output_type": "execute_result"
    }
   ],
   "source": [
    "vulnerabilidad = {\"cronicos\": cronicos/total, \"muy_vulnerables\": muy_vulnerables/total,\n",
    "                  \"vulnerables\": vulnerables/total, \"no_vulnerabes\": no_vulnerables/total}\n",
    "vulnerabilidad"
   ]
  },
  {
   "cell_type": "code",
   "execution_count": 30,
   "id": "3c3d4152",
   "metadata": {},
   "outputs": [
    {
     "data": {
      "image/png": "[encoded data removed]",
      "text/plain": [
       "<Figure size 432x288 with 1 Axes>"
      ]
     },
     "metadata": {
      "needs_background": "light"
     },
     "output_type": "display_data"
    }
   ],
   "source": [
    "#Graficamos el Indice de vulnerabilidad\n",
    "eje_x = list(vulnerabilidad.keys())\n",
    "eje_y = list(vulnerabilidad.values())\n",
    "plt.bar(eje_x, eje_y)\n",
    "plt.ylabel('Densidad')\n",
    "plt.title('Indice de vulnerabilidad')\n",
    "plt.show()"
   ]
  },
  {
   "cell_type": "code",
   "execution_count": 31,
   "id": "7fee5411",
   "metadata": {},
   "outputs": [],
   "source": [
    "#Columna pobre_final\n",
    "poner1i = respondieron[(respondieron[\"pobre\"]==1) & (respondieron[\"TRIMESTRE\"]==3) & (respondieron[\"ANO4\"]==2017) & \n",
    "             (respondieron[\"i\"]==1)][[\"CODUSU\",\"COMPONENTE\"]]\n",
    "poner1i[\"pobre_final\"]=1\n",
    "poner1j = respondieron[(respondieron[\"pobre\"]==1) & (respondieron[\"TRIMESTRE\"]==4) & (respondieron[\"ANO4\"]==2017) & \n",
    "             (respondieron[\"j\"]==1)][[\"CODUSU\",\"COMPONENTE\"]]\n",
    "poner1j[\"pobre_final\"]=1\n",
    "poner1 = pd.merge(poner1i,poner1j,how=\"outer\",on=[\"CODUSU\",\"COMPONENTE\",\"pobre_final\"])\n",
    "respondieron = respondieron.merge(poner1,on = [\"CODUSU\",\"COMPONENTE\"],how = \"outer\")\n",
    "respondieron.fillna(0,inplace=True)\n",
    "\n",
    "#Columna pobre_anual\n",
    "poner1i_anual = respondieron[(respondieron[\"pobre\"]==1) & (respondieron[\"TRIMESTRE\"]==2) & (respondieron[\"ANO4\"]==2017) & \n",
    "             (respondieron[\"i\"]==1)][[\"CODUSU\",\"COMPONENTE\"]]\n",
    "poner1i_anual[\"pobre_anual\"]=1\n",
    "poner1i2_anual = respondieron[(respondieron[\"pobre\"]==1) & (respondieron[\"TRIMESTRE\"]==3) & (respondieron[\"ANO4\"]==2017) & \n",
    "             (respondieron[\"i\"]==1)][[\"CODUSU\",\"COMPONENTE\"]]\n",
    "poner1i2_anual[\"pobre_anual\"]=1\n",
    "poner1j_anual = respondieron[(respondieron[\"pobre\"]==1) & (respondieron[\"TRIMESTRE\"]==3) & (respondieron[\"ANO4\"]==2017) & \n",
    "             (respondieron[\"j\"]==1)][[\"CODUSU\",\"COMPONENTE\"]]\n",
    "poner1j_anual[\"pobre_anual\"]=1\n",
    "poner1j2_anual = respondieron[(respondieron[\"pobre\"]==1) & (respondieron[\"TRIMESTRE\"]==4) & (respondieron[\"ANO4\"]==2017) & \n",
    "             (respondieron[\"j\"]==1)][[\"CODUSU\",\"COMPONENTE\"]]\n",
    "poner1j2_anual[\"pobre_anual\"]=1\n",
    "poner1_anual_i = pd.merge(poner1i_anual,poner1i2_anual,how=\"outer\",on=[\"CODUSU\",\"COMPONENTE\",\"pobre_anual\"])\n",
    "poner1_anual_j = pd.merge(poner1j_anual,poner1j2_anual,how=\"outer\",on=[\"CODUSU\",\"COMPONENTE\",\"pobre_anual\"])\n",
    "poner1_anual = pd.merge(poner1_anual_i,poner1_anual_j,how=\"outer\",on=[\"CODUSU\",\"COMPONENTE\",\"pobre_anual\"])\n",
    "respondieron = respondieron.merge(poner1_anual,on = [\"CODUSU\",\"COMPONENTE\"],how = \"outer\")\n",
    "respondieron.fillna(0,inplace=True)"
   ]
  }
 ],
 "metadata": {
  "kernelspec": {
   "display_name": "Python 3",
   "language": "python",
   "name": "python3"
  },
  "language_info": {
   "codemirror_mode": {
    "name": "ipython",
    "version": 3
   },
   "file_extension": ".py",
   "mimetype": "text/x-python",
   "name": "python",
   "nbconvert_exporter": "python",
   "pygments_lexer": "ipython3",
   "version": "3.8.8"
  }
 },
 "nbformat": 4,
 "nbformat_minor": 5
}
