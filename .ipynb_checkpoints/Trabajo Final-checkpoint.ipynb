{
 "cells": [
  {
   "cell_type": "code",
   "execution_count": 1,
   "id": "c607dcf6",
   "metadata": {},
   "outputs": [],
   "source": [
    "import os\n",
    "import re\n",
    "import string\n",
    "import pandas as pd\n",
    "import matplotlib.pyplot as plt\n",
    "from datetime import datetime\n",
    "import seaborn as sns\n",
    "import numpy as np\n",
    "from sklearn import datasets\n",
    "from sklearn import preprocessing\n",
    "from sklearn.linear_model import LogisticRegression\n",
    "from sklearn.linear_model import LinearRegression\n",
    "from sklearn.linear_model import Ridge\n",
    "from sklearn.linear_model import Lasso\n",
    "from sklearn.linear_model import ElasticNet\n",
    "from sklearn.linear_model import RidgeCV\n",
    "from sklearn.linear_model import LassoCV\n",
    "from sklearn.linear_model import ElasticNetCV\n",
    "from sklearn.tree import DecisionTreeClassifier\n",
    "from sklearn.model_selection import train_test_split\n",
    "from sklearn.metrics import confusion_matrix\n",
    "from sklearn.metrics import accuracy_score \n",
    "from sklearn.metrics import roc_curve\n",
    "from sklearn.metrics import roc_auc_score\n",
    "from sklearn.metrics import RocCurveDisplay\n",
    "from sklearn.metrics import plot_roc_curve\n",
    "from sklearn.metrics import mean_squared_error\n",
    "from sklearn.tree import DecisionTreeClassifier\n",
    "from sklearn import metrics\n",
    "from sklearn.svm import SVC\n",
    "from sklearn.pipeline import make_pipeline\n",
    "from sklearn.preprocessing import StandardScaler\n",
    "from sklearn.ensemble import BaggingClassifier\n",
    "from sklearn.datasets import make_classification\n",
    "from sklearn.ensemble import RandomForestClassifier\n",
    "from sklearn.ensemble import GradientBoostingClassifier\n",
    "from sklearn.model_selection import KFold\n",
    "from sklearn.discriminant_analysis import LinearDiscriminantAnalysis\n",
    "from sklearn.discriminant_analysis import LinearDiscriminantAnalysis\n",
    "from sklearn.discriminant_analysis import QuadraticDiscriminantAnalysis\n",
    "from sklearn.neighbors import KNeighborsClassifier\n",
    "from scipy.special import expit"
   ]
  },
  {
   "cell_type": "code",
   "execution_count": 17,
   "id": "c94f3844",
   "metadata": {},
   "outputs": [
    {
     "name": "stderr",
     "output_type": "stream",
     "text": [
      "C:\\Users\\felip\\anaconda3\\lib\\site-packages\\IPython\\core\\interactiveshell.py:3165: DtypeWarning: Columns (102,179,182,187,207,209) have mixed types.Specify dtype option on import or set low_memory=False.\n",
      "  has_raised = await self.run_ast_nodes(code_ast.body, cell_name,\n"
     ]
    }
   ],
   "source": [
    "# Cargo el excel de la EPH\n",
    "eph = pd.read_csv(\"eph_panel.csv\")"
   ]
  },
  {
   "cell_type": "code",
   "execution_count": 19,
   "id": "be186d11",
   "metadata": {},
   "outputs": [],
   "source": [
    "def limpiar_eph(eph):\n",
    "\n",
    "    '''\n",
    "        función para limpiar la eph\n",
    "        input:\n",
    "            eph: Variable que tenga almacenada la eph sin limpiar\n",
    "\n",
    "        output:\n",
    "            eph: Variable que tiene almacenada la eph limpia\n",
    "    '''\n",
    "    \n",
    "    eph.dropna(thresh = 1, inplace = True) # Si tiene todos NA, la fila se va\n",
    "    \n",
    "    eph.dropna(thresh = 1, axis = \"columns\", inplace = True) # Si la columna tiene todos NA, la columna se va\n",
    "    \n",
    "    try:\n",
    "        # Si no lo defino como uno me dropea un montón de filas que tienen NaN\n",
    "        eph.PP08D1 = eph.PP08D1.fillna(0)\n",
    "        eph.PP08F2 = eph.PP08F2.fillna(0)\n",
    "        # dropeo observaciones con valores que no tienen sentido. CH06 = edad, PP08D1, P21, P47T, ITF y IPCF son todas variables\n",
    "        # de ingresos, no pueden ser menores a 0\n",
    "        eph.drop(eph[(eph[\"CH06\"] < 0) | (eph[\"PP08D1\"] < 0) | (eph[\"P21\"] < 0) | \\\n",
    "                           (eph[\"P47T\"] < 0) | (eph[\"ITF\"] < 0) | (eph[\"IPCF\"] < 0) | (eph[\"PP08F2\"] < 0)].index, inplace = True)\n",
    "        eph[\"CH14\"].fillna(99, inplace = True) #Muchos no respondieron entonces reemplazamos los missing por 99.\n",
    "        eph.fillna(0, inplace = True) # Relleno todos con 0 los missing de las columnas que representan subcategorías en\n",
    "        #las que solo respondieron algunos. \n",
    "        #Para las siguientes variables dummys hay entre 15 y 20 observaciones para las que toma valor 9, es decir Ns/Nr.\n",
    "        #Como son pocas observaciones y siempre las mismas, optamos por eliminarlas. \n",
    "        eph.drop(eph[(eph[\"V1\"] == 9 ) | (eph[\"V2\"] == 9) | (eph[\"V3\"] == 9) | (eph[\"V4\"] == 9) | (eph[\"V5\"] == 9) | \\\n",
    "                      (eph[\"V6\"] == 9 ) | (eph[\"V7\"] == 9) | (eph[\"V8\"] == 9) | (eph[\"V9\"] == 9) | (eph[\"V10\"] == 9) | \\\n",
    "                      (eph[\"V11\"] == 9) | (eph[\"V12\"] == 9) | (eph[\"V13\"] == 9) | (eph[\"V14\"] == 9) | (eph[\"V15\"] == 9) | \\\n",
    "                      (eph[\"V16\"] == 9) | (eph[\"V17\"] == 9) | (eph[\"V18\"] == 9) | (eph[\"V19_A\"] == 9) | (eph[\"V19_B\"] == 9)].index, inplace = True)\n",
    "        eph.reset_index(inplace = True, drop = True)  \n",
    "    except:\n",
    "        print(\"No se encontró alguna columna, revisar\")   "
   ]
  },
  {
   "cell_type": "code",
   "execution_count": 20,
   "id": "88f4d3b9",
   "metadata": {},
   "outputs": [],
   "source": [
    "limpiar_eph(eph)"
   ]
  },
  {
   "cell_type": "code",
   "execution_count": 39,
   "id": "43a24bd7",
   "metadata": {},
   "outputs": [],
   "source": [
    "#Importamos la tabla de excel\n",
    "tabla_adulto = pd.read_excel(\"tabla_adulto_equiv.xlsx\", header = 3)\n",
    "#Ajustamos el formato de la tabla \n",
    "tabla_adulto.dropna(axis = 1, inplace = True, thresh = 10)\n",
    "tabla_adulto.dropna(inplace = True, thresh = 3)\n",
    "tabla_adulto.reset_index(inplace = True, drop = True)\n",
    "#Creamos la columna \"adulto_equiv\" como una columna de ceros\n",
    "eph[\"adulto_equiv\"] = 0\n",
    "#Generamos una nueva columna llamada lista como una columna de ceros \n",
    "eph[\"lista\"] = 0\n",
    "#Iteramos por filas\n",
    "#Para cada fila del data frame de acuerdo a la edad le indicamos que \n",
    "#la celda de la columna \"lista\" la complete con el número correspondiente \n",
    "#al índice de la tabla_adulto. \n",
    "#Por ejemplo, si la edad es menor a 30 entonces se asigna el numero 18 que es\n",
    "#el índice de la fila de 18 a 29 años. \n",
    "for i in eph.index:\n",
    "    if eph.loc[i, \"CH06\"] < 19:\n",
    "        eph.loc[i, \"lista\"] = eph.loc[i, \"CH06\"]\n",
    "    elif eph.loc[i, \"CH06\"] < 30:\n",
    "        eph.loc[i, \"lista\"] = 18\n",
    "    elif eph.loc[i, \"CH06\"] < 46:\n",
    "        eph.loc[i, \"lista\"] = 19\n",
    "    elif eph.loc[i, \"CH06\"] < 61:\n",
    "        eph.loc[i, \"lista\"] = 20\n",
    "    elif eph.loc[i, \"CH06\"] < 76:\n",
    "        eph.loc[i, \"lista\"] = 21\n",
    "    else:\n",
    "        eph.loc[i, \"lista\"] = 22\n",
    "#CH06 = edad, CH04 = Sexo (1 = varon y 2 = mujer)\n",
    "#Para cada fila del dataframe si el individuo es varón entonces le indicamos que bajo \n",
    "#la columna \"adulto_equiv\" coloque la siguiente celda de tabla_adulto: \n",
    "# Fila: el índice que esta guardado en la columna \"lista\" en el df eph. \n",
    "# Columna: Varones \n",
    "#idem para las mujeres\n",
    "#De este modo se obtienen los valores de adulto equivalente de cada persona según \n",
    "#su sexo y edad\n",
    "for i in eph.index:\n",
    "    if eph.loc[i, \"CH04\"] == 1:\n",
    "        eph.loc[i, \"adulto_equiv\"] = tabla_adulto.loc[eph.loc[i, \"lista\"], \"Varones\"]\n",
    "    elif eph.loc[i, \"CH04\"] == 2:\n",
    "        eph.loc[i, \"adulto_equiv\"] = tabla_adulto.loc[eph.loc[i, \"lista\"], \"Mujeres\"]\n",
    "#Eliminamos la columna \"lista\"\n",
    "eph.drop(\"lista\", axis = 1, inplace = True)\n",
    "#Realizamos un groupby: para cada hogar sumamos \"adulto_equiv\"\n",
    "ad_equiv_hogar = eph[[\"CODUSU\",\"ANO4\",\"TRIMESTRE\",\"adulto_equiv\"]].groupby([\"CODUSU\",\"ANO4\",\"TRIMESTRE\"]).sum()\n",
    "ad_equiv_hogar.reset_index(inplace = True)\n",
    "#cambiamos los nombres de las columnas\n",
    "ad_equiv_hogar.columns = [\"CODUSU\",\"ANO4\",\"TRIMESTRE\",\"ad_equiv_hogar\"]\n",
    "#agregamos la columnna \"ad_equiv_hogar\" al df eph\n",
    "eph = eph.merge(ad_equiv_hogar, on = [\"CODUSU\",\"ANO4\",\"TRIMESTRE\"], how = \"left\")"
   ]
  },
  {
   "cell_type": "code",
   "execution_count": 41,
   "id": "c002c4a8",
   "metadata": {},
   "outputs": [],
   "source": [
    "# Dividimos la muestra de la EPH en gente que no respondió ingresos totales familiares (ITF) y los que sí.\n",
    "norespondieron = eph[eph[\"ITF\"] == 0]\n",
    "norespondieron.reset_index(inplace = True, drop = True)\n",
    "respondieron = eph[eph[\"ITF\"] != 0]\n",
    "respondieron.reset_index(inplace = True, drop = True)"
   ]
  },
  {
   "cell_type": "code",
   "execution_count": 42,
   "id": "63add0a4",
   "metadata": {},
   "outputs": [],
   "source": [
    "# Ingresos mínimos por trimestre, hice un promedio del CBT por trimestre.\n",
    "im_2t_2016 = 3812\n",
    "im_3t_2016 = 4055\n",
    "im_4t_2016 = 4232\n",
    "im_1t_2017 = 4432\n",
    "im_2t_2017 = 4744\n",
    "im_3t_2017 = 4932\n",
    "im_4t_2017 = 5219\n",
    "\n",
    "# Creamos una columna de ingreso necesario para no ser pobre y la rellenamos con el for loop teniendo en cuenta el año\n",
    "# y trimestre. Toma valores dependiendo de la columna ad_equiv_hogar * ingreso minimo per cápita.\n",
    "respondieron[\"ingreso_necesario\"] = 0\n",
    "for i in respondieron.index:\n",
    "    if (respondieron.loc[i, \"ANO4\"] == 2016) & (respondieron.loc[i, \"TRIMESTRE\"] == 2):\n",
    "        respondieron.loc[i, \"ingreso_necesario\"] = im_2t_2016 * respondieron.loc[i,\"ad_equiv_hogar\"]\n",
    "    elif (respondieron.loc[i, \"ANO4\"] == 2016) & (respondieron.loc[i, \"TRIMESTRE\"] == 3):\n",
    "        respondieron.loc[i, \"ingreso_necesario\"] = im_3t_2016 * respondieron.loc[i,\"ad_equiv_hogar\"]\n",
    "    elif (respondieron.loc[i, \"ANO4\"] == 2016) & (respondieron.loc[i, \"TRIMESTRE\"] == 4):\n",
    "        respondieron.loc[i, \"ingreso_necesario\"] = im_4t_2016 * respondieron.loc[i,\"ad_equiv_hogar\"]\n",
    "    elif (respondieron.loc[i, \"ANO4\"] == 2017) & (respondieron.loc[i, \"TRIMESTRE\"] == 1):\n",
    "        respondieron.loc[i, \"ingreso_necesario\"] = im_1t_2017 * respondieron.loc[i,\"ad_equiv_hogar\"]\n",
    "    elif (respondieron.loc[i, \"ANO4\"] == 2017) & (respondieron.loc[i, \"TRIMESTRE\"] == 2):\n",
    "        respondieron.loc[i, \"ingreso_necesario\"] = im_2t_2017 * respondieron.loc[i,\"ad_equiv_hogar\"]\n",
    "    elif (respondieron.loc[i, \"ANO4\"] == 2017) & (respondieron.loc[i, \"TRIMESTRE\"] == 3):\n",
    "        respondieron.loc[i, \"ingreso_necesario\"] = im_3t_2017 * respondieron.loc[i,\"ad_equiv_hogar\"]\n",
    "    elif (respondieron.loc[i, \"ANO4\"] == 2017) & (respondieron.loc[i, \"TRIMESTRE\"] == 4):\n",
    "        respondieron.loc[i, \"ingreso_necesario\"] = im_4t_2017 * respondieron.loc[i,\"ad_equiv_hogar\"]\n",
    "        \n",
    "# Creamos una columna dummy, que dice si el individuo es pobre o no. Depende de si sus ingresos\n",
    "# son mayores a ingreso_necesario\n",
    "respondieron[\"pobre\"] = (respondieron[\"ITF\"] < respondieron[\"ingreso_necesario\"]).astype(int)"
   ]
  },
  {
   "cell_type": "code",
   "execution_count": 48,
   "id": "06f5b48c",
   "metadata": {},
   "outputs": [
    {
     "data": {
      "text/plain": [
       "21030"
      ]
     },
     "execution_count": 48,
     "metadata": {},
     "output_type": "execute_result"
    }
   ],
   "source": [
    "respondieron.pobre.sum()"
   ]
  }
 ],
 "metadata": {
  "kernelspec": {
   "display_name": "Python 3",
   "language": "python",
   "name": "python3"
  },
  "language_info": {
   "codemirror_mode": {
    "name": "ipython",
    "version": 3
   },
   "file_extension": ".py",
   "mimetype": "text/x-python",
   "name": "python",
   "nbconvert_exporter": "python",
   "pygments_lexer": "ipython3",
   "version": "3.8.8"
  }
 },
 "nbformat": 4,
 "nbformat_minor": 5
}
