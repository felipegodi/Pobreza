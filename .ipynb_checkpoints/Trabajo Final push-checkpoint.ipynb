{
 "cells": [
  {
   "cell_type": "code",
   "execution_count": 1,
   "id": "906d3a9f",
   "metadata": {},
   "outputs": [],
   "source": [
    "import os\n",
    "import re\n",
    "import string\n",
    "import pandas as pd\n",
    "import matplotlib.pyplot as plt\n",
    "from datetime import datetime\n",
    "import seaborn as sns\n",
    "import numpy as np\n",
    "from sklearn import datasets\n",
    "from sklearn import preprocessing\n",
    "from sklearn.linear_model import LogisticRegression\n",
    "from sklearn.linear_model import LinearRegression\n",
    "from sklearn.linear_model import Ridge\n",
    "from sklearn.linear_model import Lasso\n",
    "from sklearn.linear_model import ElasticNet\n",
    "from sklearn.linear_model import RidgeCV\n",
    "from sklearn.linear_model import LassoCV\n",
    "from sklearn.linear_model import ElasticNetCV\n",
    "from sklearn.tree import DecisionTreeClassifier\n",
    "from sklearn.model_selection import train_test_split\n",
    "from sklearn.metrics import confusion_matrix\n",
    "from sklearn.metrics import accuracy_score \n",
    "from sklearn.metrics import roc_curve\n",
    "from sklearn.metrics import roc_auc_score\n",
    "from sklearn.metrics import RocCurveDisplay\n",
    "from sklearn.metrics import plot_roc_curve\n",
    "from sklearn.metrics import mean_squared_error\n",
    "from sklearn.tree import DecisionTreeClassifier\n",
    "from sklearn import metrics\n",
    "from sklearn.svm import SVC\n",
    "from sklearn.pipeline import make_pipeline\n",
    "from sklearn.preprocessing import StandardScaler\n",
    "from sklearn.ensemble import BaggingClassifier\n",
    "from sklearn.datasets import make_classification\n",
    "from sklearn.ensemble import RandomForestClassifier\n",
    "from sklearn.ensemble import GradientBoostingClassifier\n",
    "from sklearn.model_selection import KFold\n",
    "from sklearn.discriminant_analysis import LinearDiscriminantAnalysis\n",
    "from sklearn.discriminant_analysis import LinearDiscriminantAnalysis\n",
    "from sklearn.discriminant_analysis import QuadraticDiscriminantAnalysis\n",
    "from sklearn.neighbors import KNeighborsClassifier\n",
    "from scipy.special import expit"
   ]
  },
  {
   "cell_type": "code",
   "execution_count": 2,
   "id": "d718a0b6",
   "metadata": {
    "scrolled": true
   },
   "outputs": [
    {
     "name": "stderr",
     "output_type": "stream",
     "text": [
      "C:\\Users\\felip\\anaconda3\\lib\\site-packages\\IPython\\core\\interactiveshell.py:3165: DtypeWarning: Columns (102,179,182,187,207,209) have mixed types.Specify dtype option on import or set low_memory=False.\n",
      "  has_raised = await self.run_ast_nodes(code_ast.body, cell_name,\n"
     ]
    }
   ],
   "source": [
    "# Cargo el excel de la EPH\n",
    "eph_todo = pd.read_csv(\"eph_panel.csv\")"
   ]
  },
  {
   "cell_type": "code",
   "execution_count": 3,
   "id": "45106da9",
   "metadata": {},
   "outputs": [],
   "source": [
    "eph_todo = eph_todo.drop_duplicates(subset=[\"CODUSU\",\"COMPONENTE\",\"ANO4\",\"TRIMESTRE\"])"
   ]
  },
  {
   "cell_type": "code",
   "execution_count": 4,
   "id": "e507d3c5",
   "metadata": {},
   "outputs": [
    {
     "data": {
      "text/html": [
       "<div>\n",
       "<style scoped>\n",
       "    .dataframe tbody tr th:only-of-type {\n",
       "        vertical-align: middle;\n",
       "    }\n",
       "\n",
       "    .dataframe tbody tr th {\n",
       "        vertical-align: top;\n",
       "    }\n",
       "\n",
       "    .dataframe thead th {\n",
       "        text-align: right;\n",
       "    }\n",
       "</style>\n",
       "<table border=\"1\" class=\"dataframe\">\n",
       "  <thead>\n",
       "    <tr style=\"text-align: right;\">\n",
       "      <th></th>\n",
       "      <th>CODUSU</th>\n",
       "      <th>NRO_HOGAR</th>\n",
       "      <th>TRIMESTRE</th>\n",
       "      <th>ANO4</th>\n",
       "      <th>COMPONENTE</th>\n",
       "      <th>H15</th>\n",
       "      <th>REGION</th>\n",
       "      <th>MAS_500</th>\n",
       "      <th>AGLOMERADO</th>\n",
       "      <th>PONDERA</th>\n",
       "      <th>...</th>\n",
       "      <th>V19_B</th>\n",
       "      <th>IX_TOT</th>\n",
       "      <th>IX_MEN10</th>\n",
       "      <th>IX_MAYEQ10</th>\n",
       "      <th>VII1_1</th>\n",
       "      <th>VII1_2</th>\n",
       "      <th>VII2_1</th>\n",
       "      <th>VII2_2</th>\n",
       "      <th>VII2_3</th>\n",
       "      <th>VII2_4</th>\n",
       "    </tr>\n",
       "  </thead>\n",
       "  <tbody>\n",
       "    <tr>\n",
       "      <th>0</th>\n",
       "      <td>TQRMNOPPQHJKKTCDEHMHF00479193</td>\n",
       "      <td>1</td>\n",
       "      <td>2</td>\n",
       "      <td>2016</td>\n",
       "      <td>1</td>\n",
       "      <td>1</td>\n",
       "      <td>42</td>\n",
       "      <td>N</td>\n",
       "      <td>26</td>\n",
       "      <td>165</td>\n",
       "      <td>...</td>\n",
       "      <td>2</td>\n",
       "      <td>2</td>\n",
       "      <td>0</td>\n",
       "      <td>2</td>\n",
       "      <td>2</td>\n",
       "      <td>0</td>\n",
       "      <td>98</td>\n",
       "      <td>0</td>\n",
       "      <td>0</td>\n",
       "      <td>0</td>\n",
       "    </tr>\n",
       "    <tr>\n",
       "      <th>1</th>\n",
       "      <td>TQRMNOPPQHJKKTCDEHMHF00479193</td>\n",
       "      <td>1</td>\n",
       "      <td>3</td>\n",
       "      <td>2016</td>\n",
       "      <td>1</td>\n",
       "      <td>1</td>\n",
       "      <td>42</td>\n",
       "      <td>N</td>\n",
       "      <td>26</td>\n",
       "      <td>176</td>\n",
       "      <td>...</td>\n",
       "      <td>2</td>\n",
       "      <td>2</td>\n",
       "      <td>0</td>\n",
       "      <td>2</td>\n",
       "      <td>2</td>\n",
       "      <td>0</td>\n",
       "      <td>98</td>\n",
       "      <td>0</td>\n",
       "      <td>0</td>\n",
       "      <td>0</td>\n",
       "    </tr>\n",
       "    <tr>\n",
       "      <th>2</th>\n",
       "      <td>TQRMNOPPQHJKKTCDEHMHF00479193</td>\n",
       "      <td>1</td>\n",
       "      <td>2</td>\n",
       "      <td>2017</td>\n",
       "      <td>1</td>\n",
       "      <td>1</td>\n",
       "      <td>42</td>\n",
       "      <td>N</td>\n",
       "      <td>26</td>\n",
       "      <td>159</td>\n",
       "      <td>...</td>\n",
       "      <td>2</td>\n",
       "      <td>2</td>\n",
       "      <td>0</td>\n",
       "      <td>2</td>\n",
       "      <td>2</td>\n",
       "      <td>0</td>\n",
       "      <td>98</td>\n",
       "      <td>0</td>\n",
       "      <td>0</td>\n",
       "      <td>0</td>\n",
       "    </tr>\n",
       "    <tr>\n",
       "      <th>3</th>\n",
       "      <td>TQRMNOPPQHJKKTCDEHMHF00479193</td>\n",
       "      <td>1</td>\n",
       "      <td>3</td>\n",
       "      <td>2017</td>\n",
       "      <td>1</td>\n",
       "      <td>1</td>\n",
       "      <td>42</td>\n",
       "      <td>N</td>\n",
       "      <td>26</td>\n",
       "      <td>171</td>\n",
       "      <td>...</td>\n",
       "      <td>2</td>\n",
       "      <td>2</td>\n",
       "      <td>0</td>\n",
       "      <td>2</td>\n",
       "      <td>2</td>\n",
       "      <td>1</td>\n",
       "      <td>98</td>\n",
       "      <td>0</td>\n",
       "      <td>0</td>\n",
       "      <td>0</td>\n",
       "    </tr>\n",
       "    <tr>\n",
       "      <th>4</th>\n",
       "      <td>TQRMNOPPQHJKKTCDEHMHF00479193</td>\n",
       "      <td>1</td>\n",
       "      <td>2</td>\n",
       "      <td>2016</td>\n",
       "      <td>2</td>\n",
       "      <td>1</td>\n",
       "      <td>42</td>\n",
       "      <td>N</td>\n",
       "      <td>26</td>\n",
       "      <td>165</td>\n",
       "      <td>...</td>\n",
       "      <td>2</td>\n",
       "      <td>2</td>\n",
       "      <td>0</td>\n",
       "      <td>2</td>\n",
       "      <td>2</td>\n",
       "      <td>0</td>\n",
       "      <td>98</td>\n",
       "      <td>0</td>\n",
       "      <td>0</td>\n",
       "      <td>0</td>\n",
       "    </tr>\n",
       "  </tbody>\n",
       "</table>\n",
       "<p>5 rows × 242 columns</p>\n",
       "</div>"
      ],
      "text/plain": [
       "                          CODUSU  NRO_HOGAR  TRIMESTRE  ANO4  COMPONENTE  H15  \\\n",
       "0  TQRMNOPPQHJKKTCDEHMHF00479193          1          2  2016           1    1   \n",
       "1  TQRMNOPPQHJKKTCDEHMHF00479193          1          3  2016           1    1   \n",
       "2  TQRMNOPPQHJKKTCDEHMHF00479193          1          2  2017           1    1   \n",
       "3  TQRMNOPPQHJKKTCDEHMHF00479193          1          3  2017           1    1   \n",
       "4  TQRMNOPPQHJKKTCDEHMHF00479193          1          2  2016           2    1   \n",
       "\n",
       "   REGION MAS_500  AGLOMERADO  PONDERA  ...  V19_B  IX_TOT IX_MEN10  \\\n",
       "0      42       N          26      165  ...      2       2        0   \n",
       "1      42       N          26      176  ...      2       2        0   \n",
       "2      42       N          26      159  ...      2       2        0   \n",
       "3      42       N          26      171  ...      2       2        0   \n",
       "4      42       N          26      165  ...      2       2        0   \n",
       "\n",
       "   IX_MAYEQ10  VII1_1  VII1_2  VII2_1  VII2_2  VII2_3  VII2_4  \n",
       "0           2       2       0      98       0       0       0  \n",
       "1           2       2       0      98       0       0       0  \n",
       "2           2       2       0      98       0       0       0  \n",
       "3           2       2       1      98       0       0       0  \n",
       "4           2       2       0      98       0       0       0  \n",
       "\n",
       "[5 rows x 242 columns]"
      ]
     },
     "execution_count": 4,
     "metadata": {},
     "output_type": "execute_result"
    }
   ],
   "source": [
    "eph_todo.head(5)"
   ]
  },
  {
   "cell_type": "code",
   "execution_count": 5,
   "id": "9b55ca9b",
   "metadata": {},
   "outputs": [],
   "source": [
    "def limpiar_eph(eph):\n",
    "\n",
    "    '''\n",
    "        función para limpiar la eph\n",
    "        input:\n",
    "            eph: Variable que tenga almacenada la eph sin limpiar\n",
    "\n",
    "        output:\n",
    "            eph: Variable que tiene almacenada la eph limpia\n",
    "    '''\n",
    "    \n",
    "    eph.dropna(thresh = 1, inplace = True) # Si tiene todos NA, la fila se va\n",
    "    \n",
    "    eph.dropna(thresh = 1, axis = \"columns\", inplace = True) # Si la columna tiene todos NA, la columna se va\n",
    "    \n",
    "    try:\n",
    "        # Si no lo defino como uno me dropea un montón de filas que tienen NaN\n",
    "        eph.PP08D1 = eph.PP08D1.fillna(0)\n",
    "        # dropeo observaciones con valores que no tienen sentido. CH06 = edad, PP08D1, P21, P47T, ITF y IPCF son todas variables\n",
    "        # de ingresos, no pueden ser menores a 0\n",
    "        eph.fillna(0, inplace = True) # Relleno todos con 0 los missing de las columnas que representan subcategorías en\n",
    "        #las que solo respondieron algunos. \n",
    "        eph.reset_index(inplace = True, drop = True)  \n",
    "    except:\n",
    "        print(\"No se encontró alguna columna, revisar\")   "
   ]
  },
  {
   "cell_type": "code",
   "execution_count": 6,
   "id": "750409c0",
   "metadata": {},
   "outputs": [],
   "source": [
    "columnas_ing = [\"CODUSU\",\"ANO4\",\"TRIMESTRE\",\"COMPONENTE\",\"AGLOMERADO\",\"MAS_500\",\"CH04\",\"CH06\",\"CH08\",\"PP02E\",\n",
    "\"CH09\",\"CH10\",\"CH11\",\"CH12\",\"CH13\",\"CH15\",\"CH07\",\"CH16\",\"NIVEL_ED\",\"ESTADO\",\"CAT_OCUP\",\"CAT_INAC\",\"PP04B3_ANO\",\n",
    "\"PP03G\",\"PP03I\",\"INTENSI\",\"PP11T\",\"PP11S\",\"PP11O\",\"PP11N\",\"PP11L1\",\"PP10D\",\"PP10A\",\"PP10C\",\"PP07H\",\"PP07G4\",\"PP11A\",\n",
    "\"PP10E\",\"PP09C\",\"PP07K\",\"PP07G_59\",\"PP07G2\",\"PP07G1\",\"PP07C\",\"PP07A\",\"PP05H\",\"PP04G\",\"IV2\",\"IV11\",\"IV12_3\",\"IV1\", \n",
    "\"PONDERA\",\"II7\",\"II8\",\"II9\",\"V5\",\"V17\",\"IV3\",\"V4\",\"IV6\",\"IV7\",\"IV8\",\"IV9\",\"V3\",\"V6\",\"V8\",\"PP02I\",\"PP3E_TOT\",\"PP3F_TOT\",\n",
    "\"IV10\",\"IV11\",\"II4_1\",\"II4_2\",\"II4_3\",\"V1\",\"V2\",\"V9\",\"V10\",\"V13\",\"V14\",\"V15\",\"V18\",\"IX_TOT\",\"IX_MEN10\",\"ITF\",\"DECIFR\",\n",
    "\"ADECIFR\",\"IPCF\",\"DECCFR\",\"ADECCFR\",\"PONDIH\",\"PP08D1\",\"P21\",\"DECOCUR\",\"TOT_P12\",\"P47T\"]\n",
    "\n",
    "columnas = [\"CODUSU\",\"ANO4\",\"TRIMESTRE\",\"COMPONENTE\",\"AGLOMERADO\",\"MAS_500\",\"CH04\",\"CH06\",\"CH08\",\"PP02E\",\"PP02I\",\n",
    "\"CH09\",\"CH10\",\"CH11\",\"CH12\",\"CH13\",\"CH15\",\"CH07\",\"CH16\",\"NIVEL_ED\",\"ESTADO\",\"CAT_OCUP\",\"CAT_INAC\",\"PP04B3_ANO\",\n",
    "\"PP03G\",\"PP03I\",\"INTENSI\",\"PP11T\",\"PP11S\",\"PP11O\",\"PP11N\",\"PP11L1\",\"PP10D\",\"PP10A\",\"PP10C\",\"PP07H\",\"PP07G4\",\"PP11A\",\n",
    "\"PP10E\",\"PP09C\",\"PP07K\",\"PP07G_59\",\"PP07G2\",\"PP07G1\",\"PP07C\",\"PP07A\",\"PP05H\",\"PP04G\",\"IV2\",\"IV11\",\"IV12_3\",\"IV1\", \n",
    "\"PONDERA\",\"II7\",\"II8\",\"II9\",\"V5\",\"V17\",\"IV3\",\"V4\",\"IV6\",\"IV7\",\"IV8\",\"IV9\",\"V3\",\"V6\",\"V8\",\"PP3E_TOT\",\"PP3F_TOT\",\n",
    "\"IV10\",\"IV11\",\"II4_1\",\"II4_2\",\"II4_3\",\"V1\",\"V2\",\"V9\",\"V10\",\"V13\",\"V14\",\"V15\",\"V18\",\"IX_TOT\",\"IX_MEN10\"]"
   ]
  },
  {
   "cell_type": "code",
   "execution_count": 7,
   "id": "b2a63561",
   "metadata": {},
   "outputs": [],
   "source": [
    "eph = eph_todo[columnas_ing]"
   ]
  },
  {
   "cell_type": "code",
   "execution_count": 8,
   "id": "c8ea6d9f",
   "metadata": {
    "scrolled": true
   },
   "outputs": [
    {
     "name": "stderr",
     "output_type": "stream",
     "text": [
      "<ipython-input-5-7d9f8ee8e7f0>:12: SettingWithCopyWarning: \n",
      "A value is trying to be set on a copy of a slice from a DataFrame\n",
      "\n",
      "See the caveats in the documentation: https://pandas.pydata.org/pandas-docs/stable/user_guide/indexing.html#returning-a-view-versus-a-copy\n",
      "  eph.dropna(thresh = 1, inplace = True) # Si tiene todos NA, la fila se va\n",
      "<ipython-input-5-7d9f8ee8e7f0>:14: SettingWithCopyWarning: \n",
      "A value is trying to be set on a copy of a slice from a DataFrame\n",
      "\n",
      "See the caveats in the documentation: https://pandas.pydata.org/pandas-docs/stable/user_guide/indexing.html#returning-a-view-versus-a-copy\n",
      "  eph.dropna(thresh = 1, axis = \"columns\", inplace = True) # Si la columna tiene todos NA, la columna se va\n",
      "C:\\Users\\felip\\anaconda3\\lib\\site-packages\\pandas\\core\\generic.py:5494: SettingWithCopyWarning: \n",
      "A value is trying to be set on a copy of a slice from a DataFrame.\n",
      "Try using .loc[row_indexer,col_indexer] = value instead\n",
      "\n",
      "See the caveats in the documentation: https://pandas.pydata.org/pandas-docs/stable/user_guide/indexing.html#returning-a-view-versus-a-copy\n",
      "  self[name] = value\n",
      "C:\\Users\\felip\\anaconda3\\lib\\site-packages\\pandas\\core\\frame.py:4462: SettingWithCopyWarning: \n",
      "A value is trying to be set on a copy of a slice from a DataFrame\n",
      "\n",
      "See the caveats in the documentation: https://pandas.pydata.org/pandas-docs/stable/user_guide/indexing.html#returning-a-view-versus-a-copy\n",
      "  return super().fillna(\n"
     ]
    }
   ],
   "source": [
    "limpiar_eph(eph)"
   ]
  },
  {
   "cell_type": "code",
   "execution_count": 9,
   "id": "52b33667",
   "metadata": {
    "scrolled": true
   },
   "outputs": [
    {
     "name": "stderr",
     "output_type": "stream",
     "text": [
      "<ipython-input-9-4366311f0076>:1: SettingWithCopyWarning: \n",
      "A value is trying to be set on a copy of a slice from a DataFrame.\n",
      "Try using .loc[row_indexer,col_indexer] = value instead\n",
      "\n",
      "See the caveats in the documentation: https://pandas.pydata.org/pandas-docs/stable/user_guide/indexing.html#returning-a-view-versus-a-copy\n",
      "  eph[\"CH06\"] = eph[\"CH06\"].replace(-1, 35)\n"
     ]
    }
   ],
   "source": [
    "eph[\"CH06\"] = eph[\"CH06\"].replace(-1, 35)"
   ]
  },
  {
   "cell_type": "code",
   "execution_count": 10,
   "id": "ebb57a77",
   "metadata": {
    "scrolled": true
   },
   "outputs": [
    {
     "name": "stderr",
     "output_type": "stream",
     "text": [
      "<ipython-input-10-7bbed948d211>:8: SettingWithCopyWarning: \n",
      "A value is trying to be set on a copy of a slice from a DataFrame.\n",
      "Try using .loc[row_indexer,col_indexer] = value instead\n",
      "\n",
      "See the caveats in the documentation: https://pandas.pydata.org/pandas-docs/stable/user_guide/indexing.html#returning-a-view-versus-a-copy\n",
      "  eph[\"adulto_equiv\"] = 0\n",
      "<ipython-input-10-7bbed948d211>:10: SettingWithCopyWarning: \n",
      "A value is trying to be set on a copy of a slice from a DataFrame.\n",
      "Try using .loc[row_indexer,col_indexer] = value instead\n",
      "\n",
      "See the caveats in the documentation: https://pandas.pydata.org/pandas-docs/stable/user_guide/indexing.html#returning-a-view-versus-a-copy\n",
      "  eph[\"lista\"] = 0\n",
      "C:\\Users\\felip\\anaconda3\\lib\\site-packages\\pandas\\core\\indexing.py:1720: SettingWithCopyWarning: \n",
      "A value is trying to be set on a copy of a slice from a DataFrame.\n",
      "Try using .loc[row_indexer,col_indexer] = value instead\n",
      "\n",
      "See the caveats in the documentation: https://pandas.pydata.org/pandas-docs/stable/user_guide/indexing.html#returning-a-view-versus-a-copy\n",
      "  self._setitem_single_column(loc, value, pi)\n",
      "C:\\Users\\felip\\anaconda3\\lib\\site-packages\\pandas\\core\\frame.py:4308: SettingWithCopyWarning: \n",
      "A value is trying to be set on a copy of a slice from a DataFrame\n",
      "\n",
      "See the caveats in the documentation: https://pandas.pydata.org/pandas-docs/stable/user_guide/indexing.html#returning-a-view-versus-a-copy\n",
      "  return super().drop(\n"
     ]
    }
   ],
   "source": [
    "#Importamos la tabla de excel\n",
    "tabla_adulto = pd.read_excel(\"tabla_adulto_equiv.xlsx\", header = 3)\n",
    "#Ajustamos el formato de la tabla \n",
    "tabla_adulto.dropna(axis = 1, inplace = True, thresh = 10)\n",
    "tabla_adulto.dropna(inplace = True, thresh = 3)\n",
    "tabla_adulto.reset_index(inplace = True, drop = True)\n",
    "#Creamos la columna \"adulto_equiv\" como una columna de ceros\n",
    "eph[\"adulto_equiv\"] = 0\n",
    "#Generamos una nueva columna llamada lista como una columna de ceros \n",
    "eph[\"lista\"] = 0\n",
    "#Iteramos por filas\n",
    "#Para cada fila del data frame de acuerdo a la edad le indicamos que \n",
    "#la celda de la columna \"lista\" la complete con el número correspondiente \n",
    "#al índice de la tabla_adulto. \n",
    "#Por ejemplo, si la edad es menor a 30 entonces se asigna el numero 18 que es\n",
    "#el índice de la fila de 18 a 29 años. \n",
    "for i in eph.index:\n",
    "    if eph.loc[i, \"CH06\"] < 19:\n",
    "        eph.loc[i, \"lista\"] = eph.loc[i, \"CH06\"]\n",
    "    elif eph.loc[i, \"CH06\"] < 30:\n",
    "        eph.loc[i, \"lista\"] = 18\n",
    "    elif eph.loc[i, \"CH06\"] < 46:\n",
    "        eph.loc[i, \"lista\"] = 19\n",
    "    elif eph.loc[i, \"CH06\"] < 61:\n",
    "        eph.loc[i, \"lista\"] = 20\n",
    "    elif eph.loc[i, \"CH06\"] < 76:\n",
    "        eph.loc[i, \"lista\"] = 21\n",
    "    else:\n",
    "        eph.loc[i, \"lista\"] = 22\n",
    "#CH06 = edad, CH04 = Sexo (1 = varon y 2 = mujer)\n",
    "#Para cada fila del dataframe si el individuo es varón entonces le indicamos que bajo \n",
    "#la columna \"adulto_equiv\" coloque la siguiente celda de tabla_adulto: \n",
    "# Fila: el índice que esta guardado en la columna \"lista\" en el df eph. \n",
    "# Columna: Varones \n",
    "#idem para las mujeres\n",
    "#De este modo se obtienen los valores de adulto equivalente de cada persona según \n",
    "#su sexo y edad\n",
    "for i in eph.index:\n",
    "    if eph.loc[i, \"CH04\"] == 1:\n",
    "        eph.loc[i, \"adulto_equiv\"] = tabla_adulto.loc[eph.loc[i, \"lista\"], \"Varones\"]\n",
    "    elif eph.loc[i, \"CH04\"] == 2:\n",
    "        eph.loc[i, \"adulto_equiv\"] = tabla_adulto.loc[eph.loc[i, \"lista\"], \"Mujeres\"]\n",
    "#Eliminamos la columna \"lista\"\n",
    "eph.drop(\"lista\", axis = 1, inplace = True)\n",
    "#Realizamos un groupby: para cada hogar sumamos \"adulto_equiv\"\n",
    "ad_equiv_hogar = eph[[\"CODUSU\",\"ANO4\",\"TRIMESTRE\",\"adulto_equiv\"]].groupby([\"CODUSU\",\"ANO4\",\"TRIMESTRE\"]).sum()\n",
    "ad_equiv_hogar.reset_index(inplace = True)\n",
    "#cambiamos los nombres de las columnas\n",
    "ad_equiv_hogar.columns = [\"CODUSU\",\"ANO4\",\"TRIMESTRE\",\"ad_equiv_hogar\"]\n",
    "#agregamos la columnna \"ad_equiv_hogar\" al df eph\n",
    "eph = eph.merge(ad_equiv_hogar, on = [\"CODUSU\",\"ANO4\",\"TRIMESTRE\"], how = \"left\")"
   ]
  },
  {
   "cell_type": "code",
   "execution_count": 11,
   "id": "0b355874",
   "metadata": {},
   "outputs": [],
   "source": [
    "# Dividimos la muestra de la EPH en gente que no respondió ingresos totales familiares (ITF) y los que sí.\n",
    "norespondieron = eph[eph[\"ITF\"] <= 0]\n",
    "norespondieron.reset_index(inplace = True, drop = True)\n",
    "respondieron = eph[eph[\"ITF\"] > 0]\n",
    "respondieron.reset_index(inplace = True, drop = True)"
   ]
  },
  {
   "cell_type": "code",
   "execution_count": 12,
   "id": "e84dbf41",
   "metadata": {
    "scrolled": true
   },
   "outputs": [],
   "source": [
    "test = respondieron.groupby([\"CODUSU\",\"COMPONENTE\"]).agg({\"ANO4\":\"count\"})\n",
    "test.reset_index(inplace = True)\n",
    "test.rename(columns={'ANO4': 'aparece'}, inplace=True)\n",
    "respondieron = respondieron.merge(test, on = [\"CODUSU\",\"COMPONENTE\"], how = \"left\")\n",
    "respondieron = respondieron[respondieron[\"aparece\"]==4]\n",
    "respondieron.drop(\"aparece\",axis=1,inplace=True)"
   ]
  },
  {
   "cell_type": "code",
   "execution_count": 13,
   "id": "d743da66",
   "metadata": {
    "scrolled": true
   },
   "outputs": [],
   "source": [
    "# Ingresos mínimos por trimestre, hice un promedio del CBT por trimestre.\n",
    "im_2t_2016 = 3812\n",
    "im_3t_2016 = 4055\n",
    "im_4t_2016 = 4232\n",
    "im_1t_2017 = 4432\n",
    "im_2t_2017 = 4744\n",
    "im_3t_2017 = 4932\n",
    "im_4t_2017 = 5219\n",
    "\n",
    "# Creamos una columna de ingreso necesario para no ser pobre y la rellenamos con el for loop teniendo en cuenta el año\n",
    "# y trimestre. Toma valores dependiendo de la columna ad_equiv_hogar * ingreso minimo per cápita.\n",
    "respondieron[\"ingreso_necesario\"] = 0\n",
    "for i in respondieron.index:\n",
    "    if (respondieron.loc[i, \"ANO4\"] == 2016) & (respondieron.loc[i, \"TRIMESTRE\"] == 2):\n",
    "        respondieron.loc[i, \"ingreso_necesario\"] = im_2t_2016 * respondieron.loc[i,\"ad_equiv_hogar\"]\n",
    "    elif (respondieron.loc[i, \"ANO4\"] == 2016) & (respondieron.loc[i, \"TRIMESTRE\"] == 3):\n",
    "        respondieron.loc[i, \"ingreso_necesario\"] = im_3t_2016 * respondieron.loc[i,\"ad_equiv_hogar\"]\n",
    "    elif (respondieron.loc[i, \"ANO4\"] == 2016) & (respondieron.loc[i, \"TRIMESTRE\"] == 4):\n",
    "        respondieron.loc[i, \"ingreso_necesario\"] = im_4t_2016 * respondieron.loc[i,\"ad_equiv_hogar\"]\n",
    "    elif (respondieron.loc[i, \"ANO4\"] == 2017) & (respondieron.loc[i, \"TRIMESTRE\"] == 1):\n",
    "        respondieron.loc[i, \"ingreso_necesario\"] = im_1t_2017 * respondieron.loc[i,\"ad_equiv_hogar\"]\n",
    "    elif (respondieron.loc[i, \"ANO4\"] == 2017) & (respondieron.loc[i, \"TRIMESTRE\"] == 2):\n",
    "        respondieron.loc[i, \"ingreso_necesario\"] = im_2t_2017 * respondieron.loc[i,\"ad_equiv_hogar\"]\n",
    "    elif (respondieron.loc[i, \"ANO4\"] == 2017) & (respondieron.loc[i, \"TRIMESTRE\"] == 3):\n",
    "        respondieron.loc[i, \"ingreso_necesario\"] = im_3t_2017 * respondieron.loc[i,\"ad_equiv_hogar\"]\n",
    "    elif (respondieron.loc[i, \"ANO4\"] == 2017) & (respondieron.loc[i, \"TRIMESTRE\"] == 4):\n",
    "        respondieron.loc[i, \"ingreso_necesario\"] = im_4t_2017 * respondieron.loc[i,\"ad_equiv_hogar\"]\n",
    "        \n",
    "# Creamos una columna dummy, que dice si el individuo es pobre o no. Depende de si sus ingresos\n",
    "# son mayores a ingreso_necesario\n",
    "respondieron[\"pobre\"] = (respondieron[\"ITF\"] < respondieron[\"ingreso_necesario\"]).astype(int)"
   ]
  },
  {
   "cell_type": "markdown",
   "id": "86c363ff",
   "metadata": {},
   "source": [
    "# Estadística descriptiva"
   ]
  },
  {
   "cell_type": "code",
   "execution_count": 14,
   "id": "977cc8fd",
   "metadata": {},
   "outputs": [],
   "source": [
    "eph_pob = respondieron.groupby([\"CODUSU\",\"ANO4\",\"TRIMESTRE\"]).agg({\"PONDIH\":\"mean\",\"pobre\":\"mean\"})\n",
    "eph_pob.reset_index(inplace=True)\n",
    "pon_pob_t2_16 = eph_pob[(eph_pob[\"pobre\"] == 1) & (eph_pob[\"TRIMESTRE\"] == 2) & \n",
    "                        (eph_pob[\"ANO4\"] == 2016)].apply({\"PONDIH\":\"sum\"})\n",
    "pon_pob_t3_16 = eph_pob[(eph_pob[\"pobre\"] == 1) & (eph_pob[\"TRIMESTRE\"] == 3) & \n",
    "                        (eph_pob[\"ANO4\"] == 2016)].apply({\"PONDIH\":\"sum\"})\n",
    "pon_pob_t4_16 = eph_pob[(eph_pob[\"pobre\"] == 1) & (eph_pob[\"TRIMESTRE\"] == 4) & \n",
    "                        (eph_pob[\"ANO4\"] == 2016)].apply({\"PONDIH\":\"sum\"})\n",
    "pon_pob_t2_17 = eph_pob[(eph_pob[\"pobre\"] == 1) & (eph_pob[\"TRIMESTRE\"] == 2) & \n",
    "                        (eph_pob[\"ANO4\"] == 2017)].apply({\"PONDIH\":\"sum\"})\n",
    "pon_pob_t3_17 = eph_pob[(eph_pob[\"pobre\"] == 1) & (eph_pob[\"TRIMESTRE\"] == 3) & \n",
    "                        (eph_pob[\"ANO4\"] == 2017)].apply({\"PONDIH\":\"sum\"})\n",
    "pon_pob_t4_17 = eph_pob[(eph_pob[\"pobre\"] == 1) & (eph_pob[\"TRIMESTRE\"] == 4) & \n",
    "                        (eph_pob[\"ANO4\"] == 2017)].apply({\"PONDIH\":\"sum\"})\n",
    "pon_tot_t2_16 = eph_pob[(eph_pob[\"TRIMESTRE\"] == 2) & (eph_pob[\"ANO4\"] == 2016)].apply({\"PONDIH\":\"sum\"})\n",
    "pon_tot_t3_16 = eph_pob[(eph_pob[\"TRIMESTRE\"] == 3) & (eph_pob[\"ANO4\"] == 2016)].apply({\"PONDIH\":\"sum\"})\n",
    "pon_tot_t4_16 = eph_pob[(eph_pob[\"TRIMESTRE\"] == 4) & (eph_pob[\"ANO4\"] == 2016)].apply({\"PONDIH\":\"sum\"})\n",
    "pon_tot_t2_17 = eph_pob[(eph_pob[\"TRIMESTRE\"] == 2) & (eph_pob[\"ANO4\"] == 2017)].apply({\"PONDIH\":\"sum\"})\n",
    "pon_tot_t3_17 = eph_pob[(eph_pob[\"TRIMESTRE\"] == 3) & (eph_pob[\"ANO4\"] == 2017)].apply({\"PONDIH\":\"sum\"})\n",
    "pon_tot_t4_17 = eph_pob[(eph_pob[\"TRIMESTRE\"] == 4) & (eph_pob[\"ANO4\"] == 2017)].apply({\"PONDIH\":\"sum\"})\n",
    "ratio = {\"2°t 2016\":pon_pob_t2_16.item()/pon_tot_t2_16.item(),\"3°t 2016\":pon_pob_t3_16.item()/pon_tot_t3_16.item(),\n",
    "         \"4°t 2016\":pon_pob_t4_16.item()/pon_tot_t4_16.item(),\"2°t 2017\":pon_pob_t2_17.item()/pon_tot_t2_17.item(),\n",
    "         \"3°t 2017\":pon_pob_t3_17.item()/pon_tot_t3_17.item(),\"4°t 2017\":pon_pob_t4_17.item()/pon_tot_t4_17.item()}"
   ]
  },
  {
   "cell_type": "code",
   "execution_count": 15,
   "id": "eb1ee6cb",
   "metadata": {
    "scrolled": true
   },
   "outputs": [
    {
     "data": {
      "text/plain": [
       "15210"
      ]
     },
     "execution_count": 15,
     "metadata": {},
     "output_type": "execute_result"
    }
   ],
   "source": [
    "#Calculamos en cuantos trimestres en total individuos se encontraron en situación de Pobreza \n",
    "respondieron.pobre.sum()"
   ]
  },
  {
   "cell_type": "code",
   "execution_count": 16,
   "id": "1f5b5b9f",
   "metadata": {},
   "outputs": [],
   "source": [
    "gente_pobre = respondieron.groupby([\"CODUSU\",\"COMPONENTE\"]).agg({\"pobre\":\"max\"})"
   ]
  },
  {
   "cell_type": "code",
   "execution_count": 17,
   "id": "b491876d",
   "metadata": {},
   "outputs": [
    {
     "data": {
      "text/html": [
       "<div>\n",
       "<style scoped>\n",
       "    .dataframe tbody tr th:only-of-type {\n",
       "        vertical-align: middle;\n",
       "    }\n",
       "\n",
       "    .dataframe tbody tr th {\n",
       "        vertical-align: top;\n",
       "    }\n",
       "\n",
       "    .dataframe thead th {\n",
       "        text-align: right;\n",
       "    }\n",
       "</style>\n",
       "<table border=\"1\" class=\"dataframe\">\n",
       "  <thead>\n",
       "    <tr style=\"text-align: right;\">\n",
       "      <th></th>\n",
       "      <th></th>\n",
       "      <th>pobre</th>\n",
       "    </tr>\n",
       "    <tr>\n",
       "      <th>CODUSU</th>\n",
       "      <th>COMPONENTE</th>\n",
       "      <th></th>\n",
       "    </tr>\n",
       "  </thead>\n",
       "  <tbody>\n",
       "    <tr>\n",
       "      <th rowspan=\"2\" valign=\"top\">TQRMNOPPQHJKKTCDEHMHF00479193</th>\n",
       "      <th>1</th>\n",
       "      <td>0</td>\n",
       "    </tr>\n",
       "    <tr>\n",
       "      <th>2</th>\n",
       "      <td>0</td>\n",
       "    </tr>\n",
       "    <tr>\n",
       "      <th rowspan=\"3\" valign=\"top\">TQRMNOPPQHJMKRCDEFOCD00472238</th>\n",
       "      <th>1</th>\n",
       "      <td>1</td>\n",
       "    </tr>\n",
       "    <tr>\n",
       "      <th>2</th>\n",
       "      <td>1</td>\n",
       "    </tr>\n",
       "    <tr>\n",
       "      <th>3</th>\n",
       "      <td>1</td>\n",
       "    </tr>\n",
       "    <tr>\n",
       "      <th>...</th>\n",
       "      <th>...</th>\n",
       "      <td>...</td>\n",
       "    </tr>\n",
       "    <tr>\n",
       "      <th>TQUMNOPQUHJMLOCDEFMDB00471489</th>\n",
       "      <th>3</th>\n",
       "      <td>1</td>\n",
       "    </tr>\n",
       "    <tr>\n",
       "      <th rowspan=\"2\" valign=\"top\">TQUMNOPXSHKNKPCDEIHJF00494381</th>\n",
       "      <th>1</th>\n",
       "      <td>0</td>\n",
       "    </tr>\n",
       "    <tr>\n",
       "      <th>2</th>\n",
       "      <td>0</td>\n",
       "    </tr>\n",
       "    <tr>\n",
       "      <th rowspan=\"2\" valign=\"top\">TQVMNOPXSHKNKPCDEIHJF00494445</th>\n",
       "      <th>1</th>\n",
       "      <td>0</td>\n",
       "    </tr>\n",
       "    <tr>\n",
       "      <th>2</th>\n",
       "      <td>0</td>\n",
       "    </tr>\n",
       "  </tbody>\n",
       "</table>\n",
       "<p>11008 rows × 1 columns</p>\n",
       "</div>"
      ],
      "text/plain": [
       "                                          pobre\n",
       "CODUSU                        COMPONENTE       \n",
       "TQRMNOPPQHJKKTCDEHMHF00479193 1               0\n",
       "                              2               0\n",
       "TQRMNOPPQHJMKRCDEFOCD00472238 1               1\n",
       "                              2               1\n",
       "                              3               1\n",
       "...                                         ...\n",
       "TQUMNOPQUHJMLOCDEFMDB00471489 3               1\n",
       "TQUMNOPXSHKNKPCDEIHJF00494381 1               0\n",
       "                              2               0\n",
       "TQVMNOPXSHKNKPCDEIHJF00494445 1               0\n",
       "                              2               0\n",
       "\n",
       "[11008 rows x 1 columns]"
      ]
     },
     "execution_count": 17,
     "metadata": {},
     "output_type": "execute_result"
    }
   ],
   "source": [
    "gente_pobre"
   ]
  },
  {
   "cell_type": "code",
   "execution_count": 18,
   "id": "a160423e",
   "metadata": {},
   "outputs": [
    {
     "data": {
      "text/plain": [
       "5570"
      ]
     },
     "execution_count": 18,
     "metadata": {},
     "output_type": "execute_result"
    }
   ],
   "source": [
    "#Calculamos cuanta gente fue pobre en al menos uno de los 4 perídos\n",
    "gente_pobre.pobre.sum()"
   ]
  },
  {
   "cell_type": "code",
   "execution_count": 19,
   "id": "e99795fa",
   "metadata": {
    "scrolled": true
   },
   "outputs": [
    {
     "data": {
      "text/plain": [
       "11008"
      ]
     },
     "execution_count": 19,
     "metadata": {},
     "output_type": "execute_result"
    }
   ],
   "source": [
    "#Cuanta gente hay en la muestra\n",
    "gente_pobre.pobre.count()"
   ]
  },
  {
   "cell_type": "code",
   "execution_count": 20,
   "id": "46e775db",
   "metadata": {},
   "outputs": [
    {
     "data": {
      "text/plain": [
       "0.5059956395348837"
      ]
     },
     "execution_count": 20,
     "metadata": {},
     "output_type": "execute_result"
    }
   ],
   "source": [
    "5570/11008"
   ]
  },
  {
   "cell_type": "markdown",
   "id": "5361f152",
   "metadata": {},
   "source": [
    "El 50% de las personas fue pobre en al menos 1 de los 4 períodos. "
   ]
  },
  {
   "cell_type": "code",
   "execution_count": 21,
   "id": "a4dbd694",
   "metadata": {},
   "outputs": [
    {
     "data": {
      "text/plain": [
       "{'2°t 2016': 0.22387206681571326,\n",
       " '3°t 2016': 0.2000394477160845,\n",
       " '4°t 2016': 0.20205662475378344,\n",
       " '2°t 2017': 0.20168084201320816,\n",
       " '3°t 2017': 0.17904432513710022,\n",
       " '4°t 2017': 0.16948532346355336}"
      ]
     },
     "execution_count": 21,
     "metadata": {},
     "output_type": "execute_result"
    }
   ],
   "source": [
    "ratio"
   ]
  },
  {
   "cell_type": "code",
   "execution_count": 22,
   "id": "d71fbb02",
   "metadata": {},
   "outputs": [
    {
     "data": {
      "image/png": "[encoded data removed]",
      "text/plain": [
       "<Figure size 432x288 with 1 Axes>"
      ]
     },
     "metadata": {
      "needs_background": "light"
     },
     "output_type": "display_data"
    }
   ],
   "source": [
    "#Graficamos la evolución de la Tasa de Pobreza\n",
    "eje_x = list(ratio.keys())\n",
    "eje_y = list(ratio.values())\n",
    "plt.bar(eje_x, eje_y)\n",
    "plt.ylabel('Tasa de Pobreza')\n",
    "plt.xlabel(\"Trimestre\")\n",
    "plt.title('Evolución tasa de pobreza hogares')\n",
    "plt.show()"
   ]
  },
  {
   "cell_type": "code",
   "execution_count": 23,
   "id": "52416d72",
   "metadata": {},
   "outputs": [
    {
     "data": {
      "image/png": "[encoded data removed]",
      "text/plain": [
       "<Figure size 432x288 with 1 Axes>"
      ]
     },
     "metadata": {
      "needs_background": "light"
     },
     "output_type": "display_data"
    }
   ],
   "source": [
    "ratio_indec = {\"2°t 2016\": 0.225,\"3°t 2016\": 0.215,\n",
    "         \"4°t 2016\": 0.215,\"2°t 2017\": 0.204,\n",
    "         \"3°t 2017\": 0.179,\"4°t 2017\":0.179}\n",
    "\n",
    "lista_ratio = ratio.values()\n",
    "lista_ratio = list(lista_ratio)\n",
    "lista_ratio\n",
    "lista_ratio_indec = ratio_indec.values()\n",
    "lista_ratio_indec = list(lista_ratio_indec)\n",
    "lista_ratio_indec\n",
    "lista_ano = ratio.keys()\n",
    "lista_ano = list(lista_ano)\n",
    "lista_ratio\n",
    "\n",
    "numero_de_grupos = len(lista_ratio)\n",
    "indice_barras = np.arange(numero_de_grupos)\n",
    "ancho_barras =0.35\n",
    " \n",
    "plt.bar(indice_barras, lista_ratio, width=ancho_barras, label='Nosotros')\n",
    "plt.bar(indice_barras + ancho_barras, lista_ratio_indec, width=ancho_barras, label='INDEC')\n",
    "plt.legend(loc='best')\n",
    "## Se colocan los indicadores en el eje x\n",
    "plt.xticks(indice_barras + ancho_barras, (lista_ano))\n",
    " \n",
    "plt.ylabel(\"Tasa de pobreza\")\n",
    "plt.xlabel('Periodo')\n",
    "plt.title('Tasa de pobreza por trimestre (2016-2017)')\n",
    " \n",
    "plt.show()"
   ]
  },
  {
   "cell_type": "code",
   "execution_count": 24,
   "id": "470e8934",
   "metadata": {},
   "outputs": [],
   "source": [
    "#Agregamos a cada observación una columna que indica si fue pobre o no en el periodo siguiente. \n",
    "#NOTAR: Las ultimas observaciones de cada individuo no tienen sentido\n",
    "respondieron['pobre_prox'] = respondieron['pobre'].shift(-1)"
   ]
  },
  {
   "cell_type": "markdown",
   "id": "ac57254a",
   "metadata": {},
   "source": [
    "### Calculamos cantidad de personas que entran a la pobreza y cantidad que salen entre periodos"
   ]
  },
  {
   "cell_type": "code",
   "execution_count": 25,
   "id": "f19f3a7a",
   "metadata": {},
   "outputs": [],
   "source": [
    "respondieron.reset_index(inplace=True,drop=True)"
   ]
  },
  {
   "cell_type": "code",
   "execution_count": 26,
   "id": "4a404e43",
   "metadata": {},
   "outputs": [],
   "source": [
    "respondieron[\"j\"]=0\n",
    "respondieron[\"i\"]=0\n",
    "respondieron[\"j\"] = [1 if index >= 22268 else 0 for index in respondieron.index]\n",
    "respondieron[\"i\"] = [1 if index < 22268 else 0 for index in respondieron.index]"
   ]
  },
  {
   "cell_type": "code",
   "execution_count": 27,
   "id": "2efe6f7e",
   "metadata": {},
   "outputs": [],
   "source": [
    "#Calculamos transición de segundo a tercer trimestre de 2016\n",
    "muestra_t2_2016 = respondieron[(respondieron[\"TRIMESTRE\"] == 2) & (respondieron[\"ANO4\"] == 2016)].pobre.count()\n",
    "\n",
    "per_t2_2016 = respondieron[(respondieron[\"TRIMESTRE\"] == 2) & (respondieron[\"ANO4\"] == 2016)].pobre.sum()\n",
    "pobres_t2a3_16 = respondieron[(respondieron[\"TRIMESTRE\"]==2)&\n",
    "                           (respondieron[\"ANO4\"]==2016)&\n",
    "                           (respondieron[\"pobre\"]==1)].pobre_prox.sum()\n",
    "salen_t2a3_16 = respondieron[(respondieron[\"TRIMESTRE\"]==2)&\n",
    "                          (respondieron[\"ANO4\"]==2016)&(respondieron[\"pobre\"]==1)&\n",
    "                          (respondieron[\"pobre_prox\"]==0)].pobre_prox.count()\n",
    "chetos_t2_16 = muestra_t2_2016 - per_t2_2016\n",
    "entran_t2a3_16 = respondieron[(respondieron[\"TRIMESTRE\"]==2)&\n",
    "                           (respondieron[\"ANO4\"]==2016)&\n",
    "                           (respondieron[\"pobre\"]==0)&\n",
    "                           (respondieron[\"pobre_prox\"]==1)].pobre_prox.count()\n",
    "no_vulnerables = respondieron[(respondieron[\"TRIMESTRE\"]==2)&\n",
    "                              (respondieron[\"ANO4\"]==2016)&\n",
    "                              (respondieron[\"pobre\"]==0)&\n",
    "                              (respondieron[\"pobre_prox\"]==0)].pobre_prox.count()"
   ]
  },
  {
   "cell_type": "code",
   "execution_count": 28,
   "id": "024672b5",
   "metadata": {},
   "outputs": [
    {
     "data": {
      "text/plain": [
       "{'pobres': 0.7732151189920672,\n",
       " 'salen': 0.22678488100793281,\n",
       " 'entran': 0.10251168224299065,\n",
       " 'no_vulnerables': 0.8974883177570093}"
      ]
     },
     "execution_count": 28,
     "metadata": {},
     "output_type": "execute_result"
    }
   ],
   "source": [
    "#Calculamos porcentaje de cada una de las 4 posibilidades\n",
    "t2_t3_16 = {\"pobres\":pobres_t2a3_16/per_t2_2016,\"salen\":salen_t2a3_16/per_t2_2016,\n",
    "            \"entran\":entran_t2a3_16/chetos_t2_16,\"no_vulnerables\":no_vulnerables/chetos_t2_16}\n",
    "t2_t3_16"
   ]
  },
  {
   "cell_type": "markdown",
   "id": "5e8c804a",
   "metadata": {},
   "source": [
    "Interpretación:\n",
    "\n",
    "-El 75% de los pobres en t2, es pobre en t3. \n",
    "\n",
    "-El 25% de los pobres en t2, NO es pobre en t3. \n",
    "\n",
    "-El 10% de los no pobres en t2, es pobre en t3. \n",
    "\n",
    "-El 90% de los no pobres en t2, NO es pobre en t3."
   ]
  },
  {
   "cell_type": "code",
   "execution_count": 29,
   "id": "76fa9283",
   "metadata": {},
   "outputs": [
    {
     "data": {
      "text/plain": [
       "{'pobres': 0.7906137184115524,\n",
       " 'salen': 0.20938628158844766,\n",
       " 'entran': 0.1327812678469446,\n",
       " 'no_vulnerables': 0.8672187321530554}"
      ]
     },
     "execution_count": 29,
     "metadata": {},
     "output_type": "execute_result"
    }
   ],
   "source": [
    "#Calculamos transición de tercer a cuarto trimestre de 2016\n",
    "muestra_t3_2016 = respondieron[(respondieron[\"TRIMESTRE\"] == 3) & \n",
    "                               (respondieron[\"ANO4\"] == 2016) & \n",
    "                               (respondieron[\"j\"]==1)].pobre.count()\n",
    "\n",
    "per_t3_2016 = respondieron[(respondieron[\"TRIMESTRE\"] == 3) & \n",
    "                           (respondieron[\"ANO4\"] == 2016)& \n",
    "                           (respondieron[\"j\"]==1)].pobre.sum()\n",
    "pobres_t3a4_16 = respondieron[(respondieron[\"TRIMESTRE\"]==3)&\n",
    "                           (respondieron[\"ANO4\"]==2016)&\n",
    "                           (respondieron[\"pobre\"]==1)&\n",
    "                          (respondieron[\"j\"]==1)].pobre_prox.sum()\n",
    "salen_t3a4_16 = respondieron[(respondieron[\"TRIMESTRE\"]==3)&\n",
    "                          (respondieron[\"ANO4\"]==2016)&\n",
    "                          (respondieron[\"pobre\"]==1)&\n",
    "                          (respondieron[\"pobre_prox\"]==0)&\n",
    "                          (respondieron[\"j\"]==1)].pobre_prox.count()\n",
    "chetos_t3_16 = muestra_t3_2016 - per_t3_2016\n",
    "entran_t3a4_16 = respondieron[(respondieron[\"TRIMESTRE\"]==3)&\n",
    "                           (respondieron[\"ANO4\"]==2016)&\n",
    "                           (respondieron[\"pobre\"]==0)&\n",
    "                           (respondieron[\"pobre_prox\"]==1)&\n",
    "                           (respondieron[\"j\"]==1)].pobre_prox.count()\n",
    "no_vulnerables_2 = respondieron[(respondieron[\"TRIMESTRE\"]==3)&\n",
    "                              (respondieron[\"ANO4\"]==2016)&\n",
    "                              (respondieron[\"pobre\"]==0)&\n",
    "                              (respondieron[\"pobre_prox\"]==0)&\n",
    "                            (respondieron[\"j\"]==1)].pobre_prox.count()\n",
    "\n",
    "#Calculamos porcentaje de cada una de las 4 posibilidades\n",
    "t3_t4_16 = {\"pobres\": pobres_t3a4_16/per_t3_2016, \"salen\": salen_t3a4_16/per_t3_2016,\n",
    "         \"entran\": entran_t3a4_16/chetos_t3_16, \"no_vulnerables\": no_vulnerables_2/chetos_t3_16}\n",
    "t3_t4_16"
   ]
  },
  {
   "cell_type": "code",
   "execution_count": 30,
   "id": "1c180a83",
   "metadata": {},
   "outputs": [
    {
     "data": {
      "text/plain": [
       "{'pobres': 0.7350959046137895,\n",
       " 'salen': 0.26490409538621046,\n",
       " 'entran': 0.1011544804837823,\n",
       " 'no_vulnerables': 0.8988455195162177}"
      ]
     },
     "execution_count": 30,
     "metadata": {},
     "output_type": "execute_result"
    }
   ],
   "source": [
    "#Calculamos transición de segundo a tercer trimestre de 2017\n",
    "muestra_t2_2017 = respondieron[(respondieron[\"TRIMESTRE\"] == 2) & \n",
    "                               (respondieron[\"ANO4\"] == 2017)].pobre.count()\n",
    "\n",
    "per_t2_2017 = respondieron[(respondieron[\"TRIMESTRE\"] == 2) & \n",
    "                           (respondieron[\"ANO4\"] == 2017)].pobre.sum()\n",
    "pobres_t2a3_17 = respondieron[(respondieron[\"TRIMESTRE\"]==2)&\n",
    "                           (respondieron[\"ANO4\"]==2017)&\n",
    "                           (respondieron[\"pobre\"]==1)].pobre_prox.sum()\n",
    "salen_t2a3_17 = respondieron[(respondieron[\"TRIMESTRE\"]==2)&\n",
    "                          (respondieron[\"ANO4\"]==2017)&\n",
    "                             (respondieron[\"pobre\"]==1)&\n",
    "                          (respondieron[\"pobre_prox\"]==0)].pobre_prox.count()\n",
    "chetos_t2_17 = muestra_t2_2017 - per_t2_2017\n",
    "entran_t2a3_17 = respondieron[(respondieron[\"TRIMESTRE\"]==2)&\n",
    "                           (respondieron[\"ANO4\"]==2017)&\n",
    "                           (respondieron[\"pobre\"]==0)&\n",
    "                           (respondieron[\"pobre_prox\"]==1)].pobre_prox.count()\n",
    "no_vulnerables_3 = respondieron[(respondieron[\"TRIMESTRE\"]==2)&\n",
    "                              (respondieron[\"ANO4\"]==2017)&\n",
    "                              (respondieron[\"pobre\"]==0)&\n",
    "                              (respondieron[\"pobre_prox\"]==0)].pobre_prox.count()\n",
    "\n",
    "#Calculamos porcentaje de cada una de las 4 posibilidades\n",
    "t2_t3_17 = {\"pobres\": pobres_t2a3_17/per_t2_2017, \"salen\": salen_t2a3_17/per_t2_2017,\n",
    "         \"entran\": entran_t2a3_17/chetos_t2_17, \"no_vulnerables\": no_vulnerables_3/chetos_t2_17}\n",
    "t2_t3_17"
   ]
  },
  {
   "cell_type": "code",
   "execution_count": 31,
   "id": "86b6c458",
   "metadata": {},
   "outputs": [
    {
     "data": {
      "text/plain": [
       "{'pobres': 0.7648845686512759,\n",
       " 'salen': 0.23511543134872417,\n",
       " 'entran': 0.13227931488801054,\n",
       " 'no_vulnerables': 0.8677206851119894}"
      ]
     },
     "execution_count": 31,
     "metadata": {},
     "output_type": "execute_result"
    }
   ],
   "source": [
    "#Calculamos transición de tercer a cuarto trimestre de 2017\n",
    "muestra_t3_2017 = respondieron[(respondieron[\"TRIMESTRE\"] == 3) & (respondieron[\"ANO4\"] == 2017) & (respondieron[\"j\"]==1)].pobre.count()\n",
    "\n",
    "per_t3_2017 = respondieron[(respondieron[\"TRIMESTRE\"] == 3) & \n",
    "                           (respondieron[\"ANO4\"] == 2017)& \n",
    "                           (respondieron[\"j\"]==1)].pobre.sum()\n",
    "pobres_t3a4_17 = respondieron[(respondieron[\"TRIMESTRE\"]==3)&\n",
    "                           (respondieron[\"ANO4\"]==2017)&\n",
    "                           (respondieron[\"pobre\"]==1)&\n",
    "                          (respondieron[\"j\"]==1)].pobre_prox.sum()\n",
    "salen_t3a4_17 = respondieron[(respondieron[\"TRIMESTRE\"]==3)&\n",
    "                          (respondieron[\"ANO4\"]==2017)&\n",
    "                          (respondieron[\"pobre\"]==1)&\n",
    "                          (respondieron[\"pobre_prox\"]==0)&\n",
    "                          (respondieron[\"j\"]==1)].pobre_prox.count()\n",
    "chetos_t3_17 = muestra_t3_2017 - per_t3_2017\n",
    "entran_t3a4_17 = respondieron[(respondieron[\"TRIMESTRE\"]==3)&\n",
    "                           (respondieron[\"ANO4\"]==2017)&\n",
    "                           (respondieron[\"pobre\"]==0)&\n",
    "                           (respondieron[\"pobre_prox\"]==1)&\n",
    "                           (respondieron[\"j\"]==1)].pobre_prox.count()\n",
    "no_vulnerables_4 = respondieron[(respondieron[\"TRIMESTRE\"]==3)&\n",
    "                              (respondieron[\"ANO4\"]==2017)&\n",
    "                              (respondieron[\"pobre\"]==0)&\n",
    "                              (respondieron[\"pobre_prox\"]==0)&\n",
    "                            (respondieron[\"j\"]==1)].pobre_prox.count()\n",
    "\n",
    "#Calculamos porcentaje de cada una de las 4 posibilidades\n",
    "t3_t4_17 = {\"pobres\": pobres_t3a4_17/per_t3_2017, \"salen\": salen_t3a4_17/per_t3_2017,\n",
    "         \"entran\": entran_t3a4_17/chetos_t3_17, \"no_vulnerables\": no_vulnerables_4/chetos_t3_17}\n",
    "t3_t4_17"
   ]
  },
  {
   "cell_type": "code",
   "execution_count": 32,
   "id": "df64f152",
   "metadata": {},
   "outputs": [
    {
     "data": {
      "image/png": "[encoded data removed]",
      "text/plain": [
       "<Figure size 432x288 with 1 Axes>"
      ]
     },
     "metadata": {
      "needs_background": "light"
     },
     "output_type": "display_data"
    }
   ],
   "source": [
    "periodos = [\"2-3 2016\", \"3-4 2016\", \"2-3 2017\", \"3-4 2017\"]\n",
    "salen= [0.2267, 0.2093, 0.2649, 0.2351]\n",
    "entran = [0.1025, 0.1327, 0.1011, 0.1322]\n",
    "numero_de_grupos = len(salen)\n",
    "indice_barras = np.arange(numero_de_grupos)\n",
    "ancho_barras =0.35\n",
    " \n",
    "plt.bar(indice_barras, salen, width=ancho_barras, label='Salida')\n",
    "plt.bar(indice_barras + ancho_barras, entran, width=ancho_barras, label='Entrada')\n",
    "plt.legend(loc='best')\n",
    "## Se colocan los indicadores en el eje x\n",
    "plt.xticks(indice_barras + ancho_barras, (periodos))\n",
    " \n",
    "plt.ylabel(\"Porcentaje\")\n",
    "plt.xlabel('Periodos en trimestres')\n",
    "plt.title('Dinámica de la pobreza')\n",
    "\n",
    "plt.show()"
   ]
  },
  {
   "cell_type": "code",
   "execution_count": 33,
   "id": "428769f6",
   "metadata": {},
   "outputs": [],
   "source": [
    "#No falta entre 3 2016-2 2017?"
   ]
  },
  {
   "cell_type": "markdown",
   "id": "656de2de",
   "metadata": {},
   "source": [
    "# INTERPRETACIÓN:\n",
    "\n",
    "- AZUL: Porcentaje de pobres que logran salir de la pobreza\n",
    "\n",
    "- NARANJA: Porcentaje de NO pobres que entran en la pobreza \n",
    "\n",
    "# Resultados: \n",
    "    \n",
    "- Entre el 20 y el 25% de los pobres logran salir de la pobreza entre períodos. \n",
    "\n",
    "- Entre el 10 y 15% de los no pobres cae en la pobreza entre periodos. "
   ]
  },
  {
   "cell_type": "code",
   "execution_count": 34,
   "id": "6a96b4f8",
   "metadata": {},
   "outputs": [],
   "source": [
    "#Columna pobre_final\n",
    "poner1i = respondieron[(respondieron[\"pobre\"]==1) & (respondieron[\"TRIMESTRE\"]==3) & (respondieron[\"ANO4\"]==2017) & \n",
    "             (respondieron[\"i\"]==1)][[\"CODUSU\",\"COMPONENTE\"]]\n",
    "poner1i[\"pobre_final\"]=1\n",
    "poner1j = respondieron[(respondieron[\"pobre\"]==1) & (respondieron[\"TRIMESTRE\"]==4) & (respondieron[\"ANO4\"]==2017) & \n",
    "             (respondieron[\"j\"]==1)][[\"CODUSU\",\"COMPONENTE\"]]\n",
    "poner1j[\"pobre_final\"]=1\n",
    "poner1 = pd.merge(poner1i,poner1j,how=\"outer\",on=[\"CODUSU\",\"COMPONENTE\",\"pobre_final\"])\n",
    "respondieron = respondieron.merge(poner1,on = [\"CODUSU\",\"COMPONENTE\"],how = \"outer\")\n",
    "respondieron.fillna(0,inplace=True)\n",
    "\n",
    "#Columna pobre_anual\n",
    "poner1i_anual = respondieron[(respondieron[\"pobre\"]==1) & (respondieron[\"TRIMESTRE\"]==2) & (respondieron[\"ANO4\"]==2017) & \n",
    "             (respondieron[\"i\"]==1)][[\"CODUSU\",\"COMPONENTE\"]]\n",
    "poner1i_anual[\"pobre_anual\"]=1\n",
    "poner1i2_anual = respondieron[(respondieron[\"pobre\"]==1) & (respondieron[\"TRIMESTRE\"]==3) & (respondieron[\"ANO4\"]==2017) & \n",
    "             (respondieron[\"i\"]==1)][[\"CODUSU\",\"COMPONENTE\"]]\n",
    "poner1i2_anual[\"pobre_anual\"]=1\n",
    "poner1j_anual = respondieron[(respondieron[\"pobre\"]==1) & (respondieron[\"TRIMESTRE\"]==3) & (respondieron[\"ANO4\"]==2017) & \n",
    "             (respondieron[\"j\"]==1)][[\"CODUSU\",\"COMPONENTE\"]]\n",
    "poner1j_anual[\"pobre_anual\"]=1\n",
    "poner1j2_anual = respondieron[(respondieron[\"pobre\"]==1) & (respondieron[\"TRIMESTRE\"]==4) & (respondieron[\"ANO4\"]==2017) & \n",
    "             (respondieron[\"j\"]==1)][[\"CODUSU\",\"COMPONENTE\"]]\n",
    "poner1j2_anual[\"pobre_anual\"]=1\n",
    "poner1_anual_i = pd.merge(poner1i_anual,poner1i2_anual,how=\"outer\",on=[\"CODUSU\",\"COMPONENTE\",\"pobre_anual\"])\n",
    "poner1_anual_j = pd.merge(poner1j_anual,poner1j2_anual,how=\"outer\",on=[\"CODUSU\",\"COMPONENTE\",\"pobre_anual\"])\n",
    "poner1_anual = pd.merge(poner1_anual_i,poner1_anual_j,how=\"outer\",on=[\"CODUSU\",\"COMPONENTE\",\"pobre_anual\"])\n",
    "respondieron = respondieron.merge(poner1_anual,on = [\"CODUSU\",\"COMPONENTE\"],how = \"outer\")\n",
    "respondieron.fillna(0,inplace=True)"
   ]
  },
  {
   "cell_type": "markdown",
   "id": "00cb719b",
   "metadata": {},
   "source": [
    "### Clasificación de la vulnerabilidad de las personas según cuántos periodos estuvieron bajo la línea de pobreza"
   ]
  },
  {
   "cell_type": "code",
   "execution_count": 35,
   "id": "db9d2c07",
   "metadata": {},
   "outputs": [
    {
     "data": {
      "text/html": [
       "<div>\n",
       "<style scoped>\n",
       "    .dataframe tbody tr th:only-of-type {\n",
       "        vertical-align: middle;\n",
       "    }\n",
       "\n",
       "    .dataframe tbody tr th {\n",
       "        vertical-align: top;\n",
       "    }\n",
       "\n",
       "    .dataframe thead th {\n",
       "        text-align: right;\n",
       "    }\n",
       "</style>\n",
       "<table border=\"1\" class=\"dataframe\">\n",
       "  <thead>\n",
       "    <tr style=\"text-align: right;\">\n",
       "      <th></th>\n",
       "      <th></th>\n",
       "      <th>pobre</th>\n",
       "    </tr>\n",
       "    <tr>\n",
       "      <th>CODUSU</th>\n",
       "      <th>COMPONENTE</th>\n",
       "      <th></th>\n",
       "    </tr>\n",
       "  </thead>\n",
       "  <tbody>\n",
       "    <tr>\n",
       "      <th rowspan=\"2\" valign=\"top\">TQRMNOPPQHJKKTCDEHMHF00479193</th>\n",
       "      <th>1</th>\n",
       "      <td>0</td>\n",
       "    </tr>\n",
       "    <tr>\n",
       "      <th>2</th>\n",
       "      <td>0</td>\n",
       "    </tr>\n",
       "    <tr>\n",
       "      <th rowspan=\"3\" valign=\"top\">TQRMNOPPQHJMKRCDEFOCD00472238</th>\n",
       "      <th>1</th>\n",
       "      <td>3</td>\n",
       "    </tr>\n",
       "    <tr>\n",
       "      <th>2</th>\n",
       "      <td>3</td>\n",
       "    </tr>\n",
       "    <tr>\n",
       "      <th>3</th>\n",
       "      <td>3</td>\n",
       "    </tr>\n",
       "    <tr>\n",
       "      <th>...</th>\n",
       "      <th>...</th>\n",
       "      <td>...</td>\n",
       "    </tr>\n",
       "    <tr>\n",
       "      <th>TQUMNOPQUHJMLOCDEFMDB00471489</th>\n",
       "      <th>3</th>\n",
       "      <td>2</td>\n",
       "    </tr>\n",
       "    <tr>\n",
       "      <th rowspan=\"2\" valign=\"top\">TQUMNOPXSHKNKPCDEIHJF00494381</th>\n",
       "      <th>1</th>\n",
       "      <td>0</td>\n",
       "    </tr>\n",
       "    <tr>\n",
       "      <th>2</th>\n",
       "      <td>0</td>\n",
       "    </tr>\n",
       "    <tr>\n",
       "      <th rowspan=\"2\" valign=\"top\">TQVMNOPXSHKNKPCDEIHJF00494445</th>\n",
       "      <th>1</th>\n",
       "      <td>0</td>\n",
       "    </tr>\n",
       "    <tr>\n",
       "      <th>2</th>\n",
       "      <td>0</td>\n",
       "    </tr>\n",
       "  </tbody>\n",
       "</table>\n",
       "<p>11008 rows × 1 columns</p>\n",
       "</div>"
      ],
      "text/plain": [
       "                                          pobre\n",
       "CODUSU                        COMPONENTE       \n",
       "TQRMNOPPQHJKKTCDEHMHF00479193 1               0\n",
       "                              2               0\n",
       "TQRMNOPPQHJMKRCDEFOCD00472238 1               3\n",
       "                              2               3\n",
       "                              3               3\n",
       "...                                         ...\n",
       "TQUMNOPQUHJMLOCDEFMDB00471489 3               2\n",
       "TQUMNOPXSHKNKPCDEIHJF00494381 1               0\n",
       "                              2               0\n",
       "TQVMNOPXSHKNKPCDEIHJF00494445 1               0\n",
       "                              2               0\n",
       "\n",
       "[11008 rows x 1 columns]"
      ]
     },
     "execution_count": 35,
     "metadata": {},
     "output_type": "execute_result"
    }
   ],
   "source": [
    "vulnerabilidad = respondieron.groupby([\"CODUSU\",\"COMPONENTE\"]).agg({\"pobre\":\"sum\"})\n",
    "vulnerabilidad"
   ]
  },
  {
   "cell_type": "code",
   "execution_count": 36,
   "id": "1dde819f",
   "metadata": {},
   "outputs": [],
   "source": [
    "cronicos = vulnerabilidad[(vulnerabilidad[\"pobre\"]==4)].pobre.count()\n",
    "muy_vulnerables = vulnerabilidad[(vulnerabilidad[\"pobre\"]==3)|(vulnerabilidad[\"pobre\"]==2)].pobre.count()\n",
    "vulnerables = vulnerabilidad[(vulnerabilidad[\"pobre\"]==1)].pobre.count()\n",
    "no_vulnerables = vulnerabilidad[(vulnerabilidad[\"pobre\"]==0)].pobre.count()\n",
    "total = no_vulnerables + vulnerables + muy_vulnerables + cronicos"
   ]
  },
  {
   "cell_type": "code",
   "execution_count": 37,
   "id": "cfb32145",
   "metadata": {},
   "outputs": [
    {
     "data": {
      "text/plain": [
       "{'Crónicos': 0.19240552325581395,\n",
       " 'Muy vulnerables': 0.19794694767441862,\n",
       " 'Vulnerables': 0.11564316860465117,\n",
       " 'No vulnerabes': 0.49400436046511625}"
      ]
     },
     "execution_count": 37,
     "metadata": {},
     "output_type": "execute_result"
    }
   ],
   "source": [
    "vulnerabilidad = {\"Crónicos\": cronicos/total, \"Muy vulnerables\": muy_vulnerables/total,\n",
    "                  \"Vulnerables\": vulnerables/total, \"No vulnerabes\": no_vulnerables/total}\n",
    "vulnerabilidad"
   ]
  },
  {
   "cell_type": "code",
   "execution_count": 38,
   "id": "3c3d4152",
   "metadata": {
    "scrolled": false
   },
   "outputs": [
    {
     "data": {
      "image/png": "[encoded data removed]",
      "text/plain": [
       "<Figure size 432x288 with 1 Axes>"
      ]
     },
     "metadata": {
      "needs_background": "light"
     },
     "output_type": "display_data"
    }
   ],
   "source": [
    "#Graficamos el Indice de vulnerabilidad\n",
    "eje_x = list(vulnerabilidad.keys())\n",
    "eje_y = list(vulnerabilidad.values())\n",
    "plt.bar(eje_x, eje_y)\n",
    "plt.ylabel('Densidad')\n",
    "plt.title('Índice de vulnerabilidad')\n",
    "plt.show()"
   ]
  },
  {
   "cell_type": "code",
   "execution_count": 39,
   "id": "f45bb151",
   "metadata": {},
   "outputs": [
    {
     "data": {
      "image/png": "[encoded data removed]",
      "text/plain": [
       "<Figure size 720x720 with 1 Axes>"
      ]
     },
     "metadata": {},
     "output_type": "display_data"
    }
   ],
   "source": [
    "fig, ax = plt.subplots(figsize=(10, 10), subplot_kw=dict(aspect=\"equal\"))\n",
    "\n",
    "grupos = list(vulnerabilidad.keys())\n",
    "data = list(vulnerabilidad.values())\n",
    "info = list(vulnerabilidad.keys())\n",
    "\n",
    "def func(pct, allvals):\n",
    "    absolute = int(round(pct/100.*np.sum(allvals)))\n",
    "    return \"{:.1f}%\\n\".format(pct, absolute)\n",
    "\n",
    "wedges, texts, autotexts = ax.pie(data, autopct=lambda pct: func(pct, data),\n",
    "                                  textprops=dict(color=\"w\"))\n",
    "\n",
    "ax.legend(wedges, info,\n",
    "          title=\"Grupos\",\n",
    "          loc=\"center left\",\n",
    "          bbox_to_anchor=(1, 0, 0.5, 1))\n",
    "\n",
    "plt.setp(autotexts, size=8, weight=\"bold\")\n",
    "\n",
    "ax.set_title(\"Densidad de grupos\")\n",
    "\n",
    "plt.show()"
   ]
  },
  {
   "cell_type": "markdown",
   "id": "302193cc",
   "metadata": {},
   "source": [
    "# Interpretación:\n",
    "\n",
    "- Casi el 20% de los individuos se encuentra los 4 periodos por debajo de la línea de la pobreza.\n",
    "- Casi el 50% de los individuos se encontró en alguno de los 4 periodos por debajo de la linea de la pobreza. "
   ]
  },
  {
   "cell_type": "code",
   "execution_count": 40,
   "id": "f66458df",
   "metadata": {},
   "outputs": [],
   "source": [
    "#Hacemos estadistica descriptiva entre grupos\n",
    "vulnerabilidad = respondieron.groupby([\"CODUSU\",\"COMPONENTE\"]).agg({\"pobre\":\"sum\", \"CH12\": \"max\"})"
   ]
  },
  {
   "cell_type": "code",
   "execution_count": 41,
   "id": "f60df979",
   "metadata": {},
   "outputs": [
    {
     "data": {
      "image/png": "[encoded data removed]",
      "text/plain": [
       "<Figure size 432x288 with 1 Axes>"
      ]
     },
     "metadata": {
      "needs_background": "light"
     },
     "output_type": "display_data"
    }
   ],
   "source": [
    "hi = vulnerabilidad.groupby([\"pobre\"]).agg({\"CH12\": \"mean\"})\n",
    "hi.reset_index(inplace=True)\n",
    "\n",
    "x_values = hi['pobre']\n",
    "y_values = hi['CH12']\n",
    "plt.title('Educación media entre grupos')\n",
    "plt.bar(x_values, y_values)\n",
    "plt.show()\n",
    "plt.close('all')"
   ]
  },
  {
   "cell_type": "code",
   "execution_count": 42,
   "id": "eb488b0a",
   "metadata": {},
   "outputs": [],
   "source": [
    "cronicos = vulnerabilidad[(vulnerabilidad[\"pobre\"]==4)].pobre.count()\n",
    "\n",
    "cronicos_1 = vulnerabilidad[(vulnerabilidad[\"pobre\"]==4)&\n",
    "                            ((vulnerabilidad[\"CH12\"]==0)|\n",
    "                            (vulnerabilidad[\"CH12\"]==1)|\n",
    "                            (vulnerabilidad[\"CH12\"]==2)|\n",
    "                            (vulnerabilidad[\"CH12\"]==3))].pobre.count()\n",
    "cronicos_2 = vulnerabilidad[(vulnerabilidad[\"pobre\"]==4)&\n",
    "                            ((vulnerabilidad[\"CH12\"]==4)|\n",
    "                           (vulnerabilidad[\"CH12\"]==5))].pobre.count()\n",
    "cronicos_3 = vulnerabilidad[(vulnerabilidad[\"pobre\"]==4)&\n",
    "                            ((vulnerabilidad[\"CH12\"]==6)|\n",
    "                           (vulnerabilidad[\"CH12\"]==7)|\n",
    "                           (vulnerabilidad[\"CH12\"]==8)|\n",
    "                           (vulnerabilidad[\"CH12\"]==9))].pobre.count()\n",
    "\n",
    "muy_vulnerables = vulnerabilidad[(vulnerabilidad[\"pobre\"]==3)|(vulnerabilidad[\"pobre\"]==2)].pobre.count()\n",
    "muy_vulnerables1 = vulnerabilidad[((vulnerabilidad[\"pobre\"]==3)|(vulnerabilidad[\"pobre\"]==2))&\n",
    "                                   ((vulnerabilidad[\"CH12\"]==0)|\n",
    "                                   (vulnerabilidad[\"CH12\"]==1)|\n",
    "                                   (vulnerabilidad[\"CH12\"]==2)|\n",
    "                                   (vulnerabilidad[\"CH12\"]==3))].pobre.count()\n",
    "muy_vulnerables2 = vulnerabilidad[((vulnerabilidad[\"pobre\"]==3)|(vulnerabilidad[\"pobre\"]==2))&\n",
    "                                   ((vulnerabilidad[\"CH12\"]==4)|\n",
    "                                   (vulnerabilidad[\"CH12\"]==5))].pobre.count()\n",
    "muy_vulnerables3 = vulnerabilidad[((vulnerabilidad[\"pobre\"]==3)|(vulnerabilidad[\"pobre\"]==2))&\n",
    "                                 ((vulnerabilidad[\"CH12\"]==6)|\n",
    "                                 (vulnerabilidad[\"CH12\"]==7)|\n",
    "                                 (vulnerabilidad[\"CH12\"]==8)|\n",
    "                                 (vulnerabilidad[\"CH12\"]==9))].pobre.count()\n",
    " \n",
    "vulnerables = vulnerabilidad[(vulnerabilidad[\"pobre\"]==1)].pobre.count()\n",
    "vulnerables_1 = vulnerabilidad[(vulnerabilidad[\"pobre\"]==1)&\n",
    "                               ((vulnerabilidad[\"CH12\"]==0)|\n",
    "                                (vulnerabilidad[\"CH12\"]==1)|\n",
    "                                (vulnerabilidad[\"CH12\"]==2)|\n",
    "                                (vulnerabilidad[\"CH12\"]==3))].pobre.count()\n",
    "vulnerables_2 = vulnerabilidad[(vulnerabilidad[\"pobre\"]==1)&\n",
    "                                ((vulnerabilidad[\"CH12\"]==4)|\n",
    "                                (vulnerabilidad[\"CH12\"]==5))].pobre.count()\n",
    "vulnerables_3 = vulnerabilidad[(vulnerabilidad[\"pobre\"]==1)&\n",
    "                               ((vulnerabilidad[\"CH12\"]==6)|\n",
    "                                 (vulnerabilidad[\"CH12\"]==7)|\n",
    "                                 (vulnerabilidad[\"CH12\"]==8)|\n",
    "                                 (vulnerabilidad[\"CH12\"]==9))].pobre.count()\n",
    "\n",
    "no_vulnerables = vulnerabilidad[(vulnerabilidad[\"pobre\"]==0)].pobre.count()\n",
    "no_vulnerables_1 = vulnerabilidad[(vulnerabilidad[\"pobre\"]==0)&\n",
    "                                ((vulnerabilidad[\"CH12\"]==0)|\n",
    "                                (vulnerabilidad[\"CH12\"]==1)|\n",
    "                                (vulnerabilidad[\"CH12\"]==2)|\n",
    "                                (vulnerabilidad[\"CH12\"]==3))].pobre.count()\n",
    "no_vulnerables_2 = vulnerabilidad[(vulnerabilidad[\"pobre\"]==0)&\n",
    "                                  ((vulnerabilidad[\"CH12\"]==4)|\n",
    "                                  (vulnerabilidad[\"CH12\"]==5))].pobre.count()\n",
    "no_vulnerables_3 = vulnerabilidad[(vulnerabilidad[\"pobre\"]==0)&\n",
    "                                 ((vulnerabilidad[\"CH12\"]==6)|\n",
    "                                 (vulnerabilidad[\"CH12\"]==7)|\n",
    "                                 (vulnerabilidad[\"CH12\"]==8)|\n",
    "                                 (vulnerabilidad[\"CH12\"]==9))].pobre.count()\n",
    "\n",
    "\n",
    "total = no_vulnerables + vulnerables + muy_vulnerables + cronicos"
   ]
  },
  {
   "cell_type": "code",
   "execution_count": 43,
   "id": "c44f68a9",
   "metadata": {},
   "outputs": [],
   "source": [
    "cro = {\"Baja\": cronicos_1/cronicos, \"Media\": cronicos_2/cronicos, \"Alta\": cronicos_3/cronicos}\n",
    "muy = {\"1\": muy_vulnerables1/muy_vulnerables, \"2\": muy_vulnerables2/muy_vulnerables, \"3\": muy_vulnerables3/muy_vulnerables}\n",
    "vul = {\"1\": vulnerables_1/vulnerables, \"2\": vulnerables_2/vulnerables, \"3\": vulnerables_3/vulnerables}\n",
    "no = {\"1\": no_vulnerables_1/no_vulnerables, \"2\": no_vulnerables_2/no_vulnerables, \"3\": no_vulnerables_3/no_vulnerables}\n",
    "\n",
    "ff = [\"cronicos\", \"muy_vulnerables\", \"vulnerables\", \"no_vulnerables\"]\n",
    "lista_cro = cro.values()\n",
    "lista_cro = list(lista_cro)\n",
    "lista_muy = muy.values()\n",
    "lista_muy = list(lista_muy)\n",
    "lista_vul = vul.values()\n",
    "lista_vul = list(lista_vul)\n",
    "lista_no = no.values()\n",
    "lista_no = list(lista_no)\n",
    "lista_key = cro.keys()\n",
    "lista_key = list(lista_key)"
   ]
  },
  {
   "cell_type": "code",
   "execution_count": 44,
   "id": "1addf0b9",
   "metadata": {
    "scrolled": true
   },
   "outputs": [
    {
     "data": {
      "image/png": "[encoded data removed]",
      "text/plain": [
       "<Figure size 432x288 with 1 Axes>"
      ]
     },
     "metadata": {
      "needs_background": "light"
     },
     "output_type": "display_data"
    }
   ],
   "source": [
    "numero_de_grupos = len(lista_cro)\n",
    "indice_barras = np.arange(numero_de_grupos)\n",
    "ancho_barras =0.20\n",
    " \n",
    "plt.bar(indice_barras, lista_cro, width=ancho_barras, label='Crónicos')\n",
    "plt.bar(indice_barras + ancho_barras, lista_muy, width=ancho_barras, label='Muy vulnerables')\n",
    "plt.bar(indice_barras + ancho_barras*2, lista_vul, width=ancho_barras, label='Vulnerables')\n",
    "plt.bar(indice_barras + ancho_barras*3, lista_no, width=ancho_barras, label='No vulnerables')\n",
    "\n",
    "plt.legend(loc='center left',bbox_to_anchor=(1, 0, 0.5, 1))\n",
    "# Se colocan los indicadores en el eje x\n",
    "plt.xticks(indice_barras + ancho_barras, (lista_key))\n",
    " \n",
    "plt.ylabel('Densidad')\n",
    "plt.xlabel('Educación')\n",
    "plt.title('Nivel educativo por grupo')\n",
    " \n",
    "plt.show()"
   ]
  },
  {
   "cell_type": "markdown",
   "id": "e9781360",
   "metadata": {},
   "source": [
    "# Hacemos matriz de correlaciones para variables significativas\n",
    "\n",
    "Y capaz un gráfico como el de arriba para otra variable\n",
    "\n",
    "Y ya terminamos con la estadistica descriptiva."
   ]
  },
  {
   "cell_type": "markdown",
   "id": "b896556e",
   "metadata": {},
   "source": [
    "# Predicciones"
   ]
  },
  {
   "cell_type": "code",
   "execution_count": 45,
   "id": "46a21d93",
   "metadata": {},
   "outputs": [],
   "source": [
    "subrespondieron = respondieron[((respondieron[\"TRIMESTRE\"]==3) & (respondieron[\"ANO4\"]==2016) & (respondieron[\"i\"]==1)) | \n",
    "                 ((respondieron[\"TRIMESTRE\"]==4) & (respondieron[\"ANO4\"]==2016) & (respondieron[\"j\"]==1))]\n",
    "\n",
    "subrespondieron.reset_index(inplace=True,drop=True)"
   ]
  },
  {
   "cell_type": "code",
   "execution_count": 46,
   "id": "47a9ddb4",
   "metadata": {},
   "outputs": [
    {
     "name": "stderr",
     "output_type": "stream",
     "text": [
      "C:\\Users\\felip\\anaconda3\\lib\\site-packages\\pandas\\core\\frame.py:4308: SettingWithCopyWarning: \n",
      "A value is trying to be set on a copy of a slice from a DataFrame\n",
      "\n",
      "See the caveats in the documentation: https://pandas.pydata.org/pandas-docs/stable/user_guide/indexing.html#returning-a-view-versus-a-copy\n",
      "  return super().drop(\n"
     ]
    }
   ],
   "source": [
    "subrespondieron.drop([\"pobre_final\",\"j\",\"i\",\"CODUSU\",\"pobre_prox\",\"ANO4\",\n",
    "                      \"PONDIH\",\"PONDERA\",\"adulto_equiv\",\"ad_equiv_hogar\",\"ingreso_necesario\"],axis=1,inplace=True)"
   ]
  },
  {
   "cell_type": "code",
   "execution_count": 47,
   "id": "0560e348",
   "metadata": {
    "scrolled": false
   },
   "outputs": [],
   "source": [
    "x = subrespondieron.iloc[:, :-1]\n",
    "y = subrespondieron[\"pobre_anual\"]\n",
    "\n",
    "#creamos una copia del dataframe para luego recuperar las columnas que no son categóricas\n",
    "x_temp = x.copy()\n",
    "\n",
    "# Herramienta para poder utilizar variables categóricas en los modelos.\n",
    "label_encoder = preprocessing.LabelEncoder()\n",
    "\n",
    "# Le aplico la herramienta al df\n",
    "x = x.apply(label_encoder.fit_transform)\n",
    "\n",
    "# Volvemos a introducir las columnas no categóricas \n",
    "x[[\"PP3E_TOT\",\"PP3F_TOT\",\"PP04B3_ANO\",\"ADECIFR\",\"DECIFR\",\"DECCFR\",\"ADECCFR\",\"PP08D1\",\"P21\",\"DECOCUR\",\"P47T\",\"TOT_P12\",\n",
    "   \"IX_TOT\",\"IX_MEN10\",\"ITF\",\"IV2\",\"IPCF\"]] = x_temp[[\"PP3E_TOT\",\"PP3F_TOT\",\"PP04B3_ANO\",\"ADECIFR\",\"DECIFR\",\n",
    "                                                      \"DECCFR\",\"ADECCFR\",\"PP08D1\",\"P21\",\"DECOCUR\",\"P47T\",\"TOT_P12\",\n",
    "                                                      \"IX_TOT\",\"IX_MEN10\",\"ITF\",\"IV2\",\"IPCF\"]]\n",
    "\n",
    "x[\"inter\"] = 1"
   ]
  },
  {
   "cell_type": "code",
   "execution_count": 48,
   "id": "c9e2d511",
   "metadata": {},
   "outputs": [],
   "source": [
    "def evalua_metodo(X_train, X_test, y_train, y_test, modelo, parametro=1.0):\n",
    "    '''\n",
    "    Función que reporta métricas de evaluación de un modelo a elección.\n",
    "    \n",
    "    input:\n",
    "        X_train: X de entrenamiento.\n",
    "        X_test: X de evaluación.\n",
    "        y_train: Y de entrenamiento.\n",
    "        y_test: Y de evaluación.\n",
    "        modelo: Elección de modelo, default = Logit. (Logit = \"Logit\", Lineal = \"Lineal\", KNN = \"KNN\", Lasso = \"Lasso\",\n",
    "                                                      Ridge = \"Ridge\", Elastic net = \"ElasticNet\", CART = \"CART\", \n",
    "                                                      SVM = \"SVM\", Bagging = \"Bagging\", Random Forest = \"RandomForest\", \n",
    "                                                      Boosting = Boosting\").\n",
    "        parametro: Parámetro de regularización de los modelos. Por default = 1.0\n",
    "        n: Parámetro para definir la catnidad de n-neighbours en KNN. Por default = 5.\n",
    "        \n",
    "    output:\n",
    "        Df con las columnas: (modelo, ecm, parámetro, accuracy, matriz_confusion, auc)\n",
    "        coe: En el caso de un modelo \"Lasso\", se define una variable global con los coeficientes de las variables X.\n",
    "        \n",
    "    '''\n",
    "    ev_modelo = pd.DataFrame(columns=[\"modelo\", \"ecm\", \"parámetro\", \"auc\", \"accuracy\", \"fpr\", \"tpr\"])\n",
    "    \n",
    "    # Filtro para distintos modelos.\n",
    "    pob = LogisticRegression(max_iter = 10000, fit_intercept = False)\n",
    "    if modelo == \"Lineal\":\n",
    "        pob = LinearDiscriminantAnalysis(solver='lsqr', shrinkage= parametro)\n",
    "    elif modelo == \"KNN\":\n",
    "        pob = KNeighborsClassifier(n_neighbors = int(parametro))\n",
    "    elif modelo == \"Logit\":\n",
    "        pob = LogisticRegression(C = parametro, max_iter = 10000, fit_intercept = False)\n",
    "    elif modelo == \"Lasso\":\n",
    "        pob = LogisticRegression(penalty = \"l1\", max_iter = 10000, \n",
    "                                 fit_intercept = False, solver = \"liblinear\", C = parametro)\n",
    "    elif modelo == \"Ridge\":\n",
    "        pob = LogisticRegression(penalty = \"l2\", max_iter = 10000, \n",
    "                                 fit_intercept = False, solver = \"liblinear\", C = parametro)\n",
    "    elif modelo == \"ElasticNet\":\n",
    "        pob = LogisticRegression(penalty = \"elasticnet\", max_iter = 10000, \n",
    "                                 fit_intercept = False, solver = \"saga\", l1_ratio = parametro)\n",
    "    elif modelo == \"CART\":\n",
    "        pob = DecisionTreeClassifier(max_depth = parametro)\n",
    "    elif modelo == \"SVM\":\n",
    "        pob = SVC(C = parametro,gamma='auto')\n",
    "    elif modelo == \"Bagging\":\n",
    "        pob = BaggingClassifier(base_estimator=SVC(C = parametro))\n",
    "    elif modelo == \"RandomForest\":\n",
    "        pob = RandomForestClassifier(max_depth = parametro)\n",
    "    elif modelo == \"Boosting\":\n",
    "        pob = GradientBoostingClassifier(learning_rate=1.0, max_depth = parametro)\n",
    "    \n",
    "    # Ajustamos el modelo        \n",
    "    pob = pob.fit(X_train, y_train)     \n",
    "    \n",
    "    # Luego predecimos y con las X de evaluación.\n",
    "    y_pred = pob.predict(X_test)\n",
    "    \n",
    "    if modelo != \"SVM\":\n",
    "        # Probabilidad de que Y tome valor 1 segun el valor de X \n",
    "        y_pred_proba = pob.predict_proba(X_test)[:,1]\n",
    "\n",
    "    #Valores de Accuracy\n",
    "    accuracy_pob = accuracy_score(y_test, y_pred)\n",
    "\n",
    "    #Matriz de confusión\n",
    "    matriz_confusion = confusion_matrix(y_test, y_pred)\n",
    "\n",
    "    if modelo != \"SVM\":\n",
    "        #Valores de AUC\n",
    "        auc = roc_auc_score(y_test, y_pred_proba)\n",
    "        fpr, tpr, thresholds = roc_curve(y_test, y_pred_proba)        \n",
    "        \n",
    "    # Error cuadrático medio\n",
    "        \n",
    "    ecm = mean_squared_error(y_pred, y_test)\n",
    "    \n",
    "    if modelo != \"SVM\":\n",
    "        ev_modelo = ev_modelo.append({\"modelo\": modelo, \"ecm\": ecm, \n",
    "                                      \"parámetro\":parametro, \"auc\":auc,\n",
    "                                      \"accuracy\":accuracy_pob, \"fpr\":fpr, \"tpr\":tpr}, ignore_index=True)\n",
    "    elif modelo == \"SVM\":\n",
    "        ev_modelo = ev_modelo.append({\"modelo\": modelo, \"ecm\": ecm, \n",
    "                                      \"parámetro\":parametro,\n",
    "                                      \"accuracy\":accuracy_pob}, ignore_index=True)\n",
    "    \n",
    "    return ev_modelo"
   ]
  },
  {
   "cell_type": "code",
   "execution_count": 49,
   "id": "bc11e800",
   "metadata": {},
   "outputs": [],
   "source": [
    "def cross_validation(x, y, k, modelo, parametro=1.0):\n",
    "    '''\n",
    "    Función que realiza validación cruzada con k iteraciones para cierto modelo.\n",
    "    \n",
    "    input:\n",
    "        x: Variables explicativas.\n",
    "        y: Variable dependiente.\n",
    "        k: Cantidad de particiones de los datos.\n",
    "        modelo: Elección de modelo, default = Logit. (Logit = \"Logit\", Lineal = \"Lineal\", KNN = \"KNN\", Lasso = \"Lasso\",\n",
    "                                                      Ridge = \"Ridge\", Elastic net = \"ElasticNet\", CART = \"CART\", \n",
    "                                                      SVM = \"SVM\", Bagging = \"Bagging\", Random Forest = \"RandomForest\", \n",
    "                                                      Boosting = Boosting\").\n",
    "        parametro: Parámetro de regularización de los modelos. Por default = 1.0\n",
    "        n: Parámetro para definir la catnidad de n-neighbours en KNN. Por default = 5.\n",
    "        \n",
    "    output:\n",
    "        Df con las columnas: (modelo, particion, ecm, accuracy, matriz_confusion, auc, fpr, tpr)\n",
    "        coe_cv: En el caso de un modelo \"Lasso\", se define un df global con los coeficientes de las variables X para las \n",
    "                k particiones por CV.\n",
    "    '''\n",
    "    # Creo el df ecms\n",
    "    ecms = pd.DataFrame(columns=[\"modelo\", \"particion\", \"ecm\", \"parámetro\", \"auc\", \"accuracy\", \"fpr\", \"tpr\"])\n",
    "    \n",
    "    kf = KFold(n_splits = k, shuffle = True)\n",
    "    \n",
    "    for i, (train_index, test_index) in enumerate(kf.split(x)):\n",
    "        x_train, x_test = x.iloc[list(train_index)], x.iloc[list(test_index)]\n",
    "        y_train, y_test = y.iloc[list(train_index)], y.iloc[list(test_index)]\n",
    "        \n",
    "        ev_modelo = evalua_metodo(x_train, x_test, y_train, y_test, modelo, parametro)\n",
    "        \n",
    "        ecms = ecms.append({\"modelo\":ev_modelo[\"modelo\"].item(), \n",
    "                            \"particion\": i, \"ecm\":ev_modelo[\"ecm\"].item(), \n",
    "                            \"parámetro\":parametro, \"auc\":ev_modelo[\"auc\"].item(),\n",
    "                            \"accuracy\":ev_modelo[\"accuracy\"].item(), \"fpr\":ev_modelo[\"fpr\"].item(),\n",
    "                            \"tpr\":ev_modelo[\"tpr\"].item()}, ignore_index=True)\n",
    "        \n",
    "        ecms = ecms.astype({\"particion\":int})\n",
    "        \n",
    "    return ecms"
   ]
  },
  {
   "cell_type": "code",
   "execution_count": 50,
   "id": "cca2304c",
   "metadata": {},
   "outputs": [],
   "source": [
    "def evalua_config(lista_parametros, x, y, k, modelo):\n",
    "    '''\n",
    "    Función que selecciona los hiperparámetros que menor ECM generen, mediante Cross-Validation.\n",
    "    \n",
    "    input:\n",
    "        lista_parametros: lista de parámetros de regularización de los modelos que se van a usar para evaluar.\n",
    "        x: Variables explicativas.\n",
    "        y: Variable dependiente.\n",
    "        k: Cantidad de particiones de los datos.\n",
    "        modelo: Elección de modelo, default = Logit. (Logit = \"Logit\", Lineal = \"Lineal\", KNN = \"KNN\", Lasso = \"Lasso\",\n",
    "                                                      Ridge = \"Ridge\", Elastic net = \"ElasticNet\", CART = \"CART\", \n",
    "                                                      SVM = \"SVM\", Bagging = \"Bagging\", Random Forest = \"RandomForest\", \n",
    "                                                      Boosting = \"Boosting\").\n",
    "\n",
    "    output:\n",
    "        todos: df que contiene la información del modelo utilizado con las columnas\n",
    "               (modelo, particion, ecm, parámetro, accuracy, auc, fpr, tpr).\n",
    "        ecms_avg: df que hace el promedio por parámetro, con las columnas \n",
    "                  (modelo, particion, ecm, parámetro, accuracy, auc, fpr, tpr)\n",
    "        ev_modelo: df que contiene la información del mejor modelo elegido por ECM, con las columnas \n",
    "                  (modelo, particion, ecm, parámetro, accuracy, auc, fpr, tpr)\n",
    "        coe_cvs: En el caso de un modelo \"Lasso\", se define un df global con los coeficientes de las variables X para las \n",
    "                k particiones por CV.\n",
    "    '''\n",
    "    # Defino data frames para usar después\n",
    "    \n",
    "    todos = pd.DataFrame(columns=[\"modelo\", \"particion\", \"ecm\", \"parámetro\", \"auc\", \"accuracy\", \"fpr\", \"tpr\"])\n",
    "    \n",
    "    # For loop que para cada parámetro corre Cross validation con k particiones.\n",
    "    if modelo == \"KNN\":\n",
    "        vecinos = [3,5,9,15,17,19,21,23,25]\n",
    "        for i in vecinos:\n",
    "            ecms = cross_validation(x, y, k, modelo, i)\n",
    "            # ecmss es un df que guarda los resultados de todos los parámetros k veces.\n",
    "            todos = todos.append(ecms)\n",
    "            \n",
    "    elif modelo == \"CART\":\n",
    "        depth = [1, 5, 10, 15, 20]\n",
    "        for i in depth:\n",
    "            ecms = cross_validation(x, y, k, modelo, i)\n",
    "            # ecmss es un df que guarda los resultados de todos los parámetros k veces.\n",
    "            todos = todos.append(ecms)  \n",
    "\n",
    "    elif modelo == \"RandomForest\":\n",
    "        depth = [1, 5, 10, 15, 20]\n",
    "        for i in depth:\n",
    "            ecms = cross_validation(x, y, k, modelo, i)\n",
    "            # ecmss es un df que guarda los resultados de todos los parámetros k veces.\n",
    "            todos = todos.append(ecms)   \n",
    "            \n",
    "    elif modelo == \"Boosting\":\n",
    "        depth = [1, 5, 10, 15, 20]\n",
    "        for i in depth:\n",
    "            ecms = cross_validation(x, y, k, modelo, i)\n",
    "            # ecmss es un df que guarda los resultados de todos los parámetros k veces.\n",
    "            todos = todos.append(ecms)   \n",
    "            \n",
    "    elif modelo == \"SVM\":\n",
    "        cs = [1, 3]\n",
    "        for i in cs:\n",
    "            ecms = cross_validation(x, y, k, modelo, i)\n",
    "            # ecmss es un df que guarda los resultados de todos los parámetros k veces.\n",
    "            todos = todos.append(ecms) \n",
    "            \n",
    "    elif modelo == \"Bagging\":\n",
    "        cs = [1, 3]\n",
    "        for i in cs:\n",
    "            ecms = cross_validation(x, y, k, modelo, i)\n",
    "            # ecmss es un df que guarda los resultados de todos los parámetros k veces.\n",
    "            todos = todos.append(ecms) \n",
    "            \n",
    "    elif modelo == \"Lineal\":\n",
    "        depth = [0.01, 0.25, 0.40, 0.50, 0.75,0.9,1]\n",
    "        for i in depth:\n",
    "            ecms = cross_validation(x, y, k, modelo, i)\n",
    "            # ecmss es un df que guarda los resultados de todos los parámetros k veces.\n",
    "            todos = todos.append(ecms) \n",
    "            \n",
    "    elif modelo == \"ElasticNet\":\n",
    "        depth = [0.01, 0.1, 0.25, 0.3, 0.4, 0.5, 0.6, 0.75,0.9,1]\n",
    "        for i in depth:\n",
    "            ecms = cross_validation(x, y, k, modelo, i)\n",
    "            # ecmss es un df que guarda los resultados de todos los parámetros k veces.\n",
    "            todos = todos.append(ecms) \n",
    "            \n",
    "    else:\n",
    "        for i in lista_parametros:\n",
    "            ecms = cross_validation(x, y, k, modelo, i)\n",
    "            # ecmss es un df que guarda los resultados de todos los parámetros k veces.\n",
    "            todos = todos.append(ecms)\n",
    "\n",
    "    # ecms_avg es un df que guarda los resultados de todos los parámetros haciendo un promedio de todos los ECM de ecmss\n",
    "    ecms_avg = todos.groupby(\"parámetro\").agg({\"ecm\":\"mean\", \"modelo\":\"max\", \"auc\":\"mean\",\n",
    "                                               \"accuracy\":\"mean\"}).reset_index()\n",
    "    \n",
    "    min_ecm = np.Inf\n",
    "    mejor_parametro = None\n",
    "    # For loop que permite determinar el parámetro que tiene el menor ECM en promedio.\n",
    "    for index, row in ecms_avg.iterrows():\n",
    "        if row[\"ecm\"] < min_ecm:\n",
    "            min_ecm = row[\"ecm\"]\n",
    "            mejor_parametro = float(row[\"parámetro\"])\n",
    "    print(\"El minimo error es \", min_ecm, \" y se da con un parametro de \", mejor_parametro)\n",
    "    \n",
    "    # Corro el modelo con el parámetro seleccionado con menor ECM en promedio.\n",
    "    X_train, X_test, y_train, y_test = train_test_split(x, y, test_size=0.3)\n",
    "    ev_modelo = evalua_metodo(X_train, X_test, y_train, y_test, modelo, mejor_parametro)\n",
    "    \n",
    "    return (todos, ecms_avg, ev_modelo)"
   ]
  },
  {
   "cell_type": "code",
   "execution_count": 51,
   "id": "0acf0852",
   "metadata": {},
   "outputs": [],
   "source": [
    "def evalua_multiples_metodos(lista_parametros, x, y, k):\n",
    "    '''\n",
    "    Función que corre múltiples métodos para diferentes parámetros los hiperparámetros que menor ECM generen, \n",
    "    mediante Cross-Validation.\n",
    "    \n",
    "    input:\n",
    "        lista_parametros: lista de parámetros de regularización de los modelos que se van a usar para evaluar.\n",
    "        x: Variables explicativas.\n",
    "        y: Variable dependiente.\n",
    "        k: Cantidad de particiones de los datos.\n",
    "\n",
    "    output:\n",
    "        lista_todos: df que contiene la información de todos los modelos utilizados con las columnas\n",
    "               (modelo, particion, ecm, parámetro, accuracy, auc, fpr, tpr).\n",
    "        lista_promedios: df que hace el promedio por parámetro de los diferentes modelos, con las columnas \n",
    "                  (modelo, particion, ecm, parámetro, accuracy, auc, fpr, tpr)\n",
    "        lista_mejores: df que contiene la información de los mejores modelos elegido por ECM en los distintos modelos,\n",
    "                       con las columnas \n",
    "                  (modelo, particion, ecm, parámetro, accuracy, auc, fpr, tpr)\n",
    "    '''\n",
    "    \n",
    "    lista_todos = pd.DataFrame(columns=[\"modelo\", \"particion\", \"ecm\", \"parámetro\", \"auc\", \"accuracy\", \"fpr\", \"tpr\"])\n",
    "    lista_promedios = pd.DataFrame(columns=[\"modelo\", \"parámetro\", \"ecm\", \"auc\", \"accuracy\"])\n",
    "    lista_mejores = pd.DataFrame(columns=[\"modelo\", \"ecm\", \"parámetro\", \"auc\", \"accuracy\", \"fpr\", \"tpr\"])\n",
    "    \n",
    "    modelos = [\"Lineal\", \"KNN\",\"SVM\",\"Bagging\", \"Logit\", \"CART\", \"RandomForest\", \"Boosting\", \"Lasso\", \"Ridge\"]\n",
    "    for modelo in modelos:\n",
    "        todos, ecms_avg, ev_modelo = evalua_config(lista_parametros, x, y, k, modelo)\n",
    "        lista_todos = lista_todos.append(todos)\n",
    "        lista_promedios = lista_promedios.append(ecms_avg)\n",
    "        lista_mejores = lista_mejores.append(ev_modelo)\n",
    "        \n",
    "    return (lista_todos, lista_promedios, lista_mejores)"
   ]
  },
  {
   "cell_type": "markdown",
   "id": "93bbb483",
   "metadata": {},
   "source": [
    "Preguntar para que cantidad de iteraciones y que parametros para cada modelo. \n",
    "Correr todos los modelos con variables de ingreso y sin variables de ingreso\n",
    "Analizar y comparar eficacia de ambas. \n",
    "Analizar coeficientes Lasso y Ridge de ambas. Printear y comparar arból Cart de ambas. "
   ]
  },
  {
   "cell_type": "code",
   "execution_count": 67,
   "id": "8e59ea6e",
   "metadata": {
    "scrolled": true
   },
   "outputs": [
    {
     "name": "stdout",
     "output_type": "stream",
     "text": [
      "El minimo error es  0.24736543252365265  y se da con un parametro de  0.25\n",
      "El minimo error es  0.19404201128955914  y se da con un parametro de  3.0\n",
      "El minimo error es  0.24827349140696925  y se da con un parametro de  3.0\n",
      "El minimo error es  0.21075706237070838  y se da con un parametro de  3.0\n",
      "El minimo error es  0.16297232576555698  y se da con un parametro de  0.1\n",
      "El minimo error es  0.06213491431728868  y se da con un parametro de  20.0\n",
      "El minimo error es  0.09302290553257726  y se da con un parametro de  20.0\n",
      "El minimo error es  0.030432620627813056  y se da con un parametro de  10.0\n",
      "El minimo error es  0.160609433165752  y se da con un parametro de  100.0\n",
      "El minimo error es  0.1666963782047711  y se da con un parametro de  1000.0\n"
     ]
    }
   ],
   "source": [
    "lista = 10**np.linspace(-5,5,11)\n",
    "todos, prom, mejores = evalua_multiples_metodos(lista,x,y,5)"
   ]
  },
  {
   "cell_type": "code",
   "execution_count": 69,
   "id": "3e7a5492",
   "metadata": {},
   "outputs": [
    {
     "data": {
      "text/html": [
       "<div>\n",
       "<style scoped>\n",
       "    .dataframe tbody tr th:only-of-type {\n",
       "        vertical-align: middle;\n",
       "    }\n",
       "\n",
       "    .dataframe tbody tr th {\n",
       "        vertical-align: top;\n",
       "    }\n",
       "\n",
       "    .dataframe thead th {\n",
       "        text-align: right;\n",
       "    }\n",
       "</style>\n",
       "<table border=\"1\" class=\"dataframe\">\n",
       "  <thead>\n",
       "    <tr style=\"text-align: right;\">\n",
       "      <th></th>\n",
       "      <th>modelo</th>\n",
       "      <th>ecm</th>\n",
       "      <th>parámetro</th>\n",
       "      <th>accuracy</th>\n",
       "    </tr>\n",
       "  </thead>\n",
       "  <tbody>\n",
       "    <tr>\n",
       "      <th>0</th>\n",
       "      <td>Lineal</td>\n",
       "      <td>0.253406</td>\n",
       "      <td>0.25</td>\n",
       "      <td>0.746594</td>\n",
       "    </tr>\n",
       "    <tr>\n",
       "      <th>0</th>\n",
       "      <td>KNN</td>\n",
       "      <td>0.201029</td>\n",
       "      <td>3.00</td>\n",
       "      <td>0.798971</td>\n",
       "    </tr>\n",
       "    <tr>\n",
       "      <th>0</th>\n",
       "      <td>SVM</td>\n",
       "      <td>0.253709</td>\n",
       "      <td>3.00</td>\n",
       "      <td>0.746291</td>\n",
       "    </tr>\n",
       "    <tr>\n",
       "      <th>0</th>\n",
       "      <td>Bagging</td>\n",
       "      <td>0.208598</td>\n",
       "      <td>3.00</td>\n",
       "      <td>0.791402</td>\n",
       "    </tr>\n",
       "    <tr>\n",
       "      <th>0</th>\n",
       "      <td>Logit</td>\n",
       "      <td>0.175295</td>\n",
       "      <td>0.10</td>\n",
       "      <td>0.824705</td>\n",
       "    </tr>\n",
       "    <tr>\n",
       "      <th>0</th>\n",
       "      <td>CART</td>\n",
       "      <td>0.063881</td>\n",
       "      <td>20.00</td>\n",
       "      <td>0.936119</td>\n",
       "    </tr>\n",
       "    <tr>\n",
       "      <th>0</th>\n",
       "      <td>RandomForest</td>\n",
       "      <td>0.100817</td>\n",
       "      <td>20.00</td>\n",
       "      <td>0.899183</td>\n",
       "    </tr>\n",
       "    <tr>\n",
       "      <th>0</th>\n",
       "      <td>Boosting</td>\n",
       "      <td>0.036028</td>\n",
       "      <td>10.00</td>\n",
       "      <td>0.963972</td>\n",
       "    </tr>\n",
       "    <tr>\n",
       "      <th>0</th>\n",
       "      <td>Lasso</td>\n",
       "      <td>0.162882</td>\n",
       "      <td>100.00</td>\n",
       "      <td>0.837118</td>\n",
       "    </tr>\n",
       "    <tr>\n",
       "      <th>0</th>\n",
       "      <td>Ridge</td>\n",
       "      <td>0.167424</td>\n",
       "      <td>1000.00</td>\n",
       "      <td>0.832576</td>\n",
       "    </tr>\n",
       "  </tbody>\n",
       "</table>\n",
       "</div>"
      ],
      "text/plain": [
       "         modelo       ecm  parámetro  accuracy\n",
       "0        Lineal  0.253406       0.25  0.746594\n",
       "0           KNN  0.201029       3.00  0.798971\n",
       "0           SVM  0.253709       3.00  0.746291\n",
       "0       Bagging  0.208598       3.00  0.791402\n",
       "0         Logit  0.175295       0.10  0.824705\n",
       "0          CART  0.063881      20.00  0.936119\n",
       "0  RandomForest  0.100817      20.00  0.899183\n",
       "0      Boosting  0.036028      10.00  0.963972\n",
       "0         Lasso  0.162882     100.00  0.837118\n",
       "0         Ridge  0.167424    1000.00  0.832576"
      ]
     },
     "execution_count": 69,
     "metadata": {},
     "output_type": "execute_result"
    }
   ],
   "source": [
    "mejores[[\"modelo\",\"ecm\",\"parámetro\",\"accuracy\"]]"
   ]
  },
  {
   "cell_type": "code",
   "execution_count": 52,
   "id": "96bfc8de",
   "metadata": {
    "scrolled": false
   },
   "outputs": [
    {
     "data": {
      "image/png": "[encoded data removed]",
      "text/plain": [
       "<Figure size 432x288 with 1 Axes>"
      ]
     },
     "metadata": {
      "needs_background": "light"
     },
     "output_type": "display_data"
    },
    {
     "data": {
      "text/plain": [
       "array([[1921,   47],\n",
       "       [  76, 1259]], dtype=int64)"
      ]
     },
     "execution_count": 52,
     "metadata": {},
     "output_type": "execute_result"
    }
   ],
   "source": [
    "X_train, X_test, y_train, y_test = train_test_split(x,y,test_size=0.3)\n",
    "\n",
    "pob = GradientBoostingClassifier(learning_rate=1.0, max_depth = 10)\n",
    "\n",
    "pob = pob.fit(X_train, y_train)     \n",
    "    \n",
    "# Luego predecimos y con las X de evaluación.\n",
    "y_pred = pob.predict(X_test)\n",
    "\n",
    "# Probabilidad de que Y tome valor 1 segun el valor de X \n",
    "y_pred_proba = pob.predict_proba(X_test)[:,1]\n",
    "\n",
    "#Valores de Accuracy\n",
    "accuracy_pob = accuracy_score(y_test, y_pred)\n",
    "\n",
    "#Matriz de confusión\n",
    "matriz_confusion = confusion_matrix(y_test, y_pred)\n",
    "\n",
    "#Valores de AUC\n",
    "auc = roc_auc_score(y_test, y_pred_proba)\n",
    "fpr, tpr, thresholds = roc_curve(y_test, y_pred_proba)\n",
    "\n",
    "#Curva ROC\n",
    "display = RocCurveDisplay(fpr=fpr, tpr=tpr, roc_auc=auc, estimator_name='Reg_log')\n",
    "def ROC(roc):\n",
    "        display.plot()  \n",
    "        plt.plot([0, 1], [0, 1], color='red', linestyle='--')\n",
    "        plt.show()\n",
    "ROC(display)\n",
    "\n",
    "# Error cuadrático medio\n",
    "        \n",
    "ecm = mean_squared_error(y_pred, y_test)\n",
    "\n",
    "matriz_confusion"
   ]
  },
  {
   "cell_type": "code",
   "execution_count": 73,
   "id": "cf929bc6",
   "metadata": {},
   "outputs": [
    {
     "data": {
      "text/plain": [
       "'eph_tree.pdf'"
      ]
     },
     "execution_count": 73,
     "metadata": {},
     "output_type": "execute_result"
    }
   ],
   "source": [
    "import graphviz\n",
    "from sklearn.tree import DecisionTreeClassifier, export_graphviz\n",
    "\n",
    "X_train, X_test, y_train, y_test = train_test_split(x,y,test_size=0.3)\n",
    "\n",
    "pob = pob = DecisionTreeClassifier(max_depth = 20)\n",
    "\n",
    "pob = pob.fit(X_train, y_train)     \n",
    "    \n",
    "# Luego predecimos y con las X de evaluación.\n",
    "y_pred = pob.predict(X_test)\n",
    "\n",
    "# Exportamos el arbol como pdf \n",
    "dot_data = export_graphviz(pob,\n",
    "                              max_depth = 3,\n",
    "                              impurity = True,\n",
    "                              rounded = True,\n",
    "                              feature_names = list(x),\n",
    "                              filled= True )\n",
    "graph = graphviz.Source(dot_data) \n",
    "graph.render(\"eph_tree\")"
   ]
  },
  {
   "cell_type": "code",
   "execution_count": 139,
   "id": "2b9ce92a",
   "metadata": {
    "scrolled": true
   },
   "outputs": [
    {
     "data": {
      "image/png": "[encoded data removed]",
      "text/plain": [
       "<Figure size 432x288 with 1 Axes>"
      ]
     },
     "metadata": {
      "needs_background": "light"
     },
     "output_type": "display_data"
    }
   ],
   "source": [
    "X_train, X_test, y_train, y_test = train_test_split(x,y,test_size=0.3)\n",
    "\n",
    "pob = LogisticRegression(penalty = \"l1\", max_iter = 10000, \n",
    "                         fit_intercept = False, solver = \"liblinear\", C = 100)\n",
    "\n",
    "pob = pob.fit(X_train, y_train)     \n",
    "    \n",
    "# Luego predecimos y con las X de evaluación.\n",
    "y_pred = pob.predict(X_test)\n",
    "\n",
    "# Probabilidad de que Y tome valor 1 segun el valor de X \n",
    "y_pred_proba = pob.predict_proba(X_test)[:,1]\n",
    "\n",
    "#Valores de Accuracy\n",
    "accuracy_pob = accuracy_score(y_test, y_pred)\n",
    "\n",
    "#Matriz de confusión\n",
    "matriz_confusion = confusion_matrix(y_test, y_pred)\n",
    "\n",
    "#Valores de AUC\n",
    "auc = roc_auc_score(y_test, y_pred_proba)\n",
    "fpr, tpr, thresholds = roc_curve(y_test, y_pred_proba)\n",
    "\n",
    "#Curva ROC\n",
    "display = RocCurveDisplay(fpr=fpr, tpr=tpr, roc_auc=auc, estimator_name='Reg_log')\n",
    "def ROC(roc):\n",
    "        display.plot()  \n",
    "        plt.plot([0, 1], [0, 1], color='red', linestyle='--')\n",
    "        plt.show()\n",
    "ROC(display)\n",
    "\n",
    "# Error cuadrático medio\n",
    "        \n",
    "ecm = mean_squared_error(y_pred, y_test)\n",
    "\n",
    "matriz_confusion\n",
    "\n",
    "coef = pob.coef_"
   ]
  },
  {
   "cell_type": "code",
   "execution_count": 137,
   "id": "5e13e1fe",
   "metadata": {},
   "outputs": [
    {
     "data": {
      "text/html": [
       "<div>\n",
       "<style scoped>\n",
       "    .dataframe tbody tr th:only-of-type {\n",
       "        vertical-align: middle;\n",
       "    }\n",
       "\n",
       "    .dataframe tbody tr th {\n",
       "        vertical-align: top;\n",
       "    }\n",
       "\n",
       "    .dataframe thead th {\n",
       "        text-align: right;\n",
       "    }\n",
       "</style>\n",
       "<table border=\"1\" class=\"dataframe\">\n",
       "  <thead>\n",
       "    <tr style=\"text-align: right;\">\n",
       "      <th></th>\n",
       "      <th>0</th>\n",
       "    </tr>\n",
       "  </thead>\n",
       "  <tbody>\n",
       "    <tr>\n",
       "      <th>(TRIMESTRE,)</th>\n",
       "      <td>-0.233298</td>\n",
       "    </tr>\n",
       "    <tr>\n",
       "      <th>(COMPONENTE,)</th>\n",
       "      <td>-0.060384</td>\n",
       "    </tr>\n",
       "    <tr>\n",
       "      <th>(AGLOMERADO,)</th>\n",
       "      <td>-0.009069</td>\n",
       "    </tr>\n",
       "    <tr>\n",
       "      <th>(MAS_500,)</th>\n",
       "      <td>-0.034754</td>\n",
       "    </tr>\n",
       "    <tr>\n",
       "      <th>(CH04,)</th>\n",
       "      <td>-0.009677</td>\n",
       "    </tr>\n",
       "    <tr>\n",
       "      <th>...</th>\n",
       "      <td>...</td>\n",
       "    </tr>\n",
       "    <tr>\n",
       "      <th>(DECOCUR,)</th>\n",
       "      <td>0.114819</td>\n",
       "    </tr>\n",
       "    <tr>\n",
       "      <th>(TOT_P12,)</th>\n",
       "      <td>0.000028</td>\n",
       "    </tr>\n",
       "    <tr>\n",
       "      <th>(P47T,)</th>\n",
       "      <td>0.000002</td>\n",
       "    </tr>\n",
       "    <tr>\n",
       "      <th>(pobre,)</th>\n",
       "      <td>1.016337</td>\n",
       "    </tr>\n",
       "    <tr>\n",
       "      <th>(inter,)</th>\n",
       "      <td>0.140484</td>\n",
       "    </tr>\n",
       "  </tbody>\n",
       "</table>\n",
       "<p>94 rows × 1 columns</p>\n",
       "</div>"
      ],
      "text/plain": [
       "                      0\n",
       "(TRIMESTRE,)  -0.233298\n",
       "(COMPONENTE,) -0.060384\n",
       "(AGLOMERADO,) -0.009069\n",
       "(MAS_500,)    -0.034754\n",
       "(CH04,)       -0.009677\n",
       "...                 ...\n",
       "(DECOCUR,)     0.114819\n",
       "(TOT_P12,)     0.000028\n",
       "(P47T,)        0.000002\n",
       "(pobre,)       1.016337\n",
       "(inter,)       0.140484\n",
       "\n",
       "[94 rows x 1 columns]"
      ]
     },
     "execution_count": 137,
     "metadata": {},
     "output_type": "execute_result"
    }
   ],
   "source": [
    "coefs"
   ]
  },
  {
   "cell_type": "code",
   "execution_count": 120,
   "id": "0e306b0a",
   "metadata": {},
   "outputs": [],
   "source": [
    "index=x.columns"
   ]
  },
  {
   "cell_type": "code",
   "execution_count": 126,
   "id": "2d47d6da",
   "metadata": {
    "scrolled": true
   },
   "outputs": [],
   "source": [
    "index = np.reshape(index, [94,1])"
   ]
  },
  {
   "cell_type": "code",
   "execution_count": 130,
   "id": "2f63a9d7",
   "metadata": {
    "scrolled": true
   },
   "outputs": [],
   "source": [
    "coefs = pd.DataFrame(coef, index)"
   ]
  },
  {
   "cell_type": "code",
   "execution_count": 128,
   "id": "94fd1955",
   "metadata": {
    "scrolled": true
   },
   "outputs": [],
   "source": [
    "coef = np.reshape(coef, [94,1])"
   ]
  },
  {
   "cell_type": "code",
   "execution_count": 77,
   "id": "a8523e03",
   "metadata": {},
   "outputs": [
    {
     "ename": "KeyboardInterrupt",
     "evalue": "",
     "output_type": "error",
     "traceback": [
      "\u001b[1;31m---------------------------------------------------------------------------\u001b[0m",
      "\u001b[1;31mKeyboardInterrupt\u001b[0m                         Traceback (most recent call last)",
      "\u001b[1;32m<ipython-input-77-9ed2056f6711>\u001b[0m in \u001b[0;36m<module>\u001b[1;34m\u001b[0m\n\u001b[1;32m----> 1\u001b[1;33m \u001b[0mevalua_metodo\u001b[0m\u001b[1;33m(\u001b[0m\u001b[0mX_train\u001b[0m\u001b[1;33m,\u001b[0m \u001b[0mX_test\u001b[0m\u001b[1;33m,\u001b[0m \u001b[0my_train\u001b[0m\u001b[1;33m,\u001b[0m \u001b[0my_test\u001b[0m\u001b[1;33m,\u001b[0m \u001b[1;34m\"ElasticNet\"\u001b[0m\u001b[1;33m,\u001b[0m \u001b[0mparametro\u001b[0m\u001b[1;33m=\u001b[0m\u001b[1;36m0.5\u001b[0m\u001b[1;33m)\u001b[0m\u001b[1;33m\u001b[0m\u001b[1;33m\u001b[0m\u001b[0m\n\u001b[0m",
      "\u001b[1;32m<ipython-input-48-8957bcbe6461>\u001b[0m in \u001b[0;36mevalua_metodo\u001b[1;34m(X_train, X_test, y_train, y_test, modelo, parametro)\u001b[0m\n\u001b[0;32m     51\u001b[0m \u001b[1;33m\u001b[0m\u001b[0m\n\u001b[0;32m     52\u001b[0m     \u001b[1;31m# Ajustamos el modelo\u001b[0m\u001b[1;33m\u001b[0m\u001b[1;33m\u001b[0m\u001b[1;33m\u001b[0m\u001b[0m\n\u001b[1;32m---> 53\u001b[1;33m     \u001b[0mpob\u001b[0m \u001b[1;33m=\u001b[0m \u001b[0mpob\u001b[0m\u001b[1;33m.\u001b[0m\u001b[0mfit\u001b[0m\u001b[1;33m(\u001b[0m\u001b[0mX_train\u001b[0m\u001b[1;33m,\u001b[0m \u001b[0my_train\u001b[0m\u001b[1;33m)\u001b[0m\u001b[1;33m\u001b[0m\u001b[1;33m\u001b[0m\u001b[0m\n\u001b[0m\u001b[0;32m     54\u001b[0m \u001b[1;33m\u001b[0m\u001b[0m\n\u001b[0;32m     55\u001b[0m     \u001b[1;31m# Luego predecimos y con las X de evaluación.\u001b[0m\u001b[1;33m\u001b[0m\u001b[1;33m\u001b[0m\u001b[1;33m\u001b[0m\u001b[0m\n",
      "\u001b[1;32m~\\anaconda3\\lib\\site-packages\\sklearn\\linear_model\\_logistic.py\u001b[0m in \u001b[0;36mfit\u001b[1;34m(self, X, y, sample_weight)\u001b[0m\n\u001b[0;32m   1404\u001b[0m         \u001b[1;32melse\u001b[0m\u001b[1;33m:\u001b[0m\u001b[1;33m\u001b[0m\u001b[1;33m\u001b[0m\u001b[0m\n\u001b[0;32m   1405\u001b[0m             \u001b[0mprefer\u001b[0m \u001b[1;33m=\u001b[0m \u001b[1;34m'processes'\u001b[0m\u001b[1;33m\u001b[0m\u001b[1;33m\u001b[0m\u001b[0m\n\u001b[1;32m-> 1406\u001b[1;33m         fold_coefs_ = Parallel(n_jobs=self.n_jobs, verbose=self.verbose,\n\u001b[0m\u001b[0;32m   1407\u001b[0m                                \u001b[1;33m**\u001b[0m\u001b[0m_joblib_parallel_args\u001b[0m\u001b[1;33m(\u001b[0m\u001b[0mprefer\u001b[0m\u001b[1;33m=\u001b[0m\u001b[0mprefer\u001b[0m\u001b[1;33m)\u001b[0m\u001b[1;33m)\u001b[0m\u001b[1;33m(\u001b[0m\u001b[1;33m\u001b[0m\u001b[1;33m\u001b[0m\u001b[0m\n\u001b[0;32m   1408\u001b[0m             path_func(X, y, pos_class=class_, Cs=[C_],\n",
      "\u001b[1;32m~\\anaconda3\\lib\\site-packages\\joblib\\parallel.py\u001b[0m in \u001b[0;36m__call__\u001b[1;34m(self, iterable)\u001b[0m\n\u001b[0;32m   1039\u001b[0m             \u001b[1;31m# remaining jobs.\u001b[0m\u001b[1;33m\u001b[0m\u001b[1;33m\u001b[0m\u001b[1;33m\u001b[0m\u001b[0m\n\u001b[0;32m   1040\u001b[0m             \u001b[0mself\u001b[0m\u001b[1;33m.\u001b[0m\u001b[0m_iterating\u001b[0m \u001b[1;33m=\u001b[0m \u001b[1;32mFalse\u001b[0m\u001b[1;33m\u001b[0m\u001b[1;33m\u001b[0m\u001b[0m\n\u001b[1;32m-> 1041\u001b[1;33m             \u001b[1;32mif\u001b[0m \u001b[0mself\u001b[0m\u001b[1;33m.\u001b[0m\u001b[0mdispatch_one_batch\u001b[0m\u001b[1;33m(\u001b[0m\u001b[0miterator\u001b[0m\u001b[1;33m)\u001b[0m\u001b[1;33m:\u001b[0m\u001b[1;33m\u001b[0m\u001b[1;33m\u001b[0m\u001b[0m\n\u001b[0m\u001b[0;32m   1042\u001b[0m                 \u001b[0mself\u001b[0m\u001b[1;33m.\u001b[0m\u001b[0m_iterating\u001b[0m \u001b[1;33m=\u001b[0m \u001b[0mself\u001b[0m\u001b[1;33m.\u001b[0m\u001b[0m_original_iterator\u001b[0m \u001b[1;32mis\u001b[0m \u001b[1;32mnot\u001b[0m \u001b[1;32mNone\u001b[0m\u001b[1;33m\u001b[0m\u001b[1;33m\u001b[0m\u001b[0m\n\u001b[0;32m   1043\u001b[0m \u001b[1;33m\u001b[0m\u001b[0m\n",
      "\u001b[1;32m~\\anaconda3\\lib\\site-packages\\joblib\\parallel.py\u001b[0m in \u001b[0;36mdispatch_one_batch\u001b[1;34m(self, iterator)\u001b[0m\n\u001b[0;32m    857\u001b[0m                 \u001b[1;32mreturn\u001b[0m \u001b[1;32mFalse\u001b[0m\u001b[1;33m\u001b[0m\u001b[1;33m\u001b[0m\u001b[0m\n\u001b[0;32m    858\u001b[0m             \u001b[1;32melse\u001b[0m\u001b[1;33m:\u001b[0m\u001b[1;33m\u001b[0m\u001b[1;33m\u001b[0m\u001b[0m\n\u001b[1;32m--> 859\u001b[1;33m                 \u001b[0mself\u001b[0m\u001b[1;33m.\u001b[0m\u001b[0m_dispatch\u001b[0m\u001b[1;33m(\u001b[0m\u001b[0mtasks\u001b[0m\u001b[1;33m)\u001b[0m\u001b[1;33m\u001b[0m\u001b[1;33m\u001b[0m\u001b[0m\n\u001b[0m\u001b[0;32m    860\u001b[0m                 \u001b[1;32mreturn\u001b[0m \u001b[1;32mTrue\u001b[0m\u001b[1;33m\u001b[0m\u001b[1;33m\u001b[0m\u001b[0m\n\u001b[0;32m    861\u001b[0m \u001b[1;33m\u001b[0m\u001b[0m\n",
      "\u001b[1;32m~\\anaconda3\\lib\\site-packages\\joblib\\parallel.py\u001b[0m in \u001b[0;36m_dispatch\u001b[1;34m(self, batch)\u001b[0m\n\u001b[0;32m    775\u001b[0m         \u001b[1;32mwith\u001b[0m \u001b[0mself\u001b[0m\u001b[1;33m.\u001b[0m\u001b[0m_lock\u001b[0m\u001b[1;33m:\u001b[0m\u001b[1;33m\u001b[0m\u001b[1;33m\u001b[0m\u001b[0m\n\u001b[0;32m    776\u001b[0m             \u001b[0mjob_idx\u001b[0m \u001b[1;33m=\u001b[0m \u001b[0mlen\u001b[0m\u001b[1;33m(\u001b[0m\u001b[0mself\u001b[0m\u001b[1;33m.\u001b[0m\u001b[0m_jobs\u001b[0m\u001b[1;33m)\u001b[0m\u001b[1;33m\u001b[0m\u001b[1;33m\u001b[0m\u001b[0m\n\u001b[1;32m--> 777\u001b[1;33m             \u001b[0mjob\u001b[0m \u001b[1;33m=\u001b[0m \u001b[0mself\u001b[0m\u001b[1;33m.\u001b[0m\u001b[0m_backend\u001b[0m\u001b[1;33m.\u001b[0m\u001b[0mapply_async\u001b[0m\u001b[1;33m(\u001b[0m\u001b[0mbatch\u001b[0m\u001b[1;33m,\u001b[0m \u001b[0mcallback\u001b[0m\u001b[1;33m=\u001b[0m\u001b[0mcb\u001b[0m\u001b[1;33m)\u001b[0m\u001b[1;33m\u001b[0m\u001b[1;33m\u001b[0m\u001b[0m\n\u001b[0m\u001b[0;32m    778\u001b[0m             \u001b[1;31m# A job can complete so quickly than its callback is\u001b[0m\u001b[1;33m\u001b[0m\u001b[1;33m\u001b[0m\u001b[1;33m\u001b[0m\u001b[0m\n\u001b[0;32m    779\u001b[0m             \u001b[1;31m# called before we get here, causing self._jobs to\u001b[0m\u001b[1;33m\u001b[0m\u001b[1;33m\u001b[0m\u001b[1;33m\u001b[0m\u001b[0m\n",
      "\u001b[1;32m~\\anaconda3\\lib\\site-packages\\joblib\\_parallel_backends.py\u001b[0m in \u001b[0;36mapply_async\u001b[1;34m(self, func, callback)\u001b[0m\n\u001b[0;32m    206\u001b[0m     \u001b[1;32mdef\u001b[0m \u001b[0mapply_async\u001b[0m\u001b[1;33m(\u001b[0m\u001b[0mself\u001b[0m\u001b[1;33m,\u001b[0m \u001b[0mfunc\u001b[0m\u001b[1;33m,\u001b[0m \u001b[0mcallback\u001b[0m\u001b[1;33m=\u001b[0m\u001b[1;32mNone\u001b[0m\u001b[1;33m)\u001b[0m\u001b[1;33m:\u001b[0m\u001b[1;33m\u001b[0m\u001b[1;33m\u001b[0m\u001b[0m\n\u001b[0;32m    207\u001b[0m         \u001b[1;34m\"\"\"Schedule a func to be run\"\"\"\u001b[0m\u001b[1;33m\u001b[0m\u001b[1;33m\u001b[0m\u001b[0m\n\u001b[1;32m--> 208\u001b[1;33m         \u001b[0mresult\u001b[0m \u001b[1;33m=\u001b[0m \u001b[0mImmediateResult\u001b[0m\u001b[1;33m(\u001b[0m\u001b[0mfunc\u001b[0m\u001b[1;33m)\u001b[0m\u001b[1;33m\u001b[0m\u001b[1;33m\u001b[0m\u001b[0m\n\u001b[0m\u001b[0;32m    209\u001b[0m         \u001b[1;32mif\u001b[0m \u001b[0mcallback\u001b[0m\u001b[1;33m:\u001b[0m\u001b[1;33m\u001b[0m\u001b[1;33m\u001b[0m\u001b[0m\n\u001b[0;32m    210\u001b[0m             \u001b[0mcallback\u001b[0m\u001b[1;33m(\u001b[0m\u001b[0mresult\u001b[0m\u001b[1;33m)\u001b[0m\u001b[1;33m\u001b[0m\u001b[1;33m\u001b[0m\u001b[0m\n",
      "\u001b[1;32m~\\anaconda3\\lib\\site-packages\\joblib\\_parallel_backends.py\u001b[0m in \u001b[0;36m__init__\u001b[1;34m(self, batch)\u001b[0m\n\u001b[0;32m    570\u001b[0m         \u001b[1;31m# Don't delay the application, to avoid keeping the input\u001b[0m\u001b[1;33m\u001b[0m\u001b[1;33m\u001b[0m\u001b[1;33m\u001b[0m\u001b[0m\n\u001b[0;32m    571\u001b[0m         \u001b[1;31m# arguments in memory\u001b[0m\u001b[1;33m\u001b[0m\u001b[1;33m\u001b[0m\u001b[1;33m\u001b[0m\u001b[0m\n\u001b[1;32m--> 572\u001b[1;33m         \u001b[0mself\u001b[0m\u001b[1;33m.\u001b[0m\u001b[0mresults\u001b[0m \u001b[1;33m=\u001b[0m \u001b[0mbatch\u001b[0m\u001b[1;33m(\u001b[0m\u001b[1;33m)\u001b[0m\u001b[1;33m\u001b[0m\u001b[1;33m\u001b[0m\u001b[0m\n\u001b[0m\u001b[0;32m    573\u001b[0m \u001b[1;33m\u001b[0m\u001b[0m\n\u001b[0;32m    574\u001b[0m     \u001b[1;32mdef\u001b[0m \u001b[0mget\u001b[0m\u001b[1;33m(\u001b[0m\u001b[0mself\u001b[0m\u001b[1;33m)\u001b[0m\u001b[1;33m:\u001b[0m\u001b[1;33m\u001b[0m\u001b[1;33m\u001b[0m\u001b[0m\n",
      "\u001b[1;32m~\\anaconda3\\lib\\site-packages\\joblib\\parallel.py\u001b[0m in \u001b[0;36m__call__\u001b[1;34m(self)\u001b[0m\n\u001b[0;32m    260\u001b[0m         \u001b[1;31m# change the default number of processes to -1\u001b[0m\u001b[1;33m\u001b[0m\u001b[1;33m\u001b[0m\u001b[1;33m\u001b[0m\u001b[0m\n\u001b[0;32m    261\u001b[0m         \u001b[1;32mwith\u001b[0m \u001b[0mparallel_backend\u001b[0m\u001b[1;33m(\u001b[0m\u001b[0mself\u001b[0m\u001b[1;33m.\u001b[0m\u001b[0m_backend\u001b[0m\u001b[1;33m,\u001b[0m \u001b[0mn_jobs\u001b[0m\u001b[1;33m=\u001b[0m\u001b[0mself\u001b[0m\u001b[1;33m.\u001b[0m\u001b[0m_n_jobs\u001b[0m\u001b[1;33m)\u001b[0m\u001b[1;33m:\u001b[0m\u001b[1;33m\u001b[0m\u001b[1;33m\u001b[0m\u001b[0m\n\u001b[1;32m--> 262\u001b[1;33m             return [func(*args, **kwargs)\n\u001b[0m\u001b[0;32m    263\u001b[0m                     for func, args, kwargs in self.items]\n\u001b[0;32m    264\u001b[0m \u001b[1;33m\u001b[0m\u001b[0m\n",
      "\u001b[1;32m~\\anaconda3\\lib\\site-packages\\joblib\\parallel.py\u001b[0m in \u001b[0;36m<listcomp>\u001b[1;34m(.0)\u001b[0m\n\u001b[0;32m    260\u001b[0m         \u001b[1;31m# change the default number of processes to -1\u001b[0m\u001b[1;33m\u001b[0m\u001b[1;33m\u001b[0m\u001b[1;33m\u001b[0m\u001b[0m\n\u001b[0;32m    261\u001b[0m         \u001b[1;32mwith\u001b[0m \u001b[0mparallel_backend\u001b[0m\u001b[1;33m(\u001b[0m\u001b[0mself\u001b[0m\u001b[1;33m.\u001b[0m\u001b[0m_backend\u001b[0m\u001b[1;33m,\u001b[0m \u001b[0mn_jobs\u001b[0m\u001b[1;33m=\u001b[0m\u001b[0mself\u001b[0m\u001b[1;33m.\u001b[0m\u001b[0m_n_jobs\u001b[0m\u001b[1;33m)\u001b[0m\u001b[1;33m:\u001b[0m\u001b[1;33m\u001b[0m\u001b[1;33m\u001b[0m\u001b[0m\n\u001b[1;32m--> 262\u001b[1;33m             return [func(*args, **kwargs)\n\u001b[0m\u001b[0;32m    263\u001b[0m                     for func, args, kwargs in self.items]\n\u001b[0;32m    264\u001b[0m \u001b[1;33m\u001b[0m\u001b[0m\n",
      "\u001b[1;32m~\\anaconda3\\lib\\site-packages\\sklearn\\utils\\fixes.py\u001b[0m in \u001b[0;36m__call__\u001b[1;34m(self, *args, **kwargs)\u001b[0m\n\u001b[0;32m    220\u001b[0m     \u001b[1;32mdef\u001b[0m \u001b[0m__call__\u001b[0m\u001b[1;33m(\u001b[0m\u001b[0mself\u001b[0m\u001b[1;33m,\u001b[0m \u001b[1;33m*\u001b[0m\u001b[0margs\u001b[0m\u001b[1;33m,\u001b[0m \u001b[1;33m**\u001b[0m\u001b[0mkwargs\u001b[0m\u001b[1;33m)\u001b[0m\u001b[1;33m:\u001b[0m\u001b[1;33m\u001b[0m\u001b[1;33m\u001b[0m\u001b[0m\n\u001b[0;32m    221\u001b[0m         \u001b[1;32mwith\u001b[0m \u001b[0mconfig_context\u001b[0m\u001b[1;33m(\u001b[0m\u001b[1;33m**\u001b[0m\u001b[0mself\u001b[0m\u001b[1;33m.\u001b[0m\u001b[0mconfig\u001b[0m\u001b[1;33m)\u001b[0m\u001b[1;33m:\u001b[0m\u001b[1;33m\u001b[0m\u001b[1;33m\u001b[0m\u001b[0m\n\u001b[1;32m--> 222\u001b[1;33m             \u001b[1;32mreturn\u001b[0m \u001b[0mself\u001b[0m\u001b[1;33m.\u001b[0m\u001b[0mfunction\u001b[0m\u001b[1;33m(\u001b[0m\u001b[1;33m*\u001b[0m\u001b[0margs\u001b[0m\u001b[1;33m,\u001b[0m \u001b[1;33m**\u001b[0m\u001b[0mkwargs\u001b[0m\u001b[1;33m)\u001b[0m\u001b[1;33m\u001b[0m\u001b[1;33m\u001b[0m\u001b[0m\n\u001b[0m",
      "\u001b[1;32m~\\anaconda3\\lib\\site-packages\\sklearn\\linear_model\\_logistic.py\u001b[0m in \u001b[0;36m_logistic_regression_path\u001b[1;34m(X, y, pos_class, Cs, fit_intercept, max_iter, tol, verbose, solver, coef, class_weight, dual, penalty, intercept_scaling, multi_class, random_state, check_input, max_squared_sum, sample_weight, l1_ratio)\u001b[0m\n\u001b[0;32m    796\u001b[0m                 \u001b[0mbeta\u001b[0m \u001b[1;33m=\u001b[0m \u001b[1;33m(\u001b[0m\u001b[1;36m1.\u001b[0m \u001b[1;33m/\u001b[0m \u001b[0mC\u001b[0m\u001b[1;33m)\u001b[0m \u001b[1;33m*\u001b[0m \u001b[0ml1_ratio\u001b[0m\u001b[1;33m\u001b[0m\u001b[1;33m\u001b[0m\u001b[0m\n\u001b[0;32m    797\u001b[0m \u001b[1;33m\u001b[0m\u001b[0m\n\u001b[1;32m--> 798\u001b[1;33m             w0, n_iter_i, warm_start_sag = sag_solver(\n\u001b[0m\u001b[0;32m    799\u001b[0m                 \u001b[0mX\u001b[0m\u001b[1;33m,\u001b[0m \u001b[0mtarget\u001b[0m\u001b[1;33m,\u001b[0m \u001b[0msample_weight\u001b[0m\u001b[1;33m,\u001b[0m \u001b[0mloss\u001b[0m\u001b[1;33m,\u001b[0m \u001b[0malpha\u001b[0m\u001b[1;33m,\u001b[0m\u001b[1;33m\u001b[0m\u001b[1;33m\u001b[0m\u001b[0m\n\u001b[0;32m    800\u001b[0m                 \u001b[0mbeta\u001b[0m\u001b[1;33m,\u001b[0m \u001b[0mmax_iter\u001b[0m\u001b[1;33m,\u001b[0m \u001b[0mtol\u001b[0m\u001b[1;33m,\u001b[0m\u001b[1;33m\u001b[0m\u001b[1;33m\u001b[0m\u001b[0m\n",
      "\u001b[1;32m~\\anaconda3\\lib\\site-packages\\sklearn\\utils\\validation.py\u001b[0m in \u001b[0;36minner_f\u001b[1;34m(*args, **kwargs)\u001b[0m\n\u001b[0;32m     61\u001b[0m             \u001b[0mextra_args\u001b[0m \u001b[1;33m=\u001b[0m \u001b[0mlen\u001b[0m\u001b[1;33m(\u001b[0m\u001b[0margs\u001b[0m\u001b[1;33m)\u001b[0m \u001b[1;33m-\u001b[0m \u001b[0mlen\u001b[0m\u001b[1;33m(\u001b[0m\u001b[0mall_args\u001b[0m\u001b[1;33m)\u001b[0m\u001b[1;33m\u001b[0m\u001b[1;33m\u001b[0m\u001b[0m\n\u001b[0;32m     62\u001b[0m             \u001b[1;32mif\u001b[0m \u001b[0mextra_args\u001b[0m \u001b[1;33m<=\u001b[0m \u001b[1;36m0\u001b[0m\u001b[1;33m:\u001b[0m\u001b[1;33m\u001b[0m\u001b[1;33m\u001b[0m\u001b[0m\n\u001b[1;32m---> 63\u001b[1;33m                 \u001b[1;32mreturn\u001b[0m \u001b[0mf\u001b[0m\u001b[1;33m(\u001b[0m\u001b[1;33m*\u001b[0m\u001b[0margs\u001b[0m\u001b[1;33m,\u001b[0m \u001b[1;33m**\u001b[0m\u001b[0mkwargs\u001b[0m\u001b[1;33m)\u001b[0m\u001b[1;33m\u001b[0m\u001b[1;33m\u001b[0m\u001b[0m\n\u001b[0m\u001b[0;32m     64\u001b[0m \u001b[1;33m\u001b[0m\u001b[0m\n\u001b[0;32m     65\u001b[0m             \u001b[1;31m# extra_args > 0\u001b[0m\u001b[1;33m\u001b[0m\u001b[1;33m\u001b[0m\u001b[1;33m\u001b[0m\u001b[0m\n",
      "\u001b[1;32m~\\anaconda3\\lib\\site-packages\\sklearn\\linear_model\\_sag.py\u001b[0m in \u001b[0;36msag_solver\u001b[1;34m(X, y, sample_weight, loss, alpha, beta, max_iter, tol, verbose, random_state, check_input, max_squared_sum, warm_start_mem, is_saga)\u001b[0m\n\u001b[0;32m    308\u001b[0m \u001b[1;33m\u001b[0m\u001b[0m\n\u001b[0;32m    309\u001b[0m     \u001b[0msag\u001b[0m \u001b[1;33m=\u001b[0m \u001b[0msag64\u001b[0m \u001b[1;32mif\u001b[0m \u001b[0mX\u001b[0m\u001b[1;33m.\u001b[0m\u001b[0mdtype\u001b[0m \u001b[1;33m==\u001b[0m \u001b[0mnp\u001b[0m\u001b[1;33m.\u001b[0m\u001b[0mfloat64\u001b[0m \u001b[1;32melse\u001b[0m \u001b[0msag32\u001b[0m\u001b[1;33m\u001b[0m\u001b[1;33m\u001b[0m\u001b[0m\n\u001b[1;32m--> 310\u001b[1;33m     num_seen, n_iter_ = sag(dataset, coef_init,\n\u001b[0m\u001b[0;32m    311\u001b[0m                             \u001b[0mintercept_init\u001b[0m\u001b[1;33m,\u001b[0m \u001b[0mn_samples\u001b[0m\u001b[1;33m,\u001b[0m\u001b[1;33m\u001b[0m\u001b[1;33m\u001b[0m\u001b[0m\n\u001b[0;32m    312\u001b[0m                             \u001b[0mn_features\u001b[0m\u001b[1;33m,\u001b[0m \u001b[0mn_classes\u001b[0m\u001b[1;33m,\u001b[0m \u001b[0mtol\u001b[0m\u001b[1;33m,\u001b[0m\u001b[1;33m\u001b[0m\u001b[1;33m\u001b[0m\u001b[0m\n",
      "\u001b[1;31mKeyboardInterrupt\u001b[0m: "
     ]
    }
   ],
   "source": [
    "evalua_metodo(X_train, X_test, y_train, y_test, \"ElasticNet\", parametro=0.5)"
   ]
  }
 ],
 "metadata": {
  "kernelspec": {
   "display_name": "Python 3",
   "language": "python",
   "name": "python3"
  },
  "language_info": {
   "codemirror_mode": {
    "name": "ipython",
    "version": 3
   },
   "file_extension": ".py",
   "mimetype": "text/x-python",
   "name": "python",
   "nbconvert_exporter": "python",
   "pygments_lexer": "ipython3",
   "version": "3.8.8"
  }
 },
 "nbformat": 4,
 "nbformat_minor": 5
}
